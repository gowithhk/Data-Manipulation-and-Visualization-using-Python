{
  "nbformat": 4,
  "nbformat_minor": 0,
  "metadata": {
    "colab": {
      "name": "Data Manipulation and Visualization using Python.ipynb",
      "provenance": [],
      "collapsed_sections": []
    },
    "kernelspec": {
      "display_name": "Python 3",
      "name": "python3"
    },
    "language_info": {
      "name": "python"
    }
  },
  "cells": [
    {
      "cell_type": "markdown",
      "metadata": {
        "id": "Y9WhmWetguV8"
      },
      "source": [
        "# About the Project\n",
        "\n",
        "This project is more of a training module which helps you understand how data manipulation and visualization can be done on Python. It will take multiple smaller datasets or will create dataframes to teach important concepts that we use in common data manipulation and visualization.\n",
        "\n",
        "The project will be focused around the use of Pandas and MatPlotLib libraries of Python programming. In a professional setting, you would work on larger datasets however, the same concepts are going to be applied on smaller datasets in this project."
      ]
    },
    {
      "cell_type": "markdown",
      "metadata": {
        "id": "f4syIiTwzImo"
      },
      "source": [
        "# How to work on this project\n",
        "\n",
        "Since it is more of a training module, you are required to read the concepts and concepts written and follow the instructions to answer the questions or get desired output.\n",
        "\n",
        "Suggested resources and links are mentioned in the Notebook for certain concepts. You can open the links and read/watch the content to get an understanding of the concepts."
      ]
    },
    {
      "cell_type": "markdown",
      "metadata": {
        "id": "BFCkNDPCyt2S"
      },
      "source": [
        "# Pandas in Python\n",
        "\n",
        "Pandas is a software library written for the Python programming language for data manipulation and analysis. In particular, it offers data structures and operations for manipulating numerical tables and time series. \n",
        "\n",
        "When the values are in a table, the table in Python programming is called a dataframe. \n",
        "Basically, dataframes are nothing but variables with values in structured data format.\n",
        "\n",
        "Pandas library is used to view, manipulate (modify) and analyse dataframes which are 2-D or 3-D in nature."
      ]
    },
    {
      "cell_type": "markdown",
      "metadata": {
        "id": "Oy2DTaIN0lon"
      },
      "source": [
        "# Matplotlib in Python\n",
        "\n",
        "Matplotlib is a plotting library in Python. It is used for creating static, animated, and interactive visualizations in Python.\n",
        "In this project, we will use some modules of matplotlib library to create line, bar, column and pie charts with customized formatting to visualize certain data."
      ]
    },
    {
      "cell_type": "markdown",
      "metadata": {
        "id": "bRMhu3Hm0Hv8"
      },
      "source": [
        "# Getting data imported to Python\n",
        "\n",
        "Pandas ibrary supporting loading data from various online and offline sources to Python. It can fetch data from CSV, EXCEL, TEXT or from any website (URL) or servers as well. \n",
        "\n",
        "### 1. Import CSV files\n",
        "It is important to note that a singlebackslash does not work when specifying the file path. You need to either change it to forward slash or add one more backslash like below\n",
        "\n",
        "  import pandas as pd   # Here, pandas is library and pd is its alias name.\n",
        "\n",
        "  mydata= pd.read_csv(\"C:\\\\Users\\\\AINE AI\\\\VIP\\\\filename.csv\")\n",
        "\n",
        "or\n",
        "\n",
        "  import pandas as pd\n",
        "\n",
        "  mydata= pd.read_csv(\"C:/Users/AINE AI/VIP/filename.csv\")\n",
        "\n",
        "### 2. Import File from URL\n",
        "You don't need to perform additional steps to fetch data from URL. Simply put URL in read_csv() function (applicable only for CSV files stored in URL).\n",
        "mydata = pd.read_csv(\"http://winterolympicsmedals.com/medals.csv\")\n",
        "\n",
        "### 3. Read Text File\n",
        "We can use read_table() function to pull data from text file. We can also use read_csv() with sep= \"\\t\" to read data from tab-separated file.\n",
        "\n",
        "mydata = pd.read_table(\"C:/Users/AINE AI/VIP/filename.txt\")\n",
        "\n",
        "mydata = pd.read_csv(\"C:/Users/AINE AI/VIP/filename.txt\", sep =\"\\t\")\n",
        "\n",
        "### 4. Read Excel File\n",
        "\n",
        "The read_excel() function can be used to import excel data into Python.\n",
        "mydata = pd.read_excel(\"https://www.eia.gov/dnav/pet/hist_xls/RBRTEd.xls\",sheetname=\"Data 1\", skiprows=2)\n",
        "\n",
        "And many more functions to fetch data from different file types and sources.\n",
        "\n",
        "Notice that all of the above mentioned functions (read_csv and read_table) had pd. before them. That means, those functions are part of pandas library and **pd** is an alias name for pandas.\n",
        "\n",
        "### Datasets for this project are as below. Please download them all.\n",
        "1. brics.csv : https://drive.google.com/file/d/1M5Cwbsg7_wCV1jIqx9r0Y3Iw7oEAH9n-/view?usp=sharing\n",
        "2. cars.csv : https://drive.google.com/file/d/1jKBYa6NyEiBmaeXdfoYe3CxFGPT89Hr1/view?usp=sharing\n",
        "3. marks.csv : https://drive.google.com/file/d/1U3DiTOcrhKI-5_jRttZqX4F1mup0QPZp/view?usp=sharing\n",
        "4. mtcars.csv : https://drive.google.com/file/d/1Za1B2Nt_VuEDrSznS6PN5BM4c0pEOQm5/view?usp=sharing"
      ]
    },
    {
      "cell_type": "markdown",
      "metadata": {
        "id": "NVSanQztiWsO"
      },
      "source": [
        "### Adding comments in a Code cell\n",
        "\n",
        "Comments are an excellent way to explain what we are doing in a code cell. Just add a hashtag sign (#) in front of the line/text you want to make as a comment.\n",
        "\n",
        "1. Go to a line or select multiple lines in a Code Cell which you want to convert as comment.\n",
        "2. Press Ctrl + / "
      ]
    },
    {
      "cell_type": "code",
      "metadata": {
        "id": "2itcU6RwDHOY"
      },
      "source": [
        "# Step 1: Run this code cell. It will show up as Syntax Error\n",
        "# Step 2: Select these two lines, press Ctrl + / to make these as comments and then run the cell."
      ],
      "execution_count": null,
      "outputs": []
    },
    {
      "cell_type": "markdown",
      "metadata": {
        "id": "2Snmyb3lCZ2s"
      },
      "source": [
        "### Importing pandas library\n",
        "\n",
        "There are different pandas functions used to import different file types. To use any of those functions, the first thing we need to do is to import pandas library. If you are using Google Colab or Jupyter Notebook on Anaconda Navigator, most probably it should alreay been installed. Hence, you need to just import pandas."
      ]
    },
    {
      "cell_type": "code",
      "metadata": {
        "id": "wupRVzU-AHan"
      },
      "source": [
        "# TO DO: Import pandas library as an alias name (nickname) pd\n",
        "# Syntax hint: import libraryname as aliasname\n",
        "\n",
        "import pandas as pd"
      ],
      "execution_count": null,
      "outputs": []
    },
    {
      "cell_type": "markdown",
      "metadata": {
        "id": "oZPFgWytDP_f"
      },
      "source": [
        "### If using Google Colab and data is on local disk\n",
        "\n",
        "In this case, you need to first upload the file in file and use read_csv or read_excel functions to read the file as a dataframe."
      ]
    },
    {
      "cell_type": "code",
      "metadata": {
        "colab": {
          "resources": {
            "http://localhost:8080/nbextensions/google.colab/files.js": {
              "data": "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",
              "ok": true,
              "headers": [
                [
                  "content-type",
                  "application/javascript"
                ]
              ],
              "status": 200,
              "status_text": ""
            }
          },
          "base_uri": "https://localhost:8080/",
          "height": 174
        },
        "id": "lCuHaZ_ADPma",
        "outputId": "79390362-aaba-4325-99b3-7ae2ed60a7cc"
      },
      "source": [
        "# Run this code first two upload the file. Make sure you have imported pandas in the previous code cell. Else, import here.\n",
        "\n",
        "from google.colab import files\n",
        "uploaded = files.upload()"
      ],
      "execution_count": null,
      "outputs": [
        {
          "output_type": "display_data",
          "data": {
            "text/html": [
              "\n",
              "     <input type=\"file\" id=\"files-179fa4a6-9cb1-4d06-83d0-03d1138b4a9e\" name=\"files[]\" multiple disabled\n",
              "        style=\"border:none\" />\n",
              "     <output id=\"result-179fa4a6-9cb1-4d06-83d0-03d1138b4a9e\">\n",
              "      Upload widget is only available when the cell has been executed in the\n",
              "      current browser session. Please rerun this cell to enable.\n",
              "      </output>\n",
              "      <script src=\"/nbextensions/google.colab/files.js\"></script> "
            ],
            "text/plain": [
              "<IPython.core.display.HTML object>"
            ]
          },
          "metadata": {
            "tags": []
          }
        },
        {
          "output_type": "stream",
          "text": [
            "Saving mtcars.csv to mtcars.csv\n",
            "Saving marks.csv to marks.csv\n",
            "Saving cars.csv to cars.csv\n",
            "Saving brics.csv to brics.csv\n"
          ],
          "name": "stdout"
        }
      ]
    },
    {
      "cell_type": "code",
      "metadata": {
        "colab": {
          "base_uri": "https://localhost:8080/",
          "height": 204
        },
        "id": "v2H1SsIWDNRu",
        "outputId": "242cb3de-cacf-4d10-e5ea-00cb0557feaa"
      },
      "source": [
        "# Coninuation of the previous code cell. \n",
        "'''\n",
        "The io module provides Python's main facilities for dealing with various types of I/O. \n",
        "There are three main types of I/O: text I/O, binary I/O and raw I/O. \n",
        "'''\n",
        "\n",
        "import io\n",
        "brics = pd.read_csv(io.BytesIO(uploaded['brics.csv']))     # We are trying to work on brics.csv dataset\n",
        "# Dataset is now stored in a Pandas Dataframe\n",
        "\n",
        "brics   # Printing dataframe without the print() function. "
      ],
      "execution_count": null,
      "outputs": [
        {
          "output_type": "execute_result",
          "data": {
            "text/html": [
              "<div>\n",
              "<style scoped>\n",
              "    .dataframe tbody tr th:only-of-type {\n",
              "        vertical-align: middle;\n",
              "    }\n",
              "\n",
              "    .dataframe tbody tr th {\n",
              "        vertical-align: top;\n",
              "    }\n",
              "\n",
              "    .dataframe thead th {\n",
              "        text-align: right;\n",
              "    }\n",
              "</style>\n",
              "<table border=\"1\" class=\"dataframe\">\n",
              "  <thead>\n",
              "    <tr style=\"text-align: right;\">\n",
              "      <th></th>\n",
              "      <th>code</th>\n",
              "      <th>country</th>\n",
              "      <th>population</th>\n",
              "      <th>area</th>\n",
              "      <th>capital</th>\n",
              "    </tr>\n",
              "  </thead>\n",
              "  <tbody>\n",
              "    <tr>\n",
              "      <th>0</th>\n",
              "      <td>BR</td>\n",
              "      <td>Brazil</td>\n",
              "      <td>200</td>\n",
              "      <td>8515767</td>\n",
              "      <td>Brasilia</td>\n",
              "    </tr>\n",
              "    <tr>\n",
              "      <th>1</th>\n",
              "      <td>RU</td>\n",
              "      <td>Russia</td>\n",
              "      <td>144</td>\n",
              "      <td>17098242</td>\n",
              "      <td>Moscow</td>\n",
              "    </tr>\n",
              "    <tr>\n",
              "      <th>2</th>\n",
              "      <td>IN</td>\n",
              "      <td>India</td>\n",
              "      <td>1252</td>\n",
              "      <td>3287590</td>\n",
              "      <td>New Delhi</td>\n",
              "    </tr>\n",
              "    <tr>\n",
              "      <th>3</th>\n",
              "      <td>CH</td>\n",
              "      <td>China</td>\n",
              "      <td>1357</td>\n",
              "      <td>9596961</td>\n",
              "      <td>Beijing</td>\n",
              "    </tr>\n",
              "    <tr>\n",
              "      <th>4</th>\n",
              "      <td>SA</td>\n",
              "      <td>South Africa</td>\n",
              "      <td>55</td>\n",
              "      <td>1221037</td>\n",
              "      <td>Pretoria</td>\n",
              "    </tr>\n",
              "  </tbody>\n",
              "</table>\n",
              "</div>"
            ],
            "text/plain": [
              "  code       country  population      area    capital\n",
              "0   BR        Brazil         200   8515767   Brasilia\n",
              "1   RU        Russia         144  17098242     Moscow\n",
              "2   IN         India        1252   3287590  New Delhi\n",
              "3   CH         China        1357   9596961    Beijing\n",
              "4   SA  South Africa          55   1221037   Pretoria"
            ]
          },
          "metadata": {
            "tags": []
          },
          "execution_count": 3
        }
      ]
    },
    {
      "cell_type": "code",
      "metadata": {
        "colab": {
          "base_uri": "https://localhost:8080/"
        },
        "id": "VtcuDgw5hmYr",
        "outputId": "b54a649e-a3b8-4d49-b4f1-9e04eca3ce4e"
      },
      "source": [
        "# TO DO: Try printing the dataframe once using print() and once without print(). Do you observe any difference?\n",
        "\n",
        "print(brics)"
      ],
      "execution_count": null,
      "outputs": [
        {
          "output_type": "stream",
          "text": [
            "  code       country  population      area    capital\n",
            "0   BR        Brazil         200   8515767   Brasilia\n",
            "1   RU        Russia         144  17098242     Moscow\n",
            "2   IN         India        1252   3287590  New Delhi\n",
            "3   CH         China        1357   9596961    Beijing\n",
            "4   SA  South Africa          55   1221037   Pretoria\n"
          ],
          "name": "stdout"
        }
      ]
    },
    {
      "cell_type": "markdown",
      "metadata": {
        "id": "8NTEY9cXMvjg"
      },
      "source": [
        "### If the data is uploaded on Jupyter Notebook and is saved in the same location where this Python Notebook is\n",
        "\n",
        "Suppose your data and the Notebook are in the same location/folder in Jupyter Notebook, you can just 'read' the data without mentioning any directory/source path."
      ]
    },
    {
      "cell_type": "code",
      "metadata": {
        "colab": {
          "base_uri": "https://localhost:8080/",
          "height": 204
        },
        "id": "Rrub8vTtMtgm",
        "outputId": "8971a92e-0dd2-4535-c818-dbf3297df2da"
      },
      "source": [
        "# If the file is uploaded on Jupyter Notebook\n",
        "\n",
        "brics = pd.read_csv(\"brics.csv\")      # importing brics.csv dataset and converting the table into a dataframe (pandas table).\n",
        "\n",
        "brics"
      ],
      "execution_count": null,
      "outputs": [
        {
          "output_type": "execute_result",
          "data": {
            "text/html": [
              "<div>\n",
              "<style scoped>\n",
              "    .dataframe tbody tr th:only-of-type {\n",
              "        vertical-align: middle;\n",
              "    }\n",
              "\n",
              "    .dataframe tbody tr th {\n",
              "        vertical-align: top;\n",
              "    }\n",
              "\n",
              "    .dataframe thead th {\n",
              "        text-align: right;\n",
              "    }\n",
              "</style>\n",
              "<table border=\"1\" class=\"dataframe\">\n",
              "  <thead>\n",
              "    <tr style=\"text-align: right;\">\n",
              "      <th></th>\n",
              "      <th>code</th>\n",
              "      <th>country</th>\n",
              "      <th>population</th>\n",
              "      <th>area</th>\n",
              "      <th>capital</th>\n",
              "    </tr>\n",
              "  </thead>\n",
              "  <tbody>\n",
              "    <tr>\n",
              "      <th>0</th>\n",
              "      <td>BR</td>\n",
              "      <td>Brazil</td>\n",
              "      <td>200</td>\n",
              "      <td>8515767</td>\n",
              "      <td>Brasilia</td>\n",
              "    </tr>\n",
              "    <tr>\n",
              "      <th>1</th>\n",
              "      <td>RU</td>\n",
              "      <td>Russia</td>\n",
              "      <td>144</td>\n",
              "      <td>17098242</td>\n",
              "      <td>Moscow</td>\n",
              "    </tr>\n",
              "    <tr>\n",
              "      <th>2</th>\n",
              "      <td>IN</td>\n",
              "      <td>India</td>\n",
              "      <td>1252</td>\n",
              "      <td>3287590</td>\n",
              "      <td>New Delhi</td>\n",
              "    </tr>\n",
              "    <tr>\n",
              "      <th>3</th>\n",
              "      <td>CH</td>\n",
              "      <td>China</td>\n",
              "      <td>1357</td>\n",
              "      <td>9596961</td>\n",
              "      <td>Beijing</td>\n",
              "    </tr>\n",
              "    <tr>\n",
              "      <th>4</th>\n",
              "      <td>SA</td>\n",
              "      <td>South Africa</td>\n",
              "      <td>55</td>\n",
              "      <td>1221037</td>\n",
              "      <td>Pretoria</td>\n",
              "    </tr>\n",
              "  </tbody>\n",
              "</table>\n",
              "</div>"
            ],
            "text/plain": [
              "  code       country  population      area    capital\n",
              "0   BR        Brazil         200   8515767   Brasilia\n",
              "1   RU        Russia         144  17098242     Moscow\n",
              "2   IN         India        1252   3287590  New Delhi\n",
              "3   CH         China        1357   9596961    Beijing\n",
              "4   SA  South Africa          55   1221037   Pretoria"
            ]
          },
          "metadata": {
            "tags": []
          },
          "execution_count": 5
        }
      ]
    },
    {
      "cell_type": "markdown",
      "metadata": {
        "id": "b2Ev7eqtTt2v"
      },
      "source": [
        "### If data is in local system/disk.\n",
        "\n",
        "If data is on local system and you want to import it in Jupyter Notebook, then use read_csv and the full-path of the file address."
      ]
    },
    {
      "cell_type": "code",
      "metadata": {
        "id": "Nh5EGcClUUZm"
      },
      "source": [
        "# Getting data from local location in our system.\n",
        "brics = pd.read_csv(\"D:/IDM Downloads/Certifications/AINE AI DATA SCIENCE INTERNSHIP/Projects/Project 6 - Data Manipulation and Visualization using Python/brics.csv\")  # Change this path as per your folder arrangements.\n",
        "\n",
        "# Make sure the folder names are seperated by either a forward slash (/)or two backward slashes (\\\\) in the above code.\n",
        "\n",
        "brics"
      ],
      "execution_count": null,
      "outputs": []
    },
    {
      "cell_type": "code",
      "metadata": {
        "colab": {
          "base_uri": "https://localhost:8080/"
        },
        "id": "26Oosb1tVgIX",
        "outputId": "ac203c95-5f0f-42d0-c14f-7820c0f2e60e"
      },
      "source": [
        "# Data type of any variable can be seen using the function type()\n",
        "\n",
        "print(type(5))\n",
        "print(type('a text'))\n",
        "print(type(True))\n",
        "print(type(brics))         # datatype of the dataframe created above"
      ],
      "execution_count": null,
      "outputs": [
        {
          "output_type": "stream",
          "text": [
            "<class 'int'>\n",
            "<class 'str'>\n",
            "<class 'bool'>\n",
            "<class 'pandas.core.frame.DataFrame'>\n"
          ],
          "name": "stdout"
        }
      ]
    },
    {
      "cell_type": "markdown",
      "metadata": {
        "id": "jzmIJdNEVYEa"
      },
      "source": [
        "### Explore the dataframe\n",
        "\n",
        "Intial exploration should be done on any dataset to understand the variables/columns, values, data types and the structure of the data."
      ]
    },
    {
      "cell_type": "code",
      "metadata": {
        "colab": {
          "base_uri": "https://localhost:8080/"
        },
        "id": "adCtIDS1a14T",
        "outputId": "e111b1a4-9762-467f-f64d-591d37b8b94d"
      },
      "source": [
        "'''\n",
        "The info() function is used to print a concise summary of a DataFrame. \n",
        "This method prints information about a DataFrame including the index dtype and column dtypes, \n",
        "non-null values and memory usage.\n",
        "'''\n",
        "brics.info()\n",
        "\n",
        "# Object dtype can store variables with any or mixed data types"
      ],
      "execution_count": null,
      "outputs": [
        {
          "output_type": "stream",
          "text": [
            "<class 'pandas.core.frame.DataFrame'>\n",
            "RangeIndex: 5 entries, 0 to 4\n",
            "Data columns (total 5 columns):\n",
            " #   Column      Non-Null Count  Dtype \n",
            "---  ------      --------------  ----- \n",
            " 0   code        5 non-null      object\n",
            " 1   country     5 non-null      object\n",
            " 2   population  5 non-null      int64 \n",
            " 3   area        5 non-null      int64 \n",
            " 4   capital     5 non-null      object\n",
            "dtypes: int64(2), object(3)\n",
            "memory usage: 328.0+ bytes\n"
          ],
          "name": "stdout"
        }
      ]
    },
    {
      "cell_type": "markdown",
      "metadata": {
        "id": "U-92nqK7byLO"
      },
      "source": [
        "#### ! Resources\n",
        "\n",
        "The best thing about Python is that the concepts, functions, libraries - all are well documented and queries related to almost everything can be found on many reliable sources. \n",
        "\n",
        "To learn about the functions in pandas library, you can refer to this page:\n",
        "https://pandas.pydata.org/pandas-docs/stable/reference/api/pandas.DataFrame.dtypes.html\n",
        "\n",
        "If you are a beginner in Python and dataframes, https://www.w3schools.com/python/ can be a great resource for you."
      ]
    },
    {
      "cell_type": "code",
      "metadata": {
        "colab": {
          "base_uri": "https://localhost:8080/"
        },
        "id": "Tl91nRCabxqS",
        "outputId": "b35e20e6-7988-4b9d-85eb-2d3ea7661f4e"
      },
      "source": [
        "#value_counts() function returns object containing counts of unique values. \n",
        "#The resulting object will be in descending order so that the first element is the most frequently-occurring element. \n",
        "#Excludes NA values by default.\n",
        "\n",
        "# TO DO: use value_counts() in the brics dataframe to explore the data.\n",
        "brics.value_counts()\n"
      ],
      "execution_count": null,
      "outputs": [
        {
          "output_type": "execute_result",
          "data": {
            "text/plain": [
              "code  country       population  area      capital  \n",
              "SA    South Africa  55          1221037   Pretoria     1\n",
              "RU    Russia        144         17098242  Moscow       1\n",
              "IN    India         1252        3287590   New Delhi    1\n",
              "CH    China         1357        9596961   Beijing      1\n",
              "BR    Brazil        200         8515767   Brasilia     1\n",
              "dtype: int64"
            ]
          },
          "metadata": {
            "tags": []
          },
          "execution_count": 8
        }
      ]
    },
    {
      "cell_type": "code",
      "metadata": {
        "id": "oXXx48VSe4G9"
      },
      "source": [
        "# When the dataset is large and you want to sort the data by ascending or descending order to look at largest or smallest values.\n",
        "\n",
        "# Ascending order by column code. Uncomment the lines to run them.\n",
        "brics.sort_values(by=['code'])   # Ascending by default.\n",
        "# or\n",
        "brics.sort_values(by=['code'], ascending = True)  # No need to mention\n"
      ],
      "execution_count": null,
      "outputs": []
    },
    {
      "cell_type": "code",
      "metadata": {
        "colab": {
          "base_uri": "https://localhost:8080/",
          "height": 204
        },
        "id": "feK8VemJhNQV",
        "outputId": "fe1f3d86-30f0-41b5-c6a5-cecbc0fa7218"
      },
      "source": [
        "# Sorting in descending order.\n",
        "brics.sort_values(by=['code'], ascending = False)  "
      ],
      "execution_count": null,
      "outputs": [
        {
          "output_type": "execute_result",
          "data": {
            "text/html": [
              "<div>\n",
              "<style scoped>\n",
              "    .dataframe tbody tr th:only-of-type {\n",
              "        vertical-align: middle;\n",
              "    }\n",
              "\n",
              "    .dataframe tbody tr th {\n",
              "        vertical-align: top;\n",
              "    }\n",
              "\n",
              "    .dataframe thead th {\n",
              "        text-align: right;\n",
              "    }\n",
              "</style>\n",
              "<table border=\"1\" class=\"dataframe\">\n",
              "  <thead>\n",
              "    <tr style=\"text-align: right;\">\n",
              "      <th></th>\n",
              "      <th>code</th>\n",
              "      <th>country</th>\n",
              "      <th>population</th>\n",
              "      <th>area</th>\n",
              "      <th>capital</th>\n",
              "    </tr>\n",
              "  </thead>\n",
              "  <tbody>\n",
              "    <tr>\n",
              "      <th>4</th>\n",
              "      <td>SA</td>\n",
              "      <td>South Africa</td>\n",
              "      <td>55</td>\n",
              "      <td>1221037</td>\n",
              "      <td>Pretoria</td>\n",
              "    </tr>\n",
              "    <tr>\n",
              "      <th>1</th>\n",
              "      <td>RU</td>\n",
              "      <td>Russia</td>\n",
              "      <td>144</td>\n",
              "      <td>17098242</td>\n",
              "      <td>Moscow</td>\n",
              "    </tr>\n",
              "    <tr>\n",
              "      <th>2</th>\n",
              "      <td>IN</td>\n",
              "      <td>India</td>\n",
              "      <td>1252</td>\n",
              "      <td>3287590</td>\n",
              "      <td>New Delhi</td>\n",
              "    </tr>\n",
              "    <tr>\n",
              "      <th>3</th>\n",
              "      <td>CH</td>\n",
              "      <td>China</td>\n",
              "      <td>1357</td>\n",
              "      <td>9596961</td>\n",
              "      <td>Beijing</td>\n",
              "    </tr>\n",
              "    <tr>\n",
              "      <th>0</th>\n",
              "      <td>BR</td>\n",
              "      <td>Brazil</td>\n",
              "      <td>200</td>\n",
              "      <td>8515767</td>\n",
              "      <td>Brasilia</td>\n",
              "    </tr>\n",
              "  </tbody>\n",
              "</table>\n",
              "</div>"
            ],
            "text/plain": [
              "  code       country  population      area    capital\n",
              "4   SA  South Africa          55   1221037   Pretoria\n",
              "1   RU        Russia         144  17098242     Moscow\n",
              "2   IN         India        1252   3287590  New Delhi\n",
              "3   CH         China        1357   9596961    Beijing\n",
              "0   BR        Brazil         200   8515767   Brasilia"
            ]
          },
          "metadata": {
            "tags": []
          },
          "execution_count": 9
        }
      ]
    },
    {
      "cell_type": "code",
      "metadata": {
        "colab": {
          "base_uri": "https://localhost:8080/",
          "height": 204
        },
        "id": "KAMli6nKhUrz",
        "outputId": "8fbaf18d-2010-4882-b9c9-ca7855972729"
      },
      "source": [
        "# TO DO: Do you think sorting the data changes the data in original dataframe? \n",
        "# print the dataframe and observe the output to get the answer.\n",
        "brics"
      ],
      "execution_count": null,
      "outputs": [
        {
          "output_type": "execute_result",
          "data": {
            "text/html": [
              "<div>\n",
              "<style scoped>\n",
              "    .dataframe tbody tr th:only-of-type {\n",
              "        vertical-align: middle;\n",
              "    }\n",
              "\n",
              "    .dataframe tbody tr th {\n",
              "        vertical-align: top;\n",
              "    }\n",
              "\n",
              "    .dataframe thead th {\n",
              "        text-align: right;\n",
              "    }\n",
              "</style>\n",
              "<table border=\"1\" class=\"dataframe\">\n",
              "  <thead>\n",
              "    <tr style=\"text-align: right;\">\n",
              "      <th></th>\n",
              "      <th>code</th>\n",
              "      <th>country</th>\n",
              "      <th>population</th>\n",
              "      <th>area</th>\n",
              "      <th>capital</th>\n",
              "    </tr>\n",
              "  </thead>\n",
              "  <tbody>\n",
              "    <tr>\n",
              "      <th>0</th>\n",
              "      <td>BR</td>\n",
              "      <td>Brazil</td>\n",
              "      <td>200</td>\n",
              "      <td>8515767</td>\n",
              "      <td>Brasilia</td>\n",
              "    </tr>\n",
              "    <tr>\n",
              "      <th>1</th>\n",
              "      <td>RU</td>\n",
              "      <td>Russia</td>\n",
              "      <td>144</td>\n",
              "      <td>17098242</td>\n",
              "      <td>Moscow</td>\n",
              "    </tr>\n",
              "    <tr>\n",
              "      <th>2</th>\n",
              "      <td>IN</td>\n",
              "      <td>India</td>\n",
              "      <td>1252</td>\n",
              "      <td>3287590</td>\n",
              "      <td>New Delhi</td>\n",
              "    </tr>\n",
              "    <tr>\n",
              "      <th>3</th>\n",
              "      <td>CH</td>\n",
              "      <td>China</td>\n",
              "      <td>1357</td>\n",
              "      <td>9596961</td>\n",
              "      <td>Beijing</td>\n",
              "    </tr>\n",
              "    <tr>\n",
              "      <th>4</th>\n",
              "      <td>SA</td>\n",
              "      <td>South Africa</td>\n",
              "      <td>55</td>\n",
              "      <td>1221037</td>\n",
              "      <td>Pretoria</td>\n",
              "    </tr>\n",
              "  </tbody>\n",
              "</table>\n",
              "</div>"
            ],
            "text/plain": [
              "  code       country  population      area    capital\n",
              "0   BR        Brazil         200   8515767   Brasilia\n",
              "1   RU        Russia         144  17098242     Moscow\n",
              "2   IN         India        1252   3287590  New Delhi\n",
              "3   CH         China        1357   9596961    Beijing\n",
              "4   SA  South Africa          55   1221037   Pretoria"
            ]
          },
          "metadata": {
            "tags": []
          },
          "execution_count": 10
        }
      ]
    },
    {
      "cell_type": "code",
      "metadata": {
        "colab": {
          "base_uri": "https://localhost:8080/",
          "height": 204
        },
        "id": "6tnBoufxh1yA",
        "outputId": "e27760b5-ef3b-44ba-ce2c-2451801e2b67"
      },
      "source": [
        "# TO DO: Sort the data to see which country has largest population ( population is in millions).\n",
        "\n",
        "brics.sort_values(['population'], ascending=False)"
      ],
      "execution_count": null,
      "outputs": [
        {
          "output_type": "execute_result",
          "data": {
            "text/html": [
              "<div>\n",
              "<style scoped>\n",
              "    .dataframe tbody tr th:only-of-type {\n",
              "        vertical-align: middle;\n",
              "    }\n",
              "\n",
              "    .dataframe tbody tr th {\n",
              "        vertical-align: top;\n",
              "    }\n",
              "\n",
              "    .dataframe thead th {\n",
              "        text-align: right;\n",
              "    }\n",
              "</style>\n",
              "<table border=\"1\" class=\"dataframe\">\n",
              "  <thead>\n",
              "    <tr style=\"text-align: right;\">\n",
              "      <th></th>\n",
              "      <th>code</th>\n",
              "      <th>country</th>\n",
              "      <th>population</th>\n",
              "      <th>area</th>\n",
              "      <th>capital</th>\n",
              "    </tr>\n",
              "  </thead>\n",
              "  <tbody>\n",
              "    <tr>\n",
              "      <th>3</th>\n",
              "      <td>CH</td>\n",
              "      <td>China</td>\n",
              "      <td>1357</td>\n",
              "      <td>9596961</td>\n",
              "      <td>Beijing</td>\n",
              "    </tr>\n",
              "    <tr>\n",
              "      <th>2</th>\n",
              "      <td>IN</td>\n",
              "      <td>India</td>\n",
              "      <td>1252</td>\n",
              "      <td>3287590</td>\n",
              "      <td>New Delhi</td>\n",
              "    </tr>\n",
              "    <tr>\n",
              "      <th>0</th>\n",
              "      <td>BR</td>\n",
              "      <td>Brazil</td>\n",
              "      <td>200</td>\n",
              "      <td>8515767</td>\n",
              "      <td>Brasilia</td>\n",
              "    </tr>\n",
              "    <tr>\n",
              "      <th>1</th>\n",
              "      <td>RU</td>\n",
              "      <td>Russia</td>\n",
              "      <td>144</td>\n",
              "      <td>17098242</td>\n",
              "      <td>Moscow</td>\n",
              "    </tr>\n",
              "    <tr>\n",
              "      <th>4</th>\n",
              "      <td>SA</td>\n",
              "      <td>South Africa</td>\n",
              "      <td>55</td>\n",
              "      <td>1221037</td>\n",
              "      <td>Pretoria</td>\n",
              "    </tr>\n",
              "  </tbody>\n",
              "</table>\n",
              "</div>"
            ],
            "text/plain": [
              "  code       country  population      area    capital\n",
              "3   CH         China        1357   9596961    Beijing\n",
              "2   IN         India        1252   3287590  New Delhi\n",
              "0   BR        Brazil         200   8515767   Brasilia\n",
              "1   RU        Russia         144  17098242     Moscow\n",
              "4   SA  South Africa          55   1221037   Pretoria"
            ]
          },
          "metadata": {
            "tags": []
          },
          "execution_count": 11
        }
      ]
    },
    {
      "cell_type": "code",
      "metadata": {
        "colab": {
          "base_uri": "https://localhost:8080/",
          "height": 204
        },
        "id": "3xYHNNqIiA-t",
        "outputId": "9fbbb238-609c-4988-e4d5-89c8cf6d48dd"
      },
      "source": [
        "# TO DO: Sort the data to see which country is smallest in size.\n",
        "\n",
        "brics.sort_values(['population'], ascending=True)"
      ],
      "execution_count": null,
      "outputs": [
        {
          "output_type": "execute_result",
          "data": {
            "text/html": [
              "<div>\n",
              "<style scoped>\n",
              "    .dataframe tbody tr th:only-of-type {\n",
              "        vertical-align: middle;\n",
              "    }\n",
              "\n",
              "    .dataframe tbody tr th {\n",
              "        vertical-align: top;\n",
              "    }\n",
              "\n",
              "    .dataframe thead th {\n",
              "        text-align: right;\n",
              "    }\n",
              "</style>\n",
              "<table border=\"1\" class=\"dataframe\">\n",
              "  <thead>\n",
              "    <tr style=\"text-align: right;\">\n",
              "      <th></th>\n",
              "      <th>code</th>\n",
              "      <th>country</th>\n",
              "      <th>population</th>\n",
              "      <th>area</th>\n",
              "      <th>capital</th>\n",
              "    </tr>\n",
              "  </thead>\n",
              "  <tbody>\n",
              "    <tr>\n",
              "      <th>4</th>\n",
              "      <td>SA</td>\n",
              "      <td>South Africa</td>\n",
              "      <td>55</td>\n",
              "      <td>1221037</td>\n",
              "      <td>Pretoria</td>\n",
              "    </tr>\n",
              "    <tr>\n",
              "      <th>1</th>\n",
              "      <td>RU</td>\n",
              "      <td>Russia</td>\n",
              "      <td>144</td>\n",
              "      <td>17098242</td>\n",
              "      <td>Moscow</td>\n",
              "    </tr>\n",
              "    <tr>\n",
              "      <th>0</th>\n",
              "      <td>BR</td>\n",
              "      <td>Brazil</td>\n",
              "      <td>200</td>\n",
              "      <td>8515767</td>\n",
              "      <td>Brasilia</td>\n",
              "    </tr>\n",
              "    <tr>\n",
              "      <th>2</th>\n",
              "      <td>IN</td>\n",
              "      <td>India</td>\n",
              "      <td>1252</td>\n",
              "      <td>3287590</td>\n",
              "      <td>New Delhi</td>\n",
              "    </tr>\n",
              "    <tr>\n",
              "      <th>3</th>\n",
              "      <td>CH</td>\n",
              "      <td>China</td>\n",
              "      <td>1357</td>\n",
              "      <td>9596961</td>\n",
              "      <td>Beijing</td>\n",
              "    </tr>\n",
              "  </tbody>\n",
              "</table>\n",
              "</div>"
            ],
            "text/plain": [
              "  code       country  population      area    capital\n",
              "4   SA  South Africa          55   1221037   Pretoria\n",
              "1   RU        Russia         144  17098242     Moscow\n",
              "0   BR        Brazil         200   8515767   Brasilia\n",
              "2   IN         India        1252   3287590  New Delhi\n",
              "3   CH         China        1357   9596961    Beijing"
            ]
          },
          "metadata": {
            "tags": []
          },
          "execution_count": 12
        }
      ]
    },
    {
      "cell_type": "code",
      "metadata": {
        "colab": {
          "base_uri": "https://localhost:8080/"
        },
        "id": "WjRF7CTLiW6d",
        "outputId": "54f6cc9c-ad82-48eb-b644-c9ab9338d977"
      },
      "source": [
        "# Sorting and printing just one column.\n",
        "\n",
        "brics.country.sort_values(ascending=False)  "
      ],
      "execution_count": null,
      "outputs": [
        {
          "output_type": "execute_result",
          "data": {
            "text/plain": [
              "4    South Africa\n",
              "1          Russia\n",
              "2           India\n",
              "3           China\n",
              "0          Brazil\n",
              "Name: country, dtype: object"
            ]
          },
          "metadata": {
            "tags": []
          },
          "execution_count": 13
        }
      ]
    },
    {
      "cell_type": "code",
      "metadata": {
        "colab": {
          "base_uri": "https://localhost:8080/"
        },
        "id": "bJXB9Fuxid30",
        "outputId": "2bbcc639-60d2-4837-b356-87eed8d9cbc8"
      },
      "source": [
        "# TO DO: Sort and print area column on from largest to smallest.\n",
        "\n",
        "brics.area.sort_values(ascending=False)"
      ],
      "execution_count": null,
      "outputs": [
        {
          "output_type": "execute_result",
          "data": {
            "text/plain": [
              "1    17098242\n",
              "3     9596961\n",
              "0     8515767\n",
              "2     3287590\n",
              "4     1221037\n",
              "Name: area, dtype: int64"
            ]
          },
          "metadata": {
            "tags": []
          },
          "execution_count": 14
        }
      ]
    },
    {
      "cell_type": "markdown",
      "metadata": {
        "id": "9x_7SzUXiuO-"
      },
      "source": [
        "# Indexing in dataframes\n",
        "\n",
        "Notice that when you print a dataframe, a column with numbers 0, 1, 2... shows up at the left side. This column is called Index column. An index column indicates the position/row of records.\n",
        "\n",
        "\n",
        "![image.png](data:image/png;base64,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)\n",
        "\n",
        "If our data contains a column with unique values such as StudentID, EmployeeID, OrderID etc., we can make that specific column (with unique values) as our index column.\n",
        "\n",
        "In this case, we can make code column or even country column as index column."
      ]
    },
    {
      "cell_type": "code",
      "metadata": {
        "colab": {
          "base_uri": "https://localhost:8080/",
          "height": 35
        },
        "id": "m7pqdNoakOwo",
        "outputId": "fadc03a2-9392-41c0-8c55-1e6353e08250"
      },
      "source": [
        "# Indices can be used to fetch data from a particular row. \n",
        "# Example, to fetch data from the 2nd row, we can use index 1 (one)\n",
        "brics.country[1]\n",
        "\n",
        "# We will work more on the index column later."
      ],
      "execution_count": null,
      "outputs": [
        {
          "output_type": "execute_result",
          "data": {
            "application/vnd.google.colaboratory.intrinsic+json": {
              "type": "string"
            },
            "text/plain": [
              "'Russia'"
            ]
          },
          "metadata": {
            "tags": []
          },
          "execution_count": 15
        }
      ]
    },
    {
      "cell_type": "code",
      "metadata": {
        "colab": {
          "base_uri": "https://localhost:8080/"
        },
        "id": "x-W1Z1rtlLW5",
        "outputId": "d0ac5c70-c878-4951-dd2f-4fc222dc2870"
      },
      "source": [
        "# Getting single column from a dataframe\n",
        "\n",
        "print(brics[\"country\"])"
      ],
      "execution_count": null,
      "outputs": [
        {
          "output_type": "stream",
          "text": [
            "0          Brazil\n",
            "1          Russia\n",
            "2           India\n",
            "3           China\n",
            "4    South Africa\n",
            "Name: country, dtype: object\n"
          ],
          "name": "stdout"
        }
      ]
    },
    {
      "cell_type": "code",
      "metadata": {
        "colab": {
          "base_uri": "https://localhost:8080/"
        },
        "id": "pa8RHi7FlR45",
        "outputId": "7a59e3b4-4814-4098-82ea-4ea493423886"
      },
      "source": [
        "# TO DO: Print area column from brics dataframe\n",
        "\n",
        "print(brics['area'])"
      ],
      "execution_count": null,
      "outputs": [
        {
          "output_type": "stream",
          "text": [
            "0     8515767\n",
            "1    17098242\n",
            "2     3287590\n",
            "3     9596961\n",
            "4     1221037\n",
            "Name: area, dtype: int64\n"
          ],
          "name": "stdout"
        }
      ]
    },
    {
      "cell_type": "code",
      "metadata": {
        "colab": {
          "base_uri": "https://localhost:8080/"
        },
        "id": "jSotIaiBlZLb",
        "outputId": "e46da94d-8d6a-4c56-dc53-89c5a21a8ce3"
      },
      "source": [
        "# Other way to get a single column from a dataframe - use dot\n",
        "\n",
        "brics.country"
      ],
      "execution_count": null,
      "outputs": [
        {
          "output_type": "execute_result",
          "data": {
            "text/plain": [
              "0          Brazil\n",
              "1          Russia\n",
              "2           India\n",
              "3           China\n",
              "4    South Africa\n",
              "Name: country, dtype: object"
            ]
          },
          "metadata": {
            "tags": []
          },
          "execution_count": 18
        }
      ]
    },
    {
      "cell_type": "code",
      "metadata": {
        "colab": {
          "base_uri": "https://localhost:8080/"
        },
        "id": "EVMd2VsQlb08",
        "outputId": "9272760a-8fb4-483e-b7d5-8c953e24db3d"
      },
      "source": [
        "# TO DO:  Print code column from the dataframe using dot\n",
        "\n",
        "brics.code"
      ],
      "execution_count": null,
      "outputs": [
        {
          "output_type": "execute_result",
          "data": {
            "text/plain": [
              "0    BR\n",
              "1    RU\n",
              "2    IN\n",
              "3    CH\n",
              "4    SA\n",
              "Name: code, dtype: object"
            ]
          },
          "metadata": {
            "tags": []
          },
          "execution_count": 19
        }
      ]
    },
    {
      "cell_type": "code",
      "metadata": {
        "colab": {
          "base_uri": "https://localhost:8080/",
          "height": 204
        },
        "id": "OG15_splnOc3",
        "outputId": "57fcbacf-9b83-4210-ce27-fbb6d5b5245b"
      },
      "source": [
        "# Pritning multiple columns\n",
        "brics[['country', 'capital']]"
      ],
      "execution_count": null,
      "outputs": [
        {
          "output_type": "execute_result",
          "data": {
            "text/html": [
              "<div>\n",
              "<style scoped>\n",
              "    .dataframe tbody tr th:only-of-type {\n",
              "        vertical-align: middle;\n",
              "    }\n",
              "\n",
              "    .dataframe tbody tr th {\n",
              "        vertical-align: top;\n",
              "    }\n",
              "\n",
              "    .dataframe thead th {\n",
              "        text-align: right;\n",
              "    }\n",
              "</style>\n",
              "<table border=\"1\" class=\"dataframe\">\n",
              "  <thead>\n",
              "    <tr style=\"text-align: right;\">\n",
              "      <th></th>\n",
              "      <th>country</th>\n",
              "      <th>capital</th>\n",
              "    </tr>\n",
              "  </thead>\n",
              "  <tbody>\n",
              "    <tr>\n",
              "      <th>0</th>\n",
              "      <td>Brazil</td>\n",
              "      <td>Brasilia</td>\n",
              "    </tr>\n",
              "    <tr>\n",
              "      <th>1</th>\n",
              "      <td>Russia</td>\n",
              "      <td>Moscow</td>\n",
              "    </tr>\n",
              "    <tr>\n",
              "      <th>2</th>\n",
              "      <td>India</td>\n",
              "      <td>New Delhi</td>\n",
              "    </tr>\n",
              "    <tr>\n",
              "      <th>3</th>\n",
              "      <td>China</td>\n",
              "      <td>Beijing</td>\n",
              "    </tr>\n",
              "    <tr>\n",
              "      <th>4</th>\n",
              "      <td>South Africa</td>\n",
              "      <td>Pretoria</td>\n",
              "    </tr>\n",
              "  </tbody>\n",
              "</table>\n",
              "</div>"
            ],
            "text/plain": [
              "        country    capital\n",
              "0        Brazil   Brasilia\n",
              "1        Russia     Moscow\n",
              "2         India  New Delhi\n",
              "3         China    Beijing\n",
              "4  South Africa   Pretoria"
            ]
          },
          "metadata": {
            "tags": []
          },
          "execution_count": 20
        }
      ]
    },
    {
      "cell_type": "code",
      "metadata": {
        "colab": {
          "base_uri": "https://localhost:8080/",
          "height": 204
        },
        "id": "md4Bik8Nngt4",
        "outputId": "9ed9a392-0124-4792-bf3e-20e369440ba2"
      },
      "source": [
        "# TO DO: Print country, capital and population\n",
        "\n",
        "brics[['country','capital','population']]"
      ],
      "execution_count": null,
      "outputs": [
        {
          "output_type": "execute_result",
          "data": {
            "text/html": [
              "<div>\n",
              "<style scoped>\n",
              "    .dataframe tbody tr th:only-of-type {\n",
              "        vertical-align: middle;\n",
              "    }\n",
              "\n",
              "    .dataframe tbody tr th {\n",
              "        vertical-align: top;\n",
              "    }\n",
              "\n",
              "    .dataframe thead th {\n",
              "        text-align: right;\n",
              "    }\n",
              "</style>\n",
              "<table border=\"1\" class=\"dataframe\">\n",
              "  <thead>\n",
              "    <tr style=\"text-align: right;\">\n",
              "      <th></th>\n",
              "      <th>country</th>\n",
              "      <th>capital</th>\n",
              "      <th>population</th>\n",
              "    </tr>\n",
              "  </thead>\n",
              "  <tbody>\n",
              "    <tr>\n",
              "      <th>0</th>\n",
              "      <td>Brazil</td>\n",
              "      <td>Brasilia</td>\n",
              "      <td>200</td>\n",
              "    </tr>\n",
              "    <tr>\n",
              "      <th>1</th>\n",
              "      <td>Russia</td>\n",
              "      <td>Moscow</td>\n",
              "      <td>144</td>\n",
              "    </tr>\n",
              "    <tr>\n",
              "      <th>2</th>\n",
              "      <td>India</td>\n",
              "      <td>New Delhi</td>\n",
              "      <td>1252</td>\n",
              "    </tr>\n",
              "    <tr>\n",
              "      <th>3</th>\n",
              "      <td>China</td>\n",
              "      <td>Beijing</td>\n",
              "      <td>1357</td>\n",
              "    </tr>\n",
              "    <tr>\n",
              "      <th>4</th>\n",
              "      <td>South Africa</td>\n",
              "      <td>Pretoria</td>\n",
              "      <td>55</td>\n",
              "    </tr>\n",
              "  </tbody>\n",
              "</table>\n",
              "</div>"
            ],
            "text/plain": [
              "        country    capital  population\n",
              "0        Brazil   Brasilia         200\n",
              "1        Russia     Moscow         144\n",
              "2         India  New Delhi        1252\n",
              "3         China    Beijing        1357\n",
              "4  South Africa   Pretoria          55"
            ]
          },
          "metadata": {
            "tags": []
          },
          "execution_count": 21
        }
      ]
    },
    {
      "cell_type": "markdown",
      "metadata": {
        "id": "LjRpAGERlp8M"
      },
      "source": [
        "##### Do you think we should use square bracket to print one column a dataframe or dot?\n",
        "\n",
        "If you think we can use both methods in all cases, you would be wrong.\n",
        "\n",
        "To check this and understand the issue of using dot everywhere, please create a new code cell, copy-paste the below code in it and try to observe the issue.\n",
        "\n",
        "import pandas as pd\n",
        "\n",
        "df = pd.DataFrame({'name': ['Niko', 'Penelope', 'Aria'],\n",
        "                   'average score': [10, 5, 3],\n",
        "                   'max': [99, 100, 3]})\n",
        "                   \n",
        "df.average score\n",
        "\n",
        "If you get error, try printing the same colum using square bracket.\n"
      ]
    },
    {
      "cell_type": "code",
      "metadata": {
        "colab": {
          "base_uri": "https://localhost:8080/"
        },
        "id": "d7oFFOzxBMNJ",
        "outputId": "4593769e-074b-41a1-8131-affd495be25f"
      },
      "source": [
        "import pandas as pd\n",
        "\n",
        "df = pd.DataFrame({'name': ['Niko', 'Penelope', 'Aria'], 'average score': [10, 5, 3], 'max': [99, 100, 3]})\n",
        "\n",
        "df['average score']"
      ],
      "execution_count": null,
      "outputs": [
        {
          "output_type": "execute_result",
          "data": {
            "text/plain": [
              "0    10\n",
              "1     5\n",
              "2     3\n",
              "Name: average score, dtype: int64"
            ]
          },
          "metadata": {
            "tags": []
          },
          "execution_count": 22
        }
      ]
    },
    {
      "cell_type": "code",
      "metadata": {
        "colab": {
          "base_uri": "https://localhost:8080/",
          "height": 235
        },
        "id": "FRN-F8fOinLy",
        "outputId": "c8f77375-1553-4bfa-e369-808556d98f55"
      },
      "source": [
        "# use col 0 as index. \n",
        "# This will remove the 1st column containing the index or sl. no. from the above output, \n",
        "# and make the 1st column from actual data as the index.\n",
        "\n",
        "brics = pd.read_csv(\"brics.csv\",index_col=0)\n",
        "brics\n",
        "\n",
        "# Note that the 'code' will be used as Index only and not as a part of data anymore."
      ],
      "execution_count": null,
      "outputs": [
        {
          "output_type": "execute_result",
          "data": {
            "text/html": [
              "<div>\n",
              "<style scoped>\n",
              "    .dataframe tbody tr th:only-of-type {\n",
              "        vertical-align: middle;\n",
              "    }\n",
              "\n",
              "    .dataframe tbody tr th {\n",
              "        vertical-align: top;\n",
              "    }\n",
              "\n",
              "    .dataframe thead th {\n",
              "        text-align: right;\n",
              "    }\n",
              "</style>\n",
              "<table border=\"1\" class=\"dataframe\">\n",
              "  <thead>\n",
              "    <tr style=\"text-align: right;\">\n",
              "      <th></th>\n",
              "      <th>country</th>\n",
              "      <th>population</th>\n",
              "      <th>area</th>\n",
              "      <th>capital</th>\n",
              "    </tr>\n",
              "    <tr>\n",
              "      <th>code</th>\n",
              "      <th></th>\n",
              "      <th></th>\n",
              "      <th></th>\n",
              "      <th></th>\n",
              "    </tr>\n",
              "  </thead>\n",
              "  <tbody>\n",
              "    <tr>\n",
              "      <th>BR</th>\n",
              "      <td>Brazil</td>\n",
              "      <td>200</td>\n",
              "      <td>8515767</td>\n",
              "      <td>Brasilia</td>\n",
              "    </tr>\n",
              "    <tr>\n",
              "      <th>RU</th>\n",
              "      <td>Russia</td>\n",
              "      <td>144</td>\n",
              "      <td>17098242</td>\n",
              "      <td>Moscow</td>\n",
              "    </tr>\n",
              "    <tr>\n",
              "      <th>IN</th>\n",
              "      <td>India</td>\n",
              "      <td>1252</td>\n",
              "      <td>3287590</td>\n",
              "      <td>New Delhi</td>\n",
              "    </tr>\n",
              "    <tr>\n",
              "      <th>CH</th>\n",
              "      <td>China</td>\n",
              "      <td>1357</td>\n",
              "      <td>9596961</td>\n",
              "      <td>Beijing</td>\n",
              "    </tr>\n",
              "    <tr>\n",
              "      <th>SA</th>\n",
              "      <td>South Africa</td>\n",
              "      <td>55</td>\n",
              "      <td>1221037</td>\n",
              "      <td>Pretoria</td>\n",
              "    </tr>\n",
              "  </tbody>\n",
              "</table>\n",
              "</div>"
            ],
            "text/plain": [
              "           country  population      area    capital\n",
              "code                                               \n",
              "BR          Brazil         200   8515767   Brasilia\n",
              "RU          Russia         144  17098242     Moscow\n",
              "IN           India        1252   3287590  New Delhi\n",
              "CH           China        1357   9596961    Beijing\n",
              "SA    South Africa          55   1221037   Pretoria"
            ]
          },
          "metadata": {
            "tags": []
          },
          "execution_count": 23
        }
      ]
    },
    {
      "cell_type": "markdown",
      "metadata": {
        "id": "bFxqZ10Qobwo"
      },
      "source": [
        "# Transforming the dataframe"
      ]
    },
    {
      "cell_type": "code",
      "metadata": {
        "colab": {
          "base_uri": "https://localhost:8080/",
          "height": 235
        },
        "id": "zDhluUfdoZPr",
        "outputId": "fd27930f-7081-49c8-b3ff-393e0c57d111"
      },
      "source": [
        "#Adding a new column to the existing Data Frame\n",
        "brics[\"on_earth\"] = [True, True, True, True, True]    \n",
        "\n",
        "# We are adding a list here. Read more on lists: https://www.w3schools.com/python/python_lists.asp\n",
        "\n",
        "brics"
      ],
      "execution_count": null,
      "outputs": [
        {
          "output_type": "execute_result",
          "data": {
            "text/html": [
              "<div>\n",
              "<style scoped>\n",
              "    .dataframe tbody tr th:only-of-type {\n",
              "        vertical-align: middle;\n",
              "    }\n",
              "\n",
              "    .dataframe tbody tr th {\n",
              "        vertical-align: top;\n",
              "    }\n",
              "\n",
              "    .dataframe thead th {\n",
              "        text-align: right;\n",
              "    }\n",
              "</style>\n",
              "<table border=\"1\" class=\"dataframe\">\n",
              "  <thead>\n",
              "    <tr style=\"text-align: right;\">\n",
              "      <th></th>\n",
              "      <th>country</th>\n",
              "      <th>population</th>\n",
              "      <th>area</th>\n",
              "      <th>capital</th>\n",
              "      <th>on_earth</th>\n",
              "    </tr>\n",
              "    <tr>\n",
              "      <th>code</th>\n",
              "      <th></th>\n",
              "      <th></th>\n",
              "      <th></th>\n",
              "      <th></th>\n",
              "      <th></th>\n",
              "    </tr>\n",
              "  </thead>\n",
              "  <tbody>\n",
              "    <tr>\n",
              "      <th>BR</th>\n",
              "      <td>Brazil</td>\n",
              "      <td>200</td>\n",
              "      <td>8515767</td>\n",
              "      <td>Brasilia</td>\n",
              "      <td>True</td>\n",
              "    </tr>\n",
              "    <tr>\n",
              "      <th>RU</th>\n",
              "      <td>Russia</td>\n",
              "      <td>144</td>\n",
              "      <td>17098242</td>\n",
              "      <td>Moscow</td>\n",
              "      <td>True</td>\n",
              "    </tr>\n",
              "    <tr>\n",
              "      <th>IN</th>\n",
              "      <td>India</td>\n",
              "      <td>1252</td>\n",
              "      <td>3287590</td>\n",
              "      <td>New Delhi</td>\n",
              "      <td>True</td>\n",
              "    </tr>\n",
              "    <tr>\n",
              "      <th>CH</th>\n",
              "      <td>China</td>\n",
              "      <td>1357</td>\n",
              "      <td>9596961</td>\n",
              "      <td>Beijing</td>\n",
              "      <td>True</td>\n",
              "    </tr>\n",
              "    <tr>\n",
              "      <th>SA</th>\n",
              "      <td>South Africa</td>\n",
              "      <td>55</td>\n",
              "      <td>1221037</td>\n",
              "      <td>Pretoria</td>\n",
              "      <td>True</td>\n",
              "    </tr>\n",
              "  </tbody>\n",
              "</table>\n",
              "</div>"
            ],
            "text/plain": [
              "           country  population      area    capital  on_earth\n",
              "code                                                         \n",
              "BR          Brazil         200   8515767   Brasilia      True\n",
              "RU          Russia         144  17098242     Moscow      True\n",
              "IN           India        1252   3287590  New Delhi      True\n",
              "CH           China        1357   9596961    Beijing      True\n",
              "SA    South Africa          55   1221037   Pretoria      True"
            ]
          },
          "metadata": {
            "tags": []
          },
          "execution_count": 24
        }
      ]
    },
    {
      "cell_type": "code",
      "metadata": {
        "colab": {
          "base_uri": "https://localhost:8080/",
          "height": 235
        },
        "id": "yd4BFaWQoiAe",
        "outputId": "b3b90bc4-c0ad-4205-bc91-eb2282ff730a"
      },
      "source": [
        "# adding a calculated column\n",
        "brics[\"density\"] = brics[\"population\"] / brics[\"area\"] * 1000000   # per km sq.\n",
        "brics"
      ],
      "execution_count": null,
      "outputs": [
        {
          "output_type": "execute_result",
          "data": {
            "text/html": [
              "<div>\n",
              "<style scoped>\n",
              "    .dataframe tbody tr th:only-of-type {\n",
              "        vertical-align: middle;\n",
              "    }\n",
              "\n",
              "    .dataframe tbody tr th {\n",
              "        vertical-align: top;\n",
              "    }\n",
              "\n",
              "    .dataframe thead th {\n",
              "        text-align: right;\n",
              "    }\n",
              "</style>\n",
              "<table border=\"1\" class=\"dataframe\">\n",
              "  <thead>\n",
              "    <tr style=\"text-align: right;\">\n",
              "      <th></th>\n",
              "      <th>country</th>\n",
              "      <th>population</th>\n",
              "      <th>area</th>\n",
              "      <th>capital</th>\n",
              "      <th>on_earth</th>\n",
              "      <th>density</th>\n",
              "    </tr>\n",
              "    <tr>\n",
              "      <th>code</th>\n",
              "      <th></th>\n",
              "      <th></th>\n",
              "      <th></th>\n",
              "      <th></th>\n",
              "      <th></th>\n",
              "      <th></th>\n",
              "    </tr>\n",
              "  </thead>\n",
              "  <tbody>\n",
              "    <tr>\n",
              "      <th>BR</th>\n",
              "      <td>Brazil</td>\n",
              "      <td>200</td>\n",
              "      <td>8515767</td>\n",
              "      <td>Brasilia</td>\n",
              "      <td>True</td>\n",
              "      <td>23.485847</td>\n",
              "    </tr>\n",
              "    <tr>\n",
              "      <th>RU</th>\n",
              "      <td>Russia</td>\n",
              "      <td>144</td>\n",
              "      <td>17098242</td>\n",
              "      <td>Moscow</td>\n",
              "      <td>True</td>\n",
              "      <td>8.421918</td>\n",
              "    </tr>\n",
              "    <tr>\n",
              "      <th>IN</th>\n",
              "      <td>India</td>\n",
              "      <td>1252</td>\n",
              "      <td>3287590</td>\n",
              "      <td>New Delhi</td>\n",
              "      <td>True</td>\n",
              "      <td>380.826076</td>\n",
              "    </tr>\n",
              "    <tr>\n",
              "      <th>CH</th>\n",
              "      <td>China</td>\n",
              "      <td>1357</td>\n",
              "      <td>9596961</td>\n",
              "      <td>Beijing</td>\n",
              "      <td>True</td>\n",
              "      <td>141.398928</td>\n",
              "    </tr>\n",
              "    <tr>\n",
              "      <th>SA</th>\n",
              "      <td>South Africa</td>\n",
              "      <td>55</td>\n",
              "      <td>1221037</td>\n",
              "      <td>Pretoria</td>\n",
              "      <td>True</td>\n",
              "      <td>45.043680</td>\n",
              "    </tr>\n",
              "  </tbody>\n",
              "</table>\n",
              "</div>"
            ],
            "text/plain": [
              "           country  population      area    capital  on_earth     density\n",
              "code                                                                     \n",
              "BR          Brazil         200   8515767   Brasilia      True   23.485847\n",
              "RU          Russia         144  17098242     Moscow      True    8.421918\n",
              "IN           India        1252   3287590  New Delhi      True  380.826076\n",
              "CH           China        1357   9596961    Beijing      True  141.398928\n",
              "SA    South Africa          55   1221037   Pretoria      True   45.043680"
            ]
          },
          "metadata": {
            "tags": []
          },
          "execution_count": 25
        }
      ]
    },
    {
      "cell_type": "markdown",
      "metadata": {
        "id": "R1bkQH7Zo82g"
      },
      "source": [
        "Removing the additional decimal points or setting the precision can be done on the entire dataframe."
      ]
    },
    {
      "cell_type": "code",
      "metadata": {
        "colab": {
          "base_uri": "https://localhost:8080/",
          "height": 166
        },
        "id": "CZalZzBeo6bh",
        "outputId": "9f074bad-89d2-40c1-a6cc-9e85a48ea5f5"
      },
      "source": [
        "brics.style.set_precision(2)  # Upto 2 decimal points for all float columns in the dataframe. \n",
        "\n",
        "# This WILL NOT change the original dataframe i.e. the original dataframe will still have multiple digits after decimals."
      ],
      "execution_count": null,
      "outputs": [
        {
          "output_type": "execute_result",
          "data": {
            "text/html": [
              "<style  type=\"text/css\" >\n",
              "</style><table id=\"T_b0bce824_ffac_11eb_a9f4_0242ac1c0002\" ><thead>    <tr>        <th class=\"blank level0\" ></th>        <th class=\"col_heading level0 col0\" >country</th>        <th class=\"col_heading level0 col1\" >population</th>        <th class=\"col_heading level0 col2\" >area</th>        <th class=\"col_heading level0 col3\" >capital</th>        <th class=\"col_heading level0 col4\" >on_earth</th>        <th class=\"col_heading level0 col5\" >density</th>    </tr>    <tr>        <th class=\"index_name level0\" >code</th>        <th class=\"blank\" ></th>        <th class=\"blank\" ></th>        <th class=\"blank\" ></th>        <th class=\"blank\" ></th>        <th class=\"blank\" ></th>        <th class=\"blank\" ></th>    </tr></thead><tbody>\n",
              "                <tr>\n",
              "                        <th id=\"T_b0bce824_ffac_11eb_a9f4_0242ac1c0002level0_row0\" class=\"row_heading level0 row0\" >BR</th>\n",
              "                        <td id=\"T_b0bce824_ffac_11eb_a9f4_0242ac1c0002row0_col0\" class=\"data row0 col0\" >Brazil</td>\n",
              "                        <td id=\"T_b0bce824_ffac_11eb_a9f4_0242ac1c0002row0_col1\" class=\"data row0 col1\" >200</td>\n",
              "                        <td id=\"T_b0bce824_ffac_11eb_a9f4_0242ac1c0002row0_col2\" class=\"data row0 col2\" >8515767</td>\n",
              "                        <td id=\"T_b0bce824_ffac_11eb_a9f4_0242ac1c0002row0_col3\" class=\"data row0 col3\" >Brasilia</td>\n",
              "                        <td id=\"T_b0bce824_ffac_11eb_a9f4_0242ac1c0002row0_col4\" class=\"data row0 col4\" >True</td>\n",
              "                        <td id=\"T_b0bce824_ffac_11eb_a9f4_0242ac1c0002row0_col5\" class=\"data row0 col5\" >23.49</td>\n",
              "            </tr>\n",
              "            <tr>\n",
              "                        <th id=\"T_b0bce824_ffac_11eb_a9f4_0242ac1c0002level0_row1\" class=\"row_heading level0 row1\" >RU</th>\n",
              "                        <td id=\"T_b0bce824_ffac_11eb_a9f4_0242ac1c0002row1_col0\" class=\"data row1 col0\" >Russia</td>\n",
              "                        <td id=\"T_b0bce824_ffac_11eb_a9f4_0242ac1c0002row1_col1\" class=\"data row1 col1\" >144</td>\n",
              "                        <td id=\"T_b0bce824_ffac_11eb_a9f4_0242ac1c0002row1_col2\" class=\"data row1 col2\" >17098242</td>\n",
              "                        <td id=\"T_b0bce824_ffac_11eb_a9f4_0242ac1c0002row1_col3\" class=\"data row1 col3\" >Moscow</td>\n",
              "                        <td id=\"T_b0bce824_ffac_11eb_a9f4_0242ac1c0002row1_col4\" class=\"data row1 col4\" >True</td>\n",
              "                        <td id=\"T_b0bce824_ffac_11eb_a9f4_0242ac1c0002row1_col5\" class=\"data row1 col5\" >8.42</td>\n",
              "            </tr>\n",
              "            <tr>\n",
              "                        <th id=\"T_b0bce824_ffac_11eb_a9f4_0242ac1c0002level0_row2\" class=\"row_heading level0 row2\" >IN</th>\n",
              "                        <td id=\"T_b0bce824_ffac_11eb_a9f4_0242ac1c0002row2_col0\" class=\"data row2 col0\" >India</td>\n",
              "                        <td id=\"T_b0bce824_ffac_11eb_a9f4_0242ac1c0002row2_col1\" class=\"data row2 col1\" >1252</td>\n",
              "                        <td id=\"T_b0bce824_ffac_11eb_a9f4_0242ac1c0002row2_col2\" class=\"data row2 col2\" >3287590</td>\n",
              "                        <td id=\"T_b0bce824_ffac_11eb_a9f4_0242ac1c0002row2_col3\" class=\"data row2 col3\" >New Delhi</td>\n",
              "                        <td id=\"T_b0bce824_ffac_11eb_a9f4_0242ac1c0002row2_col4\" class=\"data row2 col4\" >True</td>\n",
              "                        <td id=\"T_b0bce824_ffac_11eb_a9f4_0242ac1c0002row2_col5\" class=\"data row2 col5\" >380.83</td>\n",
              "            </tr>\n",
              "            <tr>\n",
              "                        <th id=\"T_b0bce824_ffac_11eb_a9f4_0242ac1c0002level0_row3\" class=\"row_heading level0 row3\" >CH</th>\n",
              "                        <td id=\"T_b0bce824_ffac_11eb_a9f4_0242ac1c0002row3_col0\" class=\"data row3 col0\" >China</td>\n",
              "                        <td id=\"T_b0bce824_ffac_11eb_a9f4_0242ac1c0002row3_col1\" class=\"data row3 col1\" >1357</td>\n",
              "                        <td id=\"T_b0bce824_ffac_11eb_a9f4_0242ac1c0002row3_col2\" class=\"data row3 col2\" >9596961</td>\n",
              "                        <td id=\"T_b0bce824_ffac_11eb_a9f4_0242ac1c0002row3_col3\" class=\"data row3 col3\" >Beijing</td>\n",
              "                        <td id=\"T_b0bce824_ffac_11eb_a9f4_0242ac1c0002row3_col4\" class=\"data row3 col4\" >True</td>\n",
              "                        <td id=\"T_b0bce824_ffac_11eb_a9f4_0242ac1c0002row3_col5\" class=\"data row3 col5\" >141.40</td>\n",
              "            </tr>\n",
              "            <tr>\n",
              "                        <th id=\"T_b0bce824_ffac_11eb_a9f4_0242ac1c0002level0_row4\" class=\"row_heading level0 row4\" >SA</th>\n",
              "                        <td id=\"T_b0bce824_ffac_11eb_a9f4_0242ac1c0002row4_col0\" class=\"data row4 col0\" >South Africa</td>\n",
              "                        <td id=\"T_b0bce824_ffac_11eb_a9f4_0242ac1c0002row4_col1\" class=\"data row4 col1\" >55</td>\n",
              "                        <td id=\"T_b0bce824_ffac_11eb_a9f4_0242ac1c0002row4_col2\" class=\"data row4 col2\" >1221037</td>\n",
              "                        <td id=\"T_b0bce824_ffac_11eb_a9f4_0242ac1c0002row4_col3\" class=\"data row4 col3\" >Pretoria</td>\n",
              "                        <td id=\"T_b0bce824_ffac_11eb_a9f4_0242ac1c0002row4_col4\" class=\"data row4 col4\" >True</td>\n",
              "                        <td id=\"T_b0bce824_ffac_11eb_a9f4_0242ac1c0002row4_col5\" class=\"data row4 col5\" >45.04</td>\n",
              "            </tr>\n",
              "    </tbody></table>"
            ],
            "text/plain": [
              "<pandas.io.formats.style.Styler at 0x7f04fb1f4c50>"
            ]
          },
          "metadata": {
            "tags": []
          },
          "execution_count": 26
        }
      ]
    },
    {
      "cell_type": "code",
      "metadata": {
        "colab": {
          "base_uri": "https://localhost:8080/"
        },
        "id": "x55aPPdtpQ8D",
        "outputId": "753ac5d9-c612-4e78-9391-ae01fb9d34b0"
      },
      "source": [
        "brics['density'].round(2) # Rounding of individual column to fixed decimal points."
      ],
      "execution_count": null,
      "outputs": [
        {
          "output_type": "execute_result",
          "data": {
            "text/plain": [
              "code\n",
              "BR     23.49\n",
              "RU      8.42\n",
              "IN    380.83\n",
              "CH    141.40\n",
              "SA     45.04\n",
              "Name: density, dtype: float64"
            ]
          },
          "metadata": {
            "tags": []
          },
          "execution_count": 27
        }
      ]
    },
    {
      "cell_type": "markdown",
      "metadata": {
        "id": "lbNZ88gtpdXR"
      },
      "source": [
        "# Fetching data using indices and location functions (.loc and .iloc)\n",
        "\n",
        "To Note:\n",
        "1. .loc is used with the actual value/label of the index\n",
        "2. .iloc is used with the index position/reference - which are numbers (0, 1, 2, 3, 4......)\n",
        "\n",
        "Look at the below code cells to understand the difference. "
      ]
    },
    {
      "cell_type": "code",
      "metadata": {
        "colab": {
          "base_uri": "https://localhost:8080/",
          "height": 235
        },
        "id": "PhY6_TOfpm2W",
        "outputId": "ff867883-53ed-497d-e32c-ac122eb69c89"
      },
      "source": [
        "# Before starting, let's first print the brics daraframe. Can you please do this?\n",
        "brics\n",
        "\n",
        "# Notice that the indices are BR, RU, IN, CH and SA. However, their position (numerical index) are 0, 1, 2, 3 and 4."
      ],
      "execution_count": null,
      "outputs": [
        {
          "output_type": "execute_result",
          "data": {
            "text/html": [
              "<div>\n",
              "<style scoped>\n",
              "    .dataframe tbody tr th:only-of-type {\n",
              "        vertical-align: middle;\n",
              "    }\n",
              "\n",
              "    .dataframe tbody tr th {\n",
              "        vertical-align: top;\n",
              "    }\n",
              "\n",
              "    .dataframe thead th {\n",
              "        text-align: right;\n",
              "    }\n",
              "</style>\n",
              "<table border=\"1\" class=\"dataframe\">\n",
              "  <thead>\n",
              "    <tr style=\"text-align: right;\">\n",
              "      <th></th>\n",
              "      <th>country</th>\n",
              "      <th>population</th>\n",
              "      <th>area</th>\n",
              "      <th>capital</th>\n",
              "      <th>on_earth</th>\n",
              "      <th>density</th>\n",
              "    </tr>\n",
              "    <tr>\n",
              "      <th>code</th>\n",
              "      <th></th>\n",
              "      <th></th>\n",
              "      <th></th>\n",
              "      <th></th>\n",
              "      <th></th>\n",
              "      <th></th>\n",
              "    </tr>\n",
              "  </thead>\n",
              "  <tbody>\n",
              "    <tr>\n",
              "      <th>BR</th>\n",
              "      <td>Brazil</td>\n",
              "      <td>200</td>\n",
              "      <td>8515767</td>\n",
              "      <td>Brasilia</td>\n",
              "      <td>True</td>\n",
              "      <td>23.485847</td>\n",
              "    </tr>\n",
              "    <tr>\n",
              "      <th>RU</th>\n",
              "      <td>Russia</td>\n",
              "      <td>144</td>\n",
              "      <td>17098242</td>\n",
              "      <td>Moscow</td>\n",
              "      <td>True</td>\n",
              "      <td>8.421918</td>\n",
              "    </tr>\n",
              "    <tr>\n",
              "      <th>IN</th>\n",
              "      <td>India</td>\n",
              "      <td>1252</td>\n",
              "      <td>3287590</td>\n",
              "      <td>New Delhi</td>\n",
              "      <td>True</td>\n",
              "      <td>380.826076</td>\n",
              "    </tr>\n",
              "    <tr>\n",
              "      <th>CH</th>\n",
              "      <td>China</td>\n",
              "      <td>1357</td>\n",
              "      <td>9596961</td>\n",
              "      <td>Beijing</td>\n",
              "      <td>True</td>\n",
              "      <td>141.398928</td>\n",
              "    </tr>\n",
              "    <tr>\n",
              "      <th>SA</th>\n",
              "      <td>South Africa</td>\n",
              "      <td>55</td>\n",
              "      <td>1221037</td>\n",
              "      <td>Pretoria</td>\n",
              "      <td>True</td>\n",
              "      <td>45.043680</td>\n",
              "    </tr>\n",
              "  </tbody>\n",
              "</table>\n",
              "</div>"
            ],
            "text/plain": [
              "           country  population      area    capital  on_earth     density\n",
              "code                                                                     \n",
              "BR          Brazil         200   8515767   Brasilia      True   23.485847\n",
              "RU          Russia         144  17098242     Moscow      True    8.421918\n",
              "IN           India        1252   3287590  New Delhi      True  380.826076\n",
              "CH           China        1357   9596961    Beijing      True  141.398928\n",
              "SA    South Africa          55   1221037   Pretoria      True   45.043680"
            ]
          },
          "metadata": {
            "tags": []
          },
          "execution_count": 28
        }
      ]
    },
    {
      "cell_type": "code",
      "metadata": {
        "id": "m_9C_Y9Zpw6I",
        "colab": {
          "base_uri": "https://localhost:8080/"
        },
        "outputId": "bce910a4-f5e7-46c9-edd9-59a024e4d536"
      },
      "source": [
        "brics.loc[\"SA\"]     # .loc is used with actual value of the index. \n",
        "# The value mentioned in the argument must be there in the dataframe's index list."
      ],
      "execution_count": null,
      "outputs": [
        {
          "output_type": "execute_result",
          "data": {
            "text/plain": [
              "country       South Africa\n",
              "population              55\n",
              "area               1221037\n",
              "capital           Pretoria\n",
              "on_earth              True\n",
              "density            45.0437\n",
              "Name: SA, dtype: object"
            ]
          },
          "metadata": {
            "tags": []
          },
          "execution_count": 29
        }
      ]
    },
    {
      "cell_type": "code",
      "metadata": {
        "id": "1VsuDBIbqLDL",
        "colab": {
          "base_uri": "https://localhost:8080/"
        },
        "outputId": "aeae9a91-1a74-4fb7-82c2-6909857c65bb"
      },
      "source": [
        "brics.iloc[4]  # .loc is used when we are giving the index reference as number, not the actual value of the index."
      ],
      "execution_count": null,
      "outputs": [
        {
          "output_type": "execute_result",
          "data": {
            "text/plain": [
              "country       South Africa\n",
              "population              55\n",
              "area               1221037\n",
              "capital           Pretoria\n",
              "on_earth              True\n",
              "density            45.0437\n",
              "Name: SA, dtype: object"
            ]
          },
          "metadata": {
            "tags": []
          },
          "execution_count": 30
        }
      ]
    },
    {
      "cell_type": "code",
      "metadata": {
        "id": "bWSAd80zrGxU",
        "colab": {
          "base_uri": "https://localhost:8080/"
        },
        "outputId": "998388af-f1ae-43a1-c56a-50fd935b69f4"
      },
      "source": [
        "# TO DO: Use .loc to print the values from all columns for IN\n",
        "brics.loc[\"IN\"]\n"
      ],
      "execution_count": null,
      "outputs": [
        {
          "output_type": "execute_result",
          "data": {
            "text/plain": [
              "country           India\n",
              "population         1252\n",
              "area            3287590\n",
              "capital       New Delhi\n",
              "on_earth           True\n",
              "density         380.826\n",
              "Name: IN, dtype: object"
            ]
          },
          "metadata": {
            "tags": []
          },
          "execution_count": 31
        }
      ]
    },
    {
      "cell_type": "code",
      "metadata": {
        "id": "gSXedN9TrOnq",
        "colab": {
          "base_uri": "https://localhost:8080/"
        },
        "outputId": "2d663675-c292-445c-a1fe-1a18c24cdbe3"
      },
      "source": [
        "# TO DO: Use .iloc to print the values from all columns from 3rd row (index number will be 1 less than the row number).\n",
        "\n",
        "brics.iloc[2]"
      ],
      "execution_count": null,
      "outputs": [
        {
          "output_type": "execute_result",
          "data": {
            "text/plain": [
              "country           India\n",
              "population         1252\n",
              "area            3287590\n",
              "capital       New Delhi\n",
              "on_earth           True\n",
              "density         380.826\n",
              "Name: IN, dtype: object"
            ]
          },
          "metadata": {
            "tags": []
          },
          "execution_count": 32
        }
      ]
    },
    {
      "cell_type": "markdown",
      "metadata": {
        "id": "DkuXlWrUrmoW"
      },
      "source": [
        "# Adding rows in the dataframe\n",
        "\n",
        "append() is used to add records in a dataframe or even in lists."
      ]
    },
    {
      "cell_type": "code",
      "metadata": {
        "colab": {
          "base_uri": "https://localhost:8080/",
          "height": 235
        },
        "id": "XsDwPxfvrw3s",
        "outputId": "4a3f4f29-8735-4d37-9956-09ab0b099896"
      },
      "source": [
        "#ading a new ROW using append\n",
        "newrow = {'code':'WK', 'country':'Wakanda', 'population':5,'area':1000000,'capital':'Wakanda City','on_earth':False,'density':5}\n",
        "brics1 = brics.append(newrow,ignore_index=True)   # Ignoring the existing index.\n",
        "# Ignoring the existing index will result into new dataframe index 0,1,2,....\n",
        "\n",
        "'''\n",
        "Why there is NaN for code in other rows?  \n",
        "Because the previous 'code' was not a part of datatable. It was an index.\n",
        "With 'code' in 'newrow', we are adding a new column called 'code'\n",
        "'''\n",
        "\n",
        "'''\n",
        "ignore_index=False will result into error because 'newrow' is a dictionary\n",
        "and appending a dictionary into a dataframe will not work if we do not ignore the index.\n",
        "'''\n",
        "brics1   # append will not result into chaning the actual dataframe. brics will still be the same"
      ],
      "execution_count": null,
      "outputs": [
        {
          "output_type": "execute_result",
          "data": {
            "text/html": [
              "<div>\n",
              "<style scoped>\n",
              "    .dataframe tbody tr th:only-of-type {\n",
              "        vertical-align: middle;\n",
              "    }\n",
              "\n",
              "    .dataframe tbody tr th {\n",
              "        vertical-align: top;\n",
              "    }\n",
              "\n",
              "    .dataframe thead th {\n",
              "        text-align: right;\n",
              "    }\n",
              "</style>\n",
              "<table border=\"1\" class=\"dataframe\">\n",
              "  <thead>\n",
              "    <tr style=\"text-align: right;\">\n",
              "      <th></th>\n",
              "      <th>country</th>\n",
              "      <th>population</th>\n",
              "      <th>area</th>\n",
              "      <th>capital</th>\n",
              "      <th>on_earth</th>\n",
              "      <th>density</th>\n",
              "      <th>code</th>\n",
              "    </tr>\n",
              "  </thead>\n",
              "  <tbody>\n",
              "    <tr>\n",
              "      <th>0</th>\n",
              "      <td>Brazil</td>\n",
              "      <td>200</td>\n",
              "      <td>8515767</td>\n",
              "      <td>Brasilia</td>\n",
              "      <td>True</td>\n",
              "      <td>23.485847</td>\n",
              "      <td>NaN</td>\n",
              "    </tr>\n",
              "    <tr>\n",
              "      <th>1</th>\n",
              "      <td>Russia</td>\n",
              "      <td>144</td>\n",
              "      <td>17098242</td>\n",
              "      <td>Moscow</td>\n",
              "      <td>True</td>\n",
              "      <td>8.421918</td>\n",
              "      <td>NaN</td>\n",
              "    </tr>\n",
              "    <tr>\n",
              "      <th>2</th>\n",
              "      <td>India</td>\n",
              "      <td>1252</td>\n",
              "      <td>3287590</td>\n",
              "      <td>New Delhi</td>\n",
              "      <td>True</td>\n",
              "      <td>380.826076</td>\n",
              "      <td>NaN</td>\n",
              "    </tr>\n",
              "    <tr>\n",
              "      <th>3</th>\n",
              "      <td>China</td>\n",
              "      <td>1357</td>\n",
              "      <td>9596961</td>\n",
              "      <td>Beijing</td>\n",
              "      <td>True</td>\n",
              "      <td>141.398928</td>\n",
              "      <td>NaN</td>\n",
              "    </tr>\n",
              "    <tr>\n",
              "      <th>4</th>\n",
              "      <td>South Africa</td>\n",
              "      <td>55</td>\n",
              "      <td>1221037</td>\n",
              "      <td>Pretoria</td>\n",
              "      <td>True</td>\n",
              "      <td>45.043680</td>\n",
              "      <td>NaN</td>\n",
              "    </tr>\n",
              "    <tr>\n",
              "      <th>5</th>\n",
              "      <td>Wakanda</td>\n",
              "      <td>5</td>\n",
              "      <td>1000000</td>\n",
              "      <td>Wakanda City</td>\n",
              "      <td>False</td>\n",
              "      <td>5.000000</td>\n",
              "      <td>WK</td>\n",
              "    </tr>\n",
              "  </tbody>\n",
              "</table>\n",
              "</div>"
            ],
            "text/plain": [
              "        country  population      area       capital  on_earth     density code\n",
              "0        Brazil         200   8515767      Brasilia      True   23.485847  NaN\n",
              "1        Russia         144  17098242        Moscow      True    8.421918  NaN\n",
              "2         India        1252   3287590     New Delhi      True  380.826076  NaN\n",
              "3         China        1357   9596961       Beijing      True  141.398928  NaN\n",
              "4  South Africa          55   1221037      Pretoria      True   45.043680  NaN\n",
              "5       Wakanda           5   1000000  Wakanda City     False    5.000000   WK"
            ]
          },
          "metadata": {
            "tags": []
          },
          "execution_count": 33
        }
      ]
    },
    {
      "cell_type": "code",
      "metadata": {
        "colab": {
          "base_uri": "https://localhost:8080/",
          "height": 266
        },
        "id": "0R3KSrJ9srd8",
        "outputId": "e8b88118-af0a-4867-9a1d-ab49fa2b98d1"
      },
      "source": [
        "#Adding a new row using .loc\n",
        "brics.loc['WK'] = ['Wakanda', 5, 1000000, 'Wakanda City', False, 5]   \n",
        "# Sequence is very important. Data types may get changed due to wrong sequence.\n",
        "brics\n"
      ],
      "execution_count": null,
      "outputs": [
        {
          "output_type": "execute_result",
          "data": {
            "text/html": [
              "<div>\n",
              "<style scoped>\n",
              "    .dataframe tbody tr th:only-of-type {\n",
              "        vertical-align: middle;\n",
              "    }\n",
              "\n",
              "    .dataframe tbody tr th {\n",
              "        vertical-align: top;\n",
              "    }\n",
              "\n",
              "    .dataframe thead th {\n",
              "        text-align: right;\n",
              "    }\n",
              "</style>\n",
              "<table border=\"1\" class=\"dataframe\">\n",
              "  <thead>\n",
              "    <tr style=\"text-align: right;\">\n",
              "      <th></th>\n",
              "      <th>country</th>\n",
              "      <th>population</th>\n",
              "      <th>area</th>\n",
              "      <th>capital</th>\n",
              "      <th>on_earth</th>\n",
              "      <th>density</th>\n",
              "    </tr>\n",
              "    <tr>\n",
              "      <th>code</th>\n",
              "      <th></th>\n",
              "      <th></th>\n",
              "      <th></th>\n",
              "      <th></th>\n",
              "      <th></th>\n",
              "      <th></th>\n",
              "    </tr>\n",
              "  </thead>\n",
              "  <tbody>\n",
              "    <tr>\n",
              "      <th>BR</th>\n",
              "      <td>Brazil</td>\n",
              "      <td>200</td>\n",
              "      <td>8515767</td>\n",
              "      <td>Brasilia</td>\n",
              "      <td>True</td>\n",
              "      <td>23.485847</td>\n",
              "    </tr>\n",
              "    <tr>\n",
              "      <th>RU</th>\n",
              "      <td>Russia</td>\n",
              "      <td>144</td>\n",
              "      <td>17098242</td>\n",
              "      <td>Moscow</td>\n",
              "      <td>True</td>\n",
              "      <td>8.421918</td>\n",
              "    </tr>\n",
              "    <tr>\n",
              "      <th>IN</th>\n",
              "      <td>India</td>\n",
              "      <td>1252</td>\n",
              "      <td>3287590</td>\n",
              "      <td>New Delhi</td>\n",
              "      <td>True</td>\n",
              "      <td>380.826076</td>\n",
              "    </tr>\n",
              "    <tr>\n",
              "      <th>CH</th>\n",
              "      <td>China</td>\n",
              "      <td>1357</td>\n",
              "      <td>9596961</td>\n",
              "      <td>Beijing</td>\n",
              "      <td>True</td>\n",
              "      <td>141.398928</td>\n",
              "    </tr>\n",
              "    <tr>\n",
              "      <th>SA</th>\n",
              "      <td>South Africa</td>\n",
              "      <td>55</td>\n",
              "      <td>1221037</td>\n",
              "      <td>Pretoria</td>\n",
              "      <td>True</td>\n",
              "      <td>45.043680</td>\n",
              "    </tr>\n",
              "    <tr>\n",
              "      <th>WK</th>\n",
              "      <td>Wakanda</td>\n",
              "      <td>5</td>\n",
              "      <td>1000000</td>\n",
              "      <td>Wakanda City</td>\n",
              "      <td>False</td>\n",
              "      <td>5.000000</td>\n",
              "    </tr>\n",
              "  </tbody>\n",
              "</table>\n",
              "</div>"
            ],
            "text/plain": [
              "           country  population      area       capital  on_earth     density\n",
              "code                                                                        \n",
              "BR          Brazil         200   8515767      Brasilia      True   23.485847\n",
              "RU          Russia         144  17098242        Moscow      True    8.421918\n",
              "IN           India        1252   3287590     New Delhi      True  380.826076\n",
              "CH           China        1357   9596961       Beijing      True  141.398928\n",
              "SA    South Africa          55   1221037      Pretoria      True   45.043680\n",
              "WK         Wakanda           5   1000000  Wakanda City     False    5.000000"
            ]
          },
          "metadata": {
            "tags": []
          },
          "execution_count": 34
        }
      ]
    },
    {
      "cell_type": "code",
      "metadata": {
        "id": "iv1xQ3jms_xa",
        "colab": {
          "base_uri": "https://localhost:8080/",
          "height": 297
        },
        "outputId": "2c50f84b-4584-4420-8c06-d7be0ed544b4"
      },
      "source": [
        "# TO DO: Add a new row in the dataframe using .loc any other country with some values in all columns.\n",
        "\n",
        "brics.loc['USA'] = ['United States of America', 500, 78954678, 'Washington DC', True, 23.47]\n",
        "brics"
      ],
      "execution_count": null,
      "outputs": [
        {
          "output_type": "execute_result",
          "data": {
            "text/html": [
              "<div>\n",
              "<style scoped>\n",
              "    .dataframe tbody tr th:only-of-type {\n",
              "        vertical-align: middle;\n",
              "    }\n",
              "\n",
              "    .dataframe tbody tr th {\n",
              "        vertical-align: top;\n",
              "    }\n",
              "\n",
              "    .dataframe thead th {\n",
              "        text-align: right;\n",
              "    }\n",
              "</style>\n",
              "<table border=\"1\" class=\"dataframe\">\n",
              "  <thead>\n",
              "    <tr style=\"text-align: right;\">\n",
              "      <th></th>\n",
              "      <th>country</th>\n",
              "      <th>population</th>\n",
              "      <th>area</th>\n",
              "      <th>capital</th>\n",
              "      <th>on_earth</th>\n",
              "      <th>density</th>\n",
              "    </tr>\n",
              "    <tr>\n",
              "      <th>code</th>\n",
              "      <th></th>\n",
              "      <th></th>\n",
              "      <th></th>\n",
              "      <th></th>\n",
              "      <th></th>\n",
              "      <th></th>\n",
              "    </tr>\n",
              "  </thead>\n",
              "  <tbody>\n",
              "    <tr>\n",
              "      <th>BR</th>\n",
              "      <td>Brazil</td>\n",
              "      <td>200</td>\n",
              "      <td>8515767</td>\n",
              "      <td>Brasilia</td>\n",
              "      <td>True</td>\n",
              "      <td>23.485847</td>\n",
              "    </tr>\n",
              "    <tr>\n",
              "      <th>RU</th>\n",
              "      <td>Russia</td>\n",
              "      <td>144</td>\n",
              "      <td>17098242</td>\n",
              "      <td>Moscow</td>\n",
              "      <td>True</td>\n",
              "      <td>8.421918</td>\n",
              "    </tr>\n",
              "    <tr>\n",
              "      <th>IN</th>\n",
              "      <td>India</td>\n",
              "      <td>1252</td>\n",
              "      <td>3287590</td>\n",
              "      <td>New Delhi</td>\n",
              "      <td>True</td>\n",
              "      <td>380.826076</td>\n",
              "    </tr>\n",
              "    <tr>\n",
              "      <th>CH</th>\n",
              "      <td>China</td>\n",
              "      <td>1357</td>\n",
              "      <td>9596961</td>\n",
              "      <td>Beijing</td>\n",
              "      <td>True</td>\n",
              "      <td>141.398928</td>\n",
              "    </tr>\n",
              "    <tr>\n",
              "      <th>SA</th>\n",
              "      <td>South Africa</td>\n",
              "      <td>55</td>\n",
              "      <td>1221037</td>\n",
              "      <td>Pretoria</td>\n",
              "      <td>True</td>\n",
              "      <td>45.043680</td>\n",
              "    </tr>\n",
              "    <tr>\n",
              "      <th>WK</th>\n",
              "      <td>Wakanda</td>\n",
              "      <td>5</td>\n",
              "      <td>1000000</td>\n",
              "      <td>Wakanda City</td>\n",
              "      <td>False</td>\n",
              "      <td>5.000000</td>\n",
              "    </tr>\n",
              "    <tr>\n",
              "      <th>USA</th>\n",
              "      <td>United States of America</td>\n",
              "      <td>500</td>\n",
              "      <td>78954678</td>\n",
              "      <td>Washington DC</td>\n",
              "      <td>True</td>\n",
              "      <td>23.470000</td>\n",
              "    </tr>\n",
              "  </tbody>\n",
              "</table>\n",
              "</div>"
            ],
            "text/plain": [
              "                       country  population  ...  on_earth     density\n",
              "code                                        ...                      \n",
              "BR                      Brazil         200  ...      True   23.485847\n",
              "RU                      Russia         144  ...      True    8.421918\n",
              "IN                       India        1252  ...      True  380.826076\n",
              "CH                       China        1357  ...      True  141.398928\n",
              "SA                South Africa          55  ...      True   45.043680\n",
              "WK                     Wakanda           5  ...     False    5.000000\n",
              "USA   United States of America         500  ...      True   23.470000\n",
              "\n",
              "[7 rows x 6 columns]"
            ]
          },
          "metadata": {
            "tags": []
          },
          "execution_count": 35
        }
      ]
    },
    {
      "cell_type": "code",
      "metadata": {
        "id": "X1F6KqrPtSJr",
        "colab": {
          "base_uri": "https://localhost:8080/",
          "height": 35
        },
        "outputId": "6e39dd28-3af4-408f-824a-af03a7043d42"
      },
      "source": [
        "# Fetching the value in 2-D way. In Excel, we have cells for that, Ex- A2 means column A and row 2.\n",
        "# All of the below codes will give the same output. Please uncomment and execute them one by one.\n",
        "\n",
        "# brics.loc[\"IN\",\"capital\"]\n",
        "\n",
        "# brics[\"capital\"].loc[\"IN\"]\n",
        "\n",
        "brics.loc[\"IN\"]['capital']\n",
        "\n"
      ],
      "execution_count": null,
      "outputs": [
        {
          "output_type": "execute_result",
          "data": {
            "application/vnd.google.colaboratory.intrinsic+json": {
              "type": "string"
            },
            "text/plain": [
              "'New Delhi'"
            ]
          },
          "metadata": {
            "tags": []
          },
          "execution_count": 36
        }
      ]
    },
    {
      "cell_type": "markdown",
      "metadata": {
        "id": "JytdTcHUtqt7"
      },
      "source": [
        "#### Deleting rows and columns from a dataframe using drop()"
      ]
    },
    {
      "cell_type": "code",
      "metadata": {
        "id": "w_DnicT1tuhz",
        "colab": {
          "base_uri": "https://localhost:8080/",
          "height": 297
        },
        "outputId": "1551f203-a981-4cb7-f50c-ffefcc0421b9"
      },
      "source": [
        "# Lets create a new dataframe so that brics is not affected.\n",
        "\n",
        "brics1 = brics\n",
        "brics1"
      ],
      "execution_count": null,
      "outputs": [
        {
          "output_type": "execute_result",
          "data": {
            "text/html": [
              "<div>\n",
              "<style scoped>\n",
              "    .dataframe tbody tr th:only-of-type {\n",
              "        vertical-align: middle;\n",
              "    }\n",
              "\n",
              "    .dataframe tbody tr th {\n",
              "        vertical-align: top;\n",
              "    }\n",
              "\n",
              "    .dataframe thead th {\n",
              "        text-align: right;\n",
              "    }\n",
              "</style>\n",
              "<table border=\"1\" class=\"dataframe\">\n",
              "  <thead>\n",
              "    <tr style=\"text-align: right;\">\n",
              "      <th></th>\n",
              "      <th>country</th>\n",
              "      <th>population</th>\n",
              "      <th>area</th>\n",
              "      <th>capital</th>\n",
              "      <th>on_earth</th>\n",
              "      <th>density</th>\n",
              "    </tr>\n",
              "    <tr>\n",
              "      <th>code</th>\n",
              "      <th></th>\n",
              "      <th></th>\n",
              "      <th></th>\n",
              "      <th></th>\n",
              "      <th></th>\n",
              "      <th></th>\n",
              "    </tr>\n",
              "  </thead>\n",
              "  <tbody>\n",
              "    <tr>\n",
              "      <th>BR</th>\n",
              "      <td>Brazil</td>\n",
              "      <td>200</td>\n",
              "      <td>8515767</td>\n",
              "      <td>Brasilia</td>\n",
              "      <td>True</td>\n",
              "      <td>23.485847</td>\n",
              "    </tr>\n",
              "    <tr>\n",
              "      <th>RU</th>\n",
              "      <td>Russia</td>\n",
              "      <td>144</td>\n",
              "      <td>17098242</td>\n",
              "      <td>Moscow</td>\n",
              "      <td>True</td>\n",
              "      <td>8.421918</td>\n",
              "    </tr>\n",
              "    <tr>\n",
              "      <th>IN</th>\n",
              "      <td>India</td>\n",
              "      <td>1252</td>\n",
              "      <td>3287590</td>\n",
              "      <td>New Delhi</td>\n",
              "      <td>True</td>\n",
              "      <td>380.826076</td>\n",
              "    </tr>\n",
              "    <tr>\n",
              "      <th>CH</th>\n",
              "      <td>China</td>\n",
              "      <td>1357</td>\n",
              "      <td>9596961</td>\n",
              "      <td>Beijing</td>\n",
              "      <td>True</td>\n",
              "      <td>141.398928</td>\n",
              "    </tr>\n",
              "    <tr>\n",
              "      <th>SA</th>\n",
              "      <td>South Africa</td>\n",
              "      <td>55</td>\n",
              "      <td>1221037</td>\n",
              "      <td>Pretoria</td>\n",
              "      <td>True</td>\n",
              "      <td>45.043680</td>\n",
              "    </tr>\n",
              "    <tr>\n",
              "      <th>WK</th>\n",
              "      <td>Wakanda</td>\n",
              "      <td>5</td>\n",
              "      <td>1000000</td>\n",
              "      <td>Wakanda City</td>\n",
              "      <td>False</td>\n",
              "      <td>5.000000</td>\n",
              "    </tr>\n",
              "    <tr>\n",
              "      <th>USA</th>\n",
              "      <td>United States of America</td>\n",
              "      <td>500</td>\n",
              "      <td>78954678</td>\n",
              "      <td>Washington DC</td>\n",
              "      <td>True</td>\n",
              "      <td>23.470000</td>\n",
              "    </tr>\n",
              "  </tbody>\n",
              "</table>\n",
              "</div>"
            ],
            "text/plain": [
              "                       country  population  ...  on_earth     density\n",
              "code                                        ...                      \n",
              "BR                      Brazil         200  ...      True   23.485847\n",
              "RU                      Russia         144  ...      True    8.421918\n",
              "IN                       India        1252  ...      True  380.826076\n",
              "CH                       China        1357  ...      True  141.398928\n",
              "SA                South Africa          55  ...      True   45.043680\n",
              "WK                     Wakanda           5  ...     False    5.000000\n",
              "USA   United States of America         500  ...      True   23.470000\n",
              "\n",
              "[7 rows x 6 columns]"
            ]
          },
          "metadata": {
            "tags": []
          },
          "execution_count": 37
        }
      ]
    },
    {
      "cell_type": "code",
      "metadata": {
        "colab": {
          "base_uri": "https://localhost:8080/",
          "height": 297
        },
        "id": "LbEvEqpJt84R",
        "outputId": "23620cd7-1532-4ef5-a3f1-5f6df3c432ce"
      },
      "source": [
        "brics1.drop(['area'], axis=1)  # axis = 0 by default for rows. Axis = 1 for column.\n",
        "\n",
        "# For multiple columns, mention the columns separated by comma. Ex. df.drop(['name','max'], axis=1)"
      ],
      "execution_count": null,
      "outputs": [
        {
          "output_type": "execute_result",
          "data": {
            "text/html": [
              "<div>\n",
              "<style scoped>\n",
              "    .dataframe tbody tr th:only-of-type {\n",
              "        vertical-align: middle;\n",
              "    }\n",
              "\n",
              "    .dataframe tbody tr th {\n",
              "        vertical-align: top;\n",
              "    }\n",
              "\n",
              "    .dataframe thead th {\n",
              "        text-align: right;\n",
              "    }\n",
              "</style>\n",
              "<table border=\"1\" class=\"dataframe\">\n",
              "  <thead>\n",
              "    <tr style=\"text-align: right;\">\n",
              "      <th></th>\n",
              "      <th>country</th>\n",
              "      <th>population</th>\n",
              "      <th>capital</th>\n",
              "      <th>on_earth</th>\n",
              "      <th>density</th>\n",
              "    </tr>\n",
              "    <tr>\n",
              "      <th>code</th>\n",
              "      <th></th>\n",
              "      <th></th>\n",
              "      <th></th>\n",
              "      <th></th>\n",
              "      <th></th>\n",
              "    </tr>\n",
              "  </thead>\n",
              "  <tbody>\n",
              "    <tr>\n",
              "      <th>BR</th>\n",
              "      <td>Brazil</td>\n",
              "      <td>200</td>\n",
              "      <td>Brasilia</td>\n",
              "      <td>True</td>\n",
              "      <td>23.485847</td>\n",
              "    </tr>\n",
              "    <tr>\n",
              "      <th>RU</th>\n",
              "      <td>Russia</td>\n",
              "      <td>144</td>\n",
              "      <td>Moscow</td>\n",
              "      <td>True</td>\n",
              "      <td>8.421918</td>\n",
              "    </tr>\n",
              "    <tr>\n",
              "      <th>IN</th>\n",
              "      <td>India</td>\n",
              "      <td>1252</td>\n",
              "      <td>New Delhi</td>\n",
              "      <td>True</td>\n",
              "      <td>380.826076</td>\n",
              "    </tr>\n",
              "    <tr>\n",
              "      <th>CH</th>\n",
              "      <td>China</td>\n",
              "      <td>1357</td>\n",
              "      <td>Beijing</td>\n",
              "      <td>True</td>\n",
              "      <td>141.398928</td>\n",
              "    </tr>\n",
              "    <tr>\n",
              "      <th>SA</th>\n",
              "      <td>South Africa</td>\n",
              "      <td>55</td>\n",
              "      <td>Pretoria</td>\n",
              "      <td>True</td>\n",
              "      <td>45.043680</td>\n",
              "    </tr>\n",
              "    <tr>\n",
              "      <th>WK</th>\n",
              "      <td>Wakanda</td>\n",
              "      <td>5</td>\n",
              "      <td>Wakanda City</td>\n",
              "      <td>False</td>\n",
              "      <td>5.000000</td>\n",
              "    </tr>\n",
              "    <tr>\n",
              "      <th>USA</th>\n",
              "      <td>United States of America</td>\n",
              "      <td>500</td>\n",
              "      <td>Washington DC</td>\n",
              "      <td>True</td>\n",
              "      <td>23.470000</td>\n",
              "    </tr>\n",
              "  </tbody>\n",
              "</table>\n",
              "</div>"
            ],
            "text/plain": [
              "                       country  population        capital  on_earth     density\n",
              "code                                                                           \n",
              "BR                      Brazil         200       Brasilia      True   23.485847\n",
              "RU                      Russia         144         Moscow      True    8.421918\n",
              "IN                       India        1252      New Delhi      True  380.826076\n",
              "CH                       China        1357        Beijing      True  141.398928\n",
              "SA                South Africa          55       Pretoria      True   45.043680\n",
              "WK                     Wakanda           5   Wakanda City     False    5.000000\n",
              "USA   United States of America         500  Washington DC      True   23.470000"
            ]
          },
          "metadata": {
            "tags": []
          },
          "execution_count": 38
        }
      ]
    },
    {
      "cell_type": "code",
      "metadata": {
        "id": "rq6cFICqwLXt",
        "colab": {
          "base_uri": "https://localhost:8080/",
          "height": 297
        },
        "outputId": "76ae5da5-9402-417a-c65d-f7c9e0868a4b"
      },
      "source": [
        "brics1 = brics\n",
        "\n",
        "# TO DO: Try deleting area and density columns from brics1 dataframe\n",
        "brics1.drop(['area', 'density'], axis=1)\n"
      ],
      "execution_count": null,
      "outputs": [
        {
          "output_type": "execute_result",
          "data": {
            "text/html": [
              "<div>\n",
              "<style scoped>\n",
              "    .dataframe tbody tr th:only-of-type {\n",
              "        vertical-align: middle;\n",
              "    }\n",
              "\n",
              "    .dataframe tbody tr th {\n",
              "        vertical-align: top;\n",
              "    }\n",
              "\n",
              "    .dataframe thead th {\n",
              "        text-align: right;\n",
              "    }\n",
              "</style>\n",
              "<table border=\"1\" class=\"dataframe\">\n",
              "  <thead>\n",
              "    <tr style=\"text-align: right;\">\n",
              "      <th></th>\n",
              "      <th>country</th>\n",
              "      <th>population</th>\n",
              "      <th>capital</th>\n",
              "      <th>on_earth</th>\n",
              "    </tr>\n",
              "    <tr>\n",
              "      <th>code</th>\n",
              "      <th></th>\n",
              "      <th></th>\n",
              "      <th></th>\n",
              "      <th></th>\n",
              "    </tr>\n",
              "  </thead>\n",
              "  <tbody>\n",
              "    <tr>\n",
              "      <th>BR</th>\n",
              "      <td>Brazil</td>\n",
              "      <td>200</td>\n",
              "      <td>Brasilia</td>\n",
              "      <td>True</td>\n",
              "    </tr>\n",
              "    <tr>\n",
              "      <th>RU</th>\n",
              "      <td>Russia</td>\n",
              "      <td>144</td>\n",
              "      <td>Moscow</td>\n",
              "      <td>True</td>\n",
              "    </tr>\n",
              "    <tr>\n",
              "      <th>IN</th>\n",
              "      <td>India</td>\n",
              "      <td>1252</td>\n",
              "      <td>New Delhi</td>\n",
              "      <td>True</td>\n",
              "    </tr>\n",
              "    <tr>\n",
              "      <th>CH</th>\n",
              "      <td>China</td>\n",
              "      <td>1357</td>\n",
              "      <td>Beijing</td>\n",
              "      <td>True</td>\n",
              "    </tr>\n",
              "    <tr>\n",
              "      <th>SA</th>\n",
              "      <td>South Africa</td>\n",
              "      <td>55</td>\n",
              "      <td>Pretoria</td>\n",
              "      <td>True</td>\n",
              "    </tr>\n",
              "    <tr>\n",
              "      <th>WK</th>\n",
              "      <td>Wakanda</td>\n",
              "      <td>5</td>\n",
              "      <td>Wakanda City</td>\n",
              "      <td>False</td>\n",
              "    </tr>\n",
              "    <tr>\n",
              "      <th>USA</th>\n",
              "      <td>United States of America</td>\n",
              "      <td>500</td>\n",
              "      <td>Washington DC</td>\n",
              "      <td>True</td>\n",
              "    </tr>\n",
              "  </tbody>\n",
              "</table>\n",
              "</div>"
            ],
            "text/plain": [
              "                       country  population        capital  on_earth\n",
              "code                                                               \n",
              "BR                      Brazil         200       Brasilia      True\n",
              "RU                      Russia         144         Moscow      True\n",
              "IN                       India        1252      New Delhi      True\n",
              "CH                       China        1357        Beijing      True\n",
              "SA                South Africa          55       Pretoria      True\n",
              "WK                     Wakanda           5   Wakanda City     False\n",
              "USA   United States of America         500  Washington DC      True"
            ]
          },
          "metadata": {
            "tags": []
          },
          "execution_count": 39
        }
      ]
    },
    {
      "cell_type": "code",
      "metadata": {
        "id": "XASmKR5iwj1Q",
        "colab": {
          "base_uri": "https://localhost:8080/",
          "height": 266
        },
        "outputId": "27087822-d810-4e38-c5da-bf7b1eb7387d"
      },
      "source": [
        "# TO DO: Delete the record for Wakanda by using its index WK\n",
        "# Hint: Use WK as identifier and delete axis argument or put axis = 0\n",
        "\n",
        "brics1.drop(\"WK\", axis = 0)"
      ],
      "execution_count": null,
      "outputs": [
        {
          "output_type": "execute_result",
          "data": {
            "text/html": [
              "<div>\n",
              "<style scoped>\n",
              "    .dataframe tbody tr th:only-of-type {\n",
              "        vertical-align: middle;\n",
              "    }\n",
              "\n",
              "    .dataframe tbody tr th {\n",
              "        vertical-align: top;\n",
              "    }\n",
              "\n",
              "    .dataframe thead th {\n",
              "        text-align: right;\n",
              "    }\n",
              "</style>\n",
              "<table border=\"1\" class=\"dataframe\">\n",
              "  <thead>\n",
              "    <tr style=\"text-align: right;\">\n",
              "      <th></th>\n",
              "      <th>country</th>\n",
              "      <th>population</th>\n",
              "      <th>area</th>\n",
              "      <th>capital</th>\n",
              "      <th>on_earth</th>\n",
              "      <th>density</th>\n",
              "    </tr>\n",
              "    <tr>\n",
              "      <th>code</th>\n",
              "      <th></th>\n",
              "      <th></th>\n",
              "      <th></th>\n",
              "      <th></th>\n",
              "      <th></th>\n",
              "      <th></th>\n",
              "    </tr>\n",
              "  </thead>\n",
              "  <tbody>\n",
              "    <tr>\n",
              "      <th>BR</th>\n",
              "      <td>Brazil</td>\n",
              "      <td>200</td>\n",
              "      <td>8515767</td>\n",
              "      <td>Brasilia</td>\n",
              "      <td>True</td>\n",
              "      <td>23.485847</td>\n",
              "    </tr>\n",
              "    <tr>\n",
              "      <th>RU</th>\n",
              "      <td>Russia</td>\n",
              "      <td>144</td>\n",
              "      <td>17098242</td>\n",
              "      <td>Moscow</td>\n",
              "      <td>True</td>\n",
              "      <td>8.421918</td>\n",
              "    </tr>\n",
              "    <tr>\n",
              "      <th>IN</th>\n",
              "      <td>India</td>\n",
              "      <td>1252</td>\n",
              "      <td>3287590</td>\n",
              "      <td>New Delhi</td>\n",
              "      <td>True</td>\n",
              "      <td>380.826076</td>\n",
              "    </tr>\n",
              "    <tr>\n",
              "      <th>CH</th>\n",
              "      <td>China</td>\n",
              "      <td>1357</td>\n",
              "      <td>9596961</td>\n",
              "      <td>Beijing</td>\n",
              "      <td>True</td>\n",
              "      <td>141.398928</td>\n",
              "    </tr>\n",
              "    <tr>\n",
              "      <th>SA</th>\n",
              "      <td>South Africa</td>\n",
              "      <td>55</td>\n",
              "      <td>1221037</td>\n",
              "      <td>Pretoria</td>\n",
              "      <td>True</td>\n",
              "      <td>45.043680</td>\n",
              "    </tr>\n",
              "    <tr>\n",
              "      <th>USA</th>\n",
              "      <td>United States of America</td>\n",
              "      <td>500</td>\n",
              "      <td>78954678</td>\n",
              "      <td>Washington DC</td>\n",
              "      <td>True</td>\n",
              "      <td>23.470000</td>\n",
              "    </tr>\n",
              "  </tbody>\n",
              "</table>\n",
              "</div>"
            ],
            "text/plain": [
              "                       country  population  ...  on_earth     density\n",
              "code                                        ...                      \n",
              "BR                      Brazil         200  ...      True   23.485847\n",
              "RU                      Russia         144  ...      True    8.421918\n",
              "IN                       India        1252  ...      True  380.826076\n",
              "CH                       China        1357  ...      True  141.398928\n",
              "SA                South Africa          55  ...      True   45.043680\n",
              "USA   United States of America         500  ...      True   23.470000\n",
              "\n",
              "[6 rows x 6 columns]"
            ]
          },
          "metadata": {
            "tags": []
          },
          "execution_count": 40
        }
      ]
    },
    {
      "cell_type": "code",
      "metadata": {
        "id": "1U4nfmQqytxo",
        "colab": {
          "base_uri": "https://localhost:8080/",
          "height": 297
        },
        "outputId": "ae8e9db1-5607-491a-c2f6-ae00d8c4163a"
      },
      "source": [
        "brics1 = brics\n",
        "\n",
        "# Another way to drop columns\n",
        "brics1.drop(columns=['area', 'density']) "
      ],
      "execution_count": null,
      "outputs": [
        {
          "output_type": "execute_result",
          "data": {
            "text/html": [
              "<div>\n",
              "<style scoped>\n",
              "    .dataframe tbody tr th:only-of-type {\n",
              "        vertical-align: middle;\n",
              "    }\n",
              "\n",
              "    .dataframe tbody tr th {\n",
              "        vertical-align: top;\n",
              "    }\n",
              "\n",
              "    .dataframe thead th {\n",
              "        text-align: right;\n",
              "    }\n",
              "</style>\n",
              "<table border=\"1\" class=\"dataframe\">\n",
              "  <thead>\n",
              "    <tr style=\"text-align: right;\">\n",
              "      <th></th>\n",
              "      <th>country</th>\n",
              "      <th>population</th>\n",
              "      <th>capital</th>\n",
              "      <th>on_earth</th>\n",
              "    </tr>\n",
              "    <tr>\n",
              "      <th>code</th>\n",
              "      <th></th>\n",
              "      <th></th>\n",
              "      <th></th>\n",
              "      <th></th>\n",
              "    </tr>\n",
              "  </thead>\n",
              "  <tbody>\n",
              "    <tr>\n",
              "      <th>BR</th>\n",
              "      <td>Brazil</td>\n",
              "      <td>200</td>\n",
              "      <td>Brasilia</td>\n",
              "      <td>True</td>\n",
              "    </tr>\n",
              "    <tr>\n",
              "      <th>RU</th>\n",
              "      <td>Russia</td>\n",
              "      <td>144</td>\n",
              "      <td>Moscow</td>\n",
              "      <td>True</td>\n",
              "    </tr>\n",
              "    <tr>\n",
              "      <th>IN</th>\n",
              "      <td>India</td>\n",
              "      <td>1252</td>\n",
              "      <td>New Delhi</td>\n",
              "      <td>True</td>\n",
              "    </tr>\n",
              "    <tr>\n",
              "      <th>CH</th>\n",
              "      <td>China</td>\n",
              "      <td>1357</td>\n",
              "      <td>Beijing</td>\n",
              "      <td>True</td>\n",
              "    </tr>\n",
              "    <tr>\n",
              "      <th>SA</th>\n",
              "      <td>South Africa</td>\n",
              "      <td>55</td>\n",
              "      <td>Pretoria</td>\n",
              "      <td>True</td>\n",
              "    </tr>\n",
              "    <tr>\n",
              "      <th>WK</th>\n",
              "      <td>Wakanda</td>\n",
              "      <td>5</td>\n",
              "      <td>Wakanda City</td>\n",
              "      <td>False</td>\n",
              "    </tr>\n",
              "    <tr>\n",
              "      <th>USA</th>\n",
              "      <td>United States of America</td>\n",
              "      <td>500</td>\n",
              "      <td>Washington DC</td>\n",
              "      <td>True</td>\n",
              "    </tr>\n",
              "  </tbody>\n",
              "</table>\n",
              "</div>"
            ],
            "text/plain": [
              "                       country  population        capital  on_earth\n",
              "code                                                               \n",
              "BR                      Brazil         200       Brasilia      True\n",
              "RU                      Russia         144         Moscow      True\n",
              "IN                       India        1252      New Delhi      True\n",
              "CH                       China        1357        Beijing      True\n",
              "SA                South Africa          55       Pretoria      True\n",
              "WK                     Wakanda           5   Wakanda City     False\n",
              "USA   United States of America         500  Washington DC      True"
            ]
          },
          "metadata": {
            "tags": []
          },
          "execution_count": 41
        }
      ]
    },
    {
      "cell_type": "code",
      "metadata": {
        "id": "j1lTvdC1zKdt",
        "colab": {
          "base_uri": "https://localhost:8080/",
          "height": 235
        },
        "outputId": "97b0ee9b-ac22-4c25-de2d-2c9bfa4b5fee"
      },
      "source": [
        "brics1 = brics\n",
        "\n",
        "# Drop rows by index\n",
        "\n",
        "brics1.drop(['IN', 'CH'])"
      ],
      "execution_count": null,
      "outputs": [
        {
          "output_type": "execute_result",
          "data": {
            "text/html": [
              "<div>\n",
              "<style scoped>\n",
              "    .dataframe tbody tr th:only-of-type {\n",
              "        vertical-align: middle;\n",
              "    }\n",
              "\n",
              "    .dataframe tbody tr th {\n",
              "        vertical-align: top;\n",
              "    }\n",
              "\n",
              "    .dataframe thead th {\n",
              "        text-align: right;\n",
              "    }\n",
              "</style>\n",
              "<table border=\"1\" class=\"dataframe\">\n",
              "  <thead>\n",
              "    <tr style=\"text-align: right;\">\n",
              "      <th></th>\n",
              "      <th>country</th>\n",
              "      <th>population</th>\n",
              "      <th>area</th>\n",
              "      <th>capital</th>\n",
              "      <th>on_earth</th>\n",
              "      <th>density</th>\n",
              "    </tr>\n",
              "    <tr>\n",
              "      <th>code</th>\n",
              "      <th></th>\n",
              "      <th></th>\n",
              "      <th></th>\n",
              "      <th></th>\n",
              "      <th></th>\n",
              "      <th></th>\n",
              "    </tr>\n",
              "  </thead>\n",
              "  <tbody>\n",
              "    <tr>\n",
              "      <th>BR</th>\n",
              "      <td>Brazil</td>\n",
              "      <td>200</td>\n",
              "      <td>8515767</td>\n",
              "      <td>Brasilia</td>\n",
              "      <td>True</td>\n",
              "      <td>23.485847</td>\n",
              "    </tr>\n",
              "    <tr>\n",
              "      <th>RU</th>\n",
              "      <td>Russia</td>\n",
              "      <td>144</td>\n",
              "      <td>17098242</td>\n",
              "      <td>Moscow</td>\n",
              "      <td>True</td>\n",
              "      <td>8.421918</td>\n",
              "    </tr>\n",
              "    <tr>\n",
              "      <th>SA</th>\n",
              "      <td>South Africa</td>\n",
              "      <td>55</td>\n",
              "      <td>1221037</td>\n",
              "      <td>Pretoria</td>\n",
              "      <td>True</td>\n",
              "      <td>45.043680</td>\n",
              "    </tr>\n",
              "    <tr>\n",
              "      <th>WK</th>\n",
              "      <td>Wakanda</td>\n",
              "      <td>5</td>\n",
              "      <td>1000000</td>\n",
              "      <td>Wakanda City</td>\n",
              "      <td>False</td>\n",
              "      <td>5.000000</td>\n",
              "    </tr>\n",
              "    <tr>\n",
              "      <th>USA</th>\n",
              "      <td>United States of America</td>\n",
              "      <td>500</td>\n",
              "      <td>78954678</td>\n",
              "      <td>Washington DC</td>\n",
              "      <td>True</td>\n",
              "      <td>23.470000</td>\n",
              "    </tr>\n",
              "  </tbody>\n",
              "</table>\n",
              "</div>"
            ],
            "text/plain": [
              "                       country  population  ...  on_earth    density\n",
              "code                                        ...                     \n",
              "BR                      Brazil         200  ...      True  23.485847\n",
              "RU                      Russia         144  ...      True   8.421918\n",
              "SA                South Africa          55  ...      True  45.043680\n",
              "WK                     Wakanda           5  ...     False   5.000000\n",
              "USA   United States of America         500  ...      True  23.470000\n",
              "\n",
              "[5 rows x 6 columns]"
            ]
          },
          "metadata": {
            "tags": []
          },
          "execution_count": 42
        }
      ]
    },
    {
      "cell_type": "code",
      "metadata": {
        "id": "mvSbn1HAzvy7",
        "colab": {
          "base_uri": "https://localhost:8080/"
        },
        "outputId": "a9ecc38e-e022-4ee5-aa05-7adb855c0f37"
      },
      "source": [
        "# The shape function helps us to find the shape or size of an array or matrix. In Excel - A1:D10.  \n",
        "# shape[0] means we are working along the first dimension of your array.\n",
        "# If Y has n rows and m columns, then Y.shape is (n,m). So Y.shape[0] is n.\n",
        "\n",
        "for index in range(brics.shape[0]):    \n",
        "    countryName = brics.iloc[index,0]  # row - index, column - 0\n",
        "    cityName = brics.iloc[index, 3]  # row - index, column - 3\n",
        "    print('The Capital City of', countryName, 'is', cityName)\n"
      ],
      "execution_count": null,
      "outputs": [
        {
          "output_type": "stream",
          "text": [
            "The Capital City of Brazil is Brasilia\n",
            "The Capital City of Russia is Moscow\n",
            "The Capital City of India is New Delhi\n",
            "The Capital City of China is Beijing\n",
            "The Capital City of South Africa is Pretoria\n",
            "The Capital City of Wakanda is Wakanda City\n",
            "The Capital City of United States of America is Washington DC\n"
          ],
          "name": "stdout"
        }
      ]
    },
    {
      "cell_type": "markdown",
      "metadata": {
        "id": "hdYKuSY00DQO"
      },
      "source": [
        "Read more on shape() : https://pandas.pydata.org/pandas-docs/stable/reference/api/pandas.DataFrame.shape.html"
      ]
    },
    {
      "cell_type": "code",
      "metadata": {
        "id": "XFuEnmT80BHw",
        "colab": {
          "base_uri": "https://localhost:8080/"
        },
        "outputId": "57958728-5e2f-439e-af6b-f74281f73393"
      },
      "source": [
        "#Another solution\n",
        "for index in range(brics.shape[0]):\n",
        "    print('The Capital City of', brics.iloc[index, 0], 'is', brics.iloc[index, 3])"
      ],
      "execution_count": null,
      "outputs": [
        {
          "output_type": "stream",
          "text": [
            "The Capital City of Brazil is Brasilia\n",
            "The Capital City of Russia is Moscow\n",
            "The Capital City of India is New Delhi\n",
            "The Capital City of China is Beijing\n",
            "The Capital City of South Africa is Pretoria\n",
            "The Capital City of Wakanda is Wakanda City\n",
            "The Capital City of United States of America is Washington DC\n"
          ],
          "name": "stdout"
        }
      ]
    },
    {
      "cell_type": "code",
      "metadata": {
        "id": "kbSEZ24X0HFD",
        "colab": {
          "base_uri": "https://localhost:8080/"
        },
        "outputId": "0f860e12-ac85-4185-a5e4-24eeed8ef923"
      },
      "source": [
        "#Another solution\n",
        "# iterrows() is a generator that iterates over the rows of the dataframe and returns the index of each row, \n",
        "# in addition to an object containing the row itself.\n",
        "\n",
        "for index, row in brics.iterrows():\n",
        "    print(\"The Capital City of\",row['country'],\"is\", row['capital'])"
      ],
      "execution_count": null,
      "outputs": [
        {
          "output_type": "stream",
          "text": [
            "The Capital City of Brazil is Brasilia\n",
            "The Capital City of Russia is Moscow\n",
            "The Capital City of India is New Delhi\n",
            "The Capital City of China is Beijing\n",
            "The Capital City of South Africa is Pretoria\n",
            "The Capital City of Wakanda is Wakanda City\n",
            "The Capital City of United States of America is Washington DC\n"
          ],
          "name": "stdout"
        }
      ]
    },
    {
      "cell_type": "markdown",
      "metadata": {
        "id": "9mijtfWA0nb1"
      },
      "source": [
        "# Importing data from an url\n",
        "\n",
        "We will explore some more data exploration functions on a different dataset. \n",
        "\n",
        "Date to use: cars.csv : https://drive.google.com/file/d/1jKBYa6NyEiBmaeXdfoYe3CxFGPT89Hr1/view?usp=sharing\n"
      ]
    },
    {
      "cell_type": "code",
      "metadata": {
        "id": "_3GhLXTc4LUN"
      },
      "source": [
        "# If data is in Google Drive\n",
        "import pandas as pd\n",
        "from google.colab import files\n",
        "uploaded = files.upload()"
      ],
      "execution_count": null,
      "outputs": []
    },
    {
      "cell_type": "code",
      "metadata": {
        "id": "HiVcOeqt4NFy",
        "colab": {
          "base_uri": "https://localhost:8080/",
          "height": 266
        },
        "outputId": "7cad8e22-a433-4147-d8bb-c9ed43dd2020"
      },
      "source": [
        "# Coninuation of the previous code cell. \n",
        "'''\n",
        "The io module provides Python's main facilities for dealing with various types of I/O. \n",
        "There are three main types of I/O: text I/O, binary I/O and raw I/O. \n",
        "'''\n",
        "\n",
        "import io\n",
        "cars = pd.read_csv(io.BytesIO(uploaded['cars.csv']))\n",
        "# Dataset is now stored in a Pandas Dataframe\n",
        "\n",
        "cars"
      ],
      "execution_count": null,
      "outputs": [
        {
          "output_type": "execute_result",
          "data": {
            "text/html": [
              "<div>\n",
              "<style scoped>\n",
              "    .dataframe tbody tr th:only-of-type {\n",
              "        vertical-align: middle;\n",
              "    }\n",
              "\n",
              "    .dataframe tbody tr th {\n",
              "        vertical-align: top;\n",
              "    }\n",
              "\n",
              "    .dataframe thead th {\n",
              "        text-align: right;\n",
              "    }\n",
              "</style>\n",
              "<table border=\"1\" class=\"dataframe\">\n",
              "  <thead>\n",
              "    <tr style=\"text-align: right;\">\n",
              "      <th></th>\n",
              "      <th>Unnamed: 0</th>\n",
              "      <th>cars_per_cap</th>\n",
              "      <th>country</th>\n",
              "      <th>drives_right</th>\n",
              "    </tr>\n",
              "  </thead>\n",
              "  <tbody>\n",
              "    <tr>\n",
              "      <th>0</th>\n",
              "      <td>US</td>\n",
              "      <td>809</td>\n",
              "      <td>United States</td>\n",
              "      <td>True</td>\n",
              "    </tr>\n",
              "    <tr>\n",
              "      <th>1</th>\n",
              "      <td>AUS</td>\n",
              "      <td>731</td>\n",
              "      <td>Australia</td>\n",
              "      <td>False</td>\n",
              "    </tr>\n",
              "    <tr>\n",
              "      <th>2</th>\n",
              "      <td>JAP</td>\n",
              "      <td>588</td>\n",
              "      <td>Japan</td>\n",
              "      <td>False</td>\n",
              "    </tr>\n",
              "    <tr>\n",
              "      <th>3</th>\n",
              "      <td>IN</td>\n",
              "      <td>18</td>\n",
              "      <td>India</td>\n",
              "      <td>False</td>\n",
              "    </tr>\n",
              "    <tr>\n",
              "      <th>4</th>\n",
              "      <td>RU</td>\n",
              "      <td>200</td>\n",
              "      <td>Russia</td>\n",
              "      <td>True</td>\n",
              "    </tr>\n",
              "    <tr>\n",
              "      <th>5</th>\n",
              "      <td>MOR</td>\n",
              "      <td>70</td>\n",
              "      <td>Morocco</td>\n",
              "      <td>True</td>\n",
              "    </tr>\n",
              "    <tr>\n",
              "      <th>6</th>\n",
              "      <td>EG</td>\n",
              "      <td>45</td>\n",
              "      <td>Egypt</td>\n",
              "      <td>True</td>\n",
              "    </tr>\n",
              "  </tbody>\n",
              "</table>\n",
              "</div>"
            ],
            "text/plain": [
              "  Unnamed: 0  cars_per_cap        country  drives_right\n",
              "0         US           809  United States          True\n",
              "1        AUS           731      Australia         False\n",
              "2        JAP           588          Japan         False\n",
              "3         IN            18          India         False\n",
              "4         RU           200         Russia          True\n",
              "5        MOR            70        Morocco          True\n",
              "6         EG            45          Egypt          True"
            ]
          },
          "metadata": {
            "tags": []
          },
          "execution_count": 46
        }
      ]
    },
    {
      "cell_type": "markdown",
      "metadata": {
        "id": "AQpwMXhD5c9t"
      },
      "source": [
        "Notice that there is an unnamed column in the above output. It is because the column name is not given in the orignal dataset for the 1st column. We will make corrections for that in sometime."
      ]
    },
    {
      "cell_type": "code",
      "metadata": {
        "id": "syBt3UvB4UaD",
        "colab": {
          "base_uri": "https://localhost:8080/",
          "height": 204
        },
        "outputId": "0e16753a-17d9-494d-dc66-acdc0e6439f2"
      },
      "source": [
        "# Print top 5 rows from the data, without any sorting or filter.\n",
        "cars.head()\n",
        "\n"
      ],
      "execution_count": null,
      "outputs": [
        {
          "output_type": "execute_result",
          "data": {
            "text/html": [
              "<div>\n",
              "<style scoped>\n",
              "    .dataframe tbody tr th:only-of-type {\n",
              "        vertical-align: middle;\n",
              "    }\n",
              "\n",
              "    .dataframe tbody tr th {\n",
              "        vertical-align: top;\n",
              "    }\n",
              "\n",
              "    .dataframe thead th {\n",
              "        text-align: right;\n",
              "    }\n",
              "</style>\n",
              "<table border=\"1\" class=\"dataframe\">\n",
              "  <thead>\n",
              "    <tr style=\"text-align: right;\">\n",
              "      <th></th>\n",
              "      <th>Unnamed: 0</th>\n",
              "      <th>cars_per_cap</th>\n",
              "      <th>country</th>\n",
              "      <th>drives_right</th>\n",
              "    </tr>\n",
              "  </thead>\n",
              "  <tbody>\n",
              "    <tr>\n",
              "      <th>0</th>\n",
              "      <td>US</td>\n",
              "      <td>809</td>\n",
              "      <td>United States</td>\n",
              "      <td>True</td>\n",
              "    </tr>\n",
              "    <tr>\n",
              "      <th>1</th>\n",
              "      <td>AUS</td>\n",
              "      <td>731</td>\n",
              "      <td>Australia</td>\n",
              "      <td>False</td>\n",
              "    </tr>\n",
              "    <tr>\n",
              "      <th>2</th>\n",
              "      <td>JAP</td>\n",
              "      <td>588</td>\n",
              "      <td>Japan</td>\n",
              "      <td>False</td>\n",
              "    </tr>\n",
              "    <tr>\n",
              "      <th>3</th>\n",
              "      <td>IN</td>\n",
              "      <td>18</td>\n",
              "      <td>India</td>\n",
              "      <td>False</td>\n",
              "    </tr>\n",
              "    <tr>\n",
              "      <th>4</th>\n",
              "      <td>RU</td>\n",
              "      <td>200</td>\n",
              "      <td>Russia</td>\n",
              "      <td>True</td>\n",
              "    </tr>\n",
              "  </tbody>\n",
              "</table>\n",
              "</div>"
            ],
            "text/plain": [
              "  Unnamed: 0  cars_per_cap        country  drives_right\n",
              "0         US           809  United States          True\n",
              "1        AUS           731      Australia         False\n",
              "2        JAP           588          Japan         False\n",
              "3         IN            18          India         False\n",
              "4         RU           200         Russia          True"
            ]
          },
          "metadata": {
            "tags": []
          },
          "execution_count": 47
        }
      ]
    },
    {
      "cell_type": "code",
      "metadata": {
        "id": "Gx9AEfJh4k7k",
        "colab": {
          "base_uri": "https://localhost:8080/",
          "height": 266
        },
        "outputId": "eea2acfa-155a-4bb3-c534-2c04a4e9b66e"
      },
      "source": [
        "# TO DO: Print top 7 rows from the data\n",
        "# To print n number of rows, enter the value of n in the head() as an argument.\n",
        "cars.head(7)\n"
      ],
      "execution_count": null,
      "outputs": [
        {
          "output_type": "execute_result",
          "data": {
            "text/html": [
              "<div>\n",
              "<style scoped>\n",
              "    .dataframe tbody tr th:only-of-type {\n",
              "        vertical-align: middle;\n",
              "    }\n",
              "\n",
              "    .dataframe tbody tr th {\n",
              "        vertical-align: top;\n",
              "    }\n",
              "\n",
              "    .dataframe thead th {\n",
              "        text-align: right;\n",
              "    }\n",
              "</style>\n",
              "<table border=\"1\" class=\"dataframe\">\n",
              "  <thead>\n",
              "    <tr style=\"text-align: right;\">\n",
              "      <th></th>\n",
              "      <th>Unnamed: 0</th>\n",
              "      <th>cars_per_cap</th>\n",
              "      <th>country</th>\n",
              "      <th>drives_right</th>\n",
              "    </tr>\n",
              "  </thead>\n",
              "  <tbody>\n",
              "    <tr>\n",
              "      <th>0</th>\n",
              "      <td>US</td>\n",
              "      <td>809</td>\n",
              "      <td>United States</td>\n",
              "      <td>True</td>\n",
              "    </tr>\n",
              "    <tr>\n",
              "      <th>1</th>\n",
              "      <td>AUS</td>\n",
              "      <td>731</td>\n",
              "      <td>Australia</td>\n",
              "      <td>False</td>\n",
              "    </tr>\n",
              "    <tr>\n",
              "      <th>2</th>\n",
              "      <td>JAP</td>\n",
              "      <td>588</td>\n",
              "      <td>Japan</td>\n",
              "      <td>False</td>\n",
              "    </tr>\n",
              "    <tr>\n",
              "      <th>3</th>\n",
              "      <td>IN</td>\n",
              "      <td>18</td>\n",
              "      <td>India</td>\n",
              "      <td>False</td>\n",
              "    </tr>\n",
              "    <tr>\n",
              "      <th>4</th>\n",
              "      <td>RU</td>\n",
              "      <td>200</td>\n",
              "      <td>Russia</td>\n",
              "      <td>True</td>\n",
              "    </tr>\n",
              "    <tr>\n",
              "      <th>5</th>\n",
              "      <td>MOR</td>\n",
              "      <td>70</td>\n",
              "      <td>Morocco</td>\n",
              "      <td>True</td>\n",
              "    </tr>\n",
              "    <tr>\n",
              "      <th>6</th>\n",
              "      <td>EG</td>\n",
              "      <td>45</td>\n",
              "      <td>Egypt</td>\n",
              "      <td>True</td>\n",
              "    </tr>\n",
              "  </tbody>\n",
              "</table>\n",
              "</div>"
            ],
            "text/plain": [
              "  Unnamed: 0  cars_per_cap        country  drives_right\n",
              "0         US           809  United States          True\n",
              "1        AUS           731      Australia         False\n",
              "2        JAP           588          Japan         False\n",
              "3         IN            18          India         False\n",
              "4         RU           200         Russia          True\n",
              "5        MOR            70        Morocco          True\n",
              "6         EG            45          Egypt          True"
            ]
          },
          "metadata": {
            "tags": []
          },
          "execution_count": 48
        }
      ]
    },
    {
      "cell_type": "code",
      "metadata": {
        "id": "Mz-7fSqT4sTL",
        "colab": {
          "base_uri": "https://localhost:8080/",
          "height": 204
        },
        "outputId": "4b084250-e466-4ded-98da-1a97d426f478"
      },
      "source": [
        "# For bottom 5 rows in the dataframe\n",
        "cars.tail()  "
      ],
      "execution_count": null,
      "outputs": [
        {
          "output_type": "execute_result",
          "data": {
            "text/html": [
              "<div>\n",
              "<style scoped>\n",
              "    .dataframe tbody tr th:only-of-type {\n",
              "        vertical-align: middle;\n",
              "    }\n",
              "\n",
              "    .dataframe tbody tr th {\n",
              "        vertical-align: top;\n",
              "    }\n",
              "\n",
              "    .dataframe thead th {\n",
              "        text-align: right;\n",
              "    }\n",
              "</style>\n",
              "<table border=\"1\" class=\"dataframe\">\n",
              "  <thead>\n",
              "    <tr style=\"text-align: right;\">\n",
              "      <th></th>\n",
              "      <th>Unnamed: 0</th>\n",
              "      <th>cars_per_cap</th>\n",
              "      <th>country</th>\n",
              "      <th>drives_right</th>\n",
              "    </tr>\n",
              "  </thead>\n",
              "  <tbody>\n",
              "    <tr>\n",
              "      <th>2</th>\n",
              "      <td>JAP</td>\n",
              "      <td>588</td>\n",
              "      <td>Japan</td>\n",
              "      <td>False</td>\n",
              "    </tr>\n",
              "    <tr>\n",
              "      <th>3</th>\n",
              "      <td>IN</td>\n",
              "      <td>18</td>\n",
              "      <td>India</td>\n",
              "      <td>False</td>\n",
              "    </tr>\n",
              "    <tr>\n",
              "      <th>4</th>\n",
              "      <td>RU</td>\n",
              "      <td>200</td>\n",
              "      <td>Russia</td>\n",
              "      <td>True</td>\n",
              "    </tr>\n",
              "    <tr>\n",
              "      <th>5</th>\n",
              "      <td>MOR</td>\n",
              "      <td>70</td>\n",
              "      <td>Morocco</td>\n",
              "      <td>True</td>\n",
              "    </tr>\n",
              "    <tr>\n",
              "      <th>6</th>\n",
              "      <td>EG</td>\n",
              "      <td>45</td>\n",
              "      <td>Egypt</td>\n",
              "      <td>True</td>\n",
              "    </tr>\n",
              "  </tbody>\n",
              "</table>\n",
              "</div>"
            ],
            "text/plain": [
              "  Unnamed: 0  cars_per_cap  country  drives_right\n",
              "2        JAP           588    Japan         False\n",
              "3         IN            18    India         False\n",
              "4         RU           200   Russia          True\n",
              "5        MOR            70  Morocco          True\n",
              "6         EG            45    Egypt          True"
            ]
          },
          "metadata": {
            "tags": []
          },
          "execution_count": 49
        }
      ]
    },
    {
      "cell_type": "code",
      "metadata": {
        "id": "vEkq9tcp5MnX",
        "colab": {
          "base_uri": "https://localhost:8080/",
          "height": 266
        },
        "outputId": "26d25886-2743-48ee-e09e-56a9bbf1133f"
      },
      "source": [
        "# TO DO: Print last 10 rows from the dataframe\n",
        "\n",
        "cars.tail(10)"
      ],
      "execution_count": null,
      "outputs": [
        {
          "output_type": "execute_result",
          "data": {
            "text/html": [
              "<div>\n",
              "<style scoped>\n",
              "    .dataframe tbody tr th:only-of-type {\n",
              "        vertical-align: middle;\n",
              "    }\n",
              "\n",
              "    .dataframe tbody tr th {\n",
              "        vertical-align: top;\n",
              "    }\n",
              "\n",
              "    .dataframe thead th {\n",
              "        text-align: right;\n",
              "    }\n",
              "</style>\n",
              "<table border=\"1\" class=\"dataframe\">\n",
              "  <thead>\n",
              "    <tr style=\"text-align: right;\">\n",
              "      <th></th>\n",
              "      <th>Unnamed: 0</th>\n",
              "      <th>cars_per_cap</th>\n",
              "      <th>country</th>\n",
              "      <th>drives_right</th>\n",
              "    </tr>\n",
              "  </thead>\n",
              "  <tbody>\n",
              "    <tr>\n",
              "      <th>0</th>\n",
              "      <td>US</td>\n",
              "      <td>809</td>\n",
              "      <td>United States</td>\n",
              "      <td>True</td>\n",
              "    </tr>\n",
              "    <tr>\n",
              "      <th>1</th>\n",
              "      <td>AUS</td>\n",
              "      <td>731</td>\n",
              "      <td>Australia</td>\n",
              "      <td>False</td>\n",
              "    </tr>\n",
              "    <tr>\n",
              "      <th>2</th>\n",
              "      <td>JAP</td>\n",
              "      <td>588</td>\n",
              "      <td>Japan</td>\n",
              "      <td>False</td>\n",
              "    </tr>\n",
              "    <tr>\n",
              "      <th>3</th>\n",
              "      <td>IN</td>\n",
              "      <td>18</td>\n",
              "      <td>India</td>\n",
              "      <td>False</td>\n",
              "    </tr>\n",
              "    <tr>\n",
              "      <th>4</th>\n",
              "      <td>RU</td>\n",
              "      <td>200</td>\n",
              "      <td>Russia</td>\n",
              "      <td>True</td>\n",
              "    </tr>\n",
              "    <tr>\n",
              "      <th>5</th>\n",
              "      <td>MOR</td>\n",
              "      <td>70</td>\n",
              "      <td>Morocco</td>\n",
              "      <td>True</td>\n",
              "    </tr>\n",
              "    <tr>\n",
              "      <th>6</th>\n",
              "      <td>EG</td>\n",
              "      <td>45</td>\n",
              "      <td>Egypt</td>\n",
              "      <td>True</td>\n",
              "    </tr>\n",
              "  </tbody>\n",
              "</table>\n",
              "</div>"
            ],
            "text/plain": [
              "  Unnamed: 0  cars_per_cap        country  drives_right\n",
              "0         US           809  United States          True\n",
              "1        AUS           731      Australia         False\n",
              "2        JAP           588          Japan         False\n",
              "3         IN            18          India         False\n",
              "4         RU           200         Russia          True\n",
              "5        MOR            70        Morocco          True\n",
              "6         EG            45          Egypt          True"
            ]
          },
          "metadata": {
            "tags": []
          },
          "execution_count": 50
        }
      ]
    },
    {
      "cell_type": "markdown",
      "metadata": {
        "id": "Ruer9SP356Ak"
      },
      "source": [
        "We will use inplace argument whcih decide if the changes should be made in the original dataframe or not.\n",
        "\n",
        "Read more here: https://jman4190.medium.com/explaining-the-inplace-parameter-for-beginners-5de7ffa18d2e"
      ]
    },
    {
      "cell_type": "code",
      "metadata": {
        "id": "SLJFSRLj55Ud",
        "colab": {
          "base_uri": "https://localhost:8080/",
          "height": 477
        },
        "outputId": "f765701c-808a-471a-8ce2-a77a94c5a340"
      },
      "source": [
        "# Giving a name to the unnamed column\n",
        "\n",
        "print(cars)\n",
        "\n",
        "df1 = cars.rename( columns={'Unnamed: 0':'code'}, inplace=False ) \n",
        "cars.rename( columns={'Unnamed: 0':'code'}, inplace=True ) \n",
        "\n",
        "print(df1)\n",
        "print(cars)      # With False, there will be no change in cars dataframe.\n",
        "\n",
        "\n",
        "\n",
        "'''\n",
        "inplace = True has been used to overwrite the existing dataframe. The default is False, if nothing mentioned.\n",
        "When inplace = True , the data is modified in place, which means it will return nothing \n",
        "and the dataframe is now updated. \n",
        "When inplace = False , which is the default, \n",
        "then the operation is performed and it returns a copy of the object. You then need to save it to something.'''"
      ],
      "execution_count": null,
      "outputs": [
        {
          "output_type": "stream",
          "text": [
            "  Unnamed: 0  cars_per_cap        country  drives_right\n",
            "0         US           809  United States          True\n",
            "1        AUS           731      Australia         False\n",
            "2        JAP           588          Japan         False\n",
            "3         IN            18          India         False\n",
            "4         RU           200         Russia          True\n",
            "5        MOR            70        Morocco          True\n",
            "6         EG            45          Egypt          True\n",
            "  code  cars_per_cap        country  drives_right\n",
            "0   US           809  United States          True\n",
            "1  AUS           731      Australia         False\n",
            "2  JAP           588          Japan         False\n",
            "3   IN            18          India         False\n",
            "4   RU           200         Russia          True\n",
            "5  MOR            70        Morocco          True\n",
            "6   EG            45          Egypt          True\n",
            "  code  cars_per_cap        country  drives_right\n",
            "0   US           809  United States          True\n",
            "1  AUS           731      Australia         False\n",
            "2  JAP           588          Japan         False\n",
            "3   IN            18          India         False\n",
            "4   RU           200         Russia          True\n",
            "5  MOR            70        Morocco          True\n",
            "6   EG            45          Egypt          True\n"
          ],
          "name": "stdout"
        },
        {
          "output_type": "execute_result",
          "data": {
            "application/vnd.google.colaboratory.intrinsic+json": {
              "type": "string"
            },
            "text/plain": [
              "'\\ninplace = True has been used to overwrite the existing dataframe. The default is False, if nothing mentioned.\\nWhen inplace = True , the data is modified in place, which means it will return nothing \\nand the dataframe is now updated. \\nWhen inplace = False , which is the default, \\nthen the operation is performed and it returns a copy of the object. You then need to save it to something.'"
            ]
          },
          "metadata": {
            "tags": []
          },
          "execution_count": 51
        }
      ]
    },
    {
      "cell_type": "code",
      "metadata": {
        "id": "dRnTJ_yy6gb8",
        "colab": {
          "base_uri": "https://localhost:8080/"
        },
        "outputId": "6f905863-5419-4a30-9628-09d2cbf8994e"
      },
      "source": [
        "print(cars['cars_per_cap'])  # without column name at the top. Prints data and detail\n"
      ],
      "execution_count": null,
      "outputs": [
        {
          "output_type": "stream",
          "text": [
            "0    809\n",
            "1    731\n",
            "2    588\n",
            "3     18\n",
            "4    200\n",
            "5     70\n",
            "6     45\n",
            "Name: cars_per_cap, dtype: int64\n"
          ],
          "name": "stdout"
        }
      ]
    },
    {
      "cell_type": "code",
      "metadata": {
        "id": "apDmqs3r6iLR",
        "colab": {
          "base_uri": "https://localhost:8080/"
        },
        "outputId": "7b6341da-8152-472f-da27-680f6752980e"
      },
      "source": [
        "print(cars[['cars_per_cap']])  # print the actual data"
      ],
      "execution_count": null,
      "outputs": [
        {
          "output_type": "stream",
          "text": [
            "   cars_per_cap\n",
            "0           809\n",
            "1           731\n",
            "2           588\n",
            "3            18\n",
            "4           200\n",
            "5            70\n",
            "6            45\n"
          ],
          "name": "stdout"
        }
      ]
    },
    {
      "cell_type": "code",
      "metadata": {
        "id": "eYwRZRPC6oBU",
        "colab": {
          "base_uri": "https://localhost:8080/",
          "height": 266
        },
        "outputId": "79a1f130-d3a1-4676-f751-86abba1eb0e5"
      },
      "source": [
        "# TO DO: Read the data again and set the 1st column as the index column. Then, print the cars dataframe.\n",
        "cars = pd.read_csv(\"/content/cars.csv\",index_col=['Unnamed: 0'])\n",
        "cars\n"
      ],
      "execution_count": null,
      "outputs": [
        {
          "output_type": "execute_result",
          "data": {
            "text/html": [
              "<div>\n",
              "<style scoped>\n",
              "    .dataframe tbody tr th:only-of-type {\n",
              "        vertical-align: middle;\n",
              "    }\n",
              "\n",
              "    .dataframe tbody tr th {\n",
              "        vertical-align: top;\n",
              "    }\n",
              "\n",
              "    .dataframe thead th {\n",
              "        text-align: right;\n",
              "    }\n",
              "</style>\n",
              "<table border=\"1\" class=\"dataframe\">\n",
              "  <thead>\n",
              "    <tr style=\"text-align: right;\">\n",
              "      <th></th>\n",
              "      <th>cars_per_cap</th>\n",
              "      <th>country</th>\n",
              "      <th>drives_right</th>\n",
              "    </tr>\n",
              "  </thead>\n",
              "  <tbody>\n",
              "    <tr>\n",
              "      <th>US</th>\n",
              "      <td>809</td>\n",
              "      <td>United States</td>\n",
              "      <td>True</td>\n",
              "    </tr>\n",
              "    <tr>\n",
              "      <th>AUS</th>\n",
              "      <td>731</td>\n",
              "      <td>Australia</td>\n",
              "      <td>False</td>\n",
              "    </tr>\n",
              "    <tr>\n",
              "      <th>JAP</th>\n",
              "      <td>588</td>\n",
              "      <td>Japan</td>\n",
              "      <td>False</td>\n",
              "    </tr>\n",
              "    <tr>\n",
              "      <th>IN</th>\n",
              "      <td>18</td>\n",
              "      <td>India</td>\n",
              "      <td>False</td>\n",
              "    </tr>\n",
              "    <tr>\n",
              "      <th>RU</th>\n",
              "      <td>200</td>\n",
              "      <td>Russia</td>\n",
              "      <td>True</td>\n",
              "    </tr>\n",
              "    <tr>\n",
              "      <th>MOR</th>\n",
              "      <td>70</td>\n",
              "      <td>Morocco</td>\n",
              "      <td>True</td>\n",
              "    </tr>\n",
              "    <tr>\n",
              "      <th>EG</th>\n",
              "      <td>45</td>\n",
              "      <td>Egypt</td>\n",
              "      <td>True</td>\n",
              "    </tr>\n",
              "  </tbody>\n",
              "</table>\n",
              "</div>"
            ],
            "text/plain": [
              "     cars_per_cap        country  drives_right\n",
              "US            809  United States          True\n",
              "AUS           731      Australia         False\n",
              "JAP           588          Japan         False\n",
              "IN             18          India         False\n",
              "RU            200         Russia          True\n",
              "MOR            70        Morocco          True\n",
              "EG             45          Egypt          True"
            ]
          },
          "metadata": {
            "tags": []
          },
          "execution_count": 54
        }
      ]
    },
    {
      "cell_type": "code",
      "metadata": {
        "id": "9Cu0htwU61qk",
        "colab": {
          "base_uri": "https://localhost:8080/"
        },
        "outputId": "35e7a1fe-6a31-4a15-bb3d-7abae54fd78a"
      },
      "source": [
        "# TO DO : Print the details of RU\n",
        "# Hint: You should use either .loc or .iloc (just one is correct).\n",
        "\n",
        "\n",
        "cars.loc['RU']\n"
      ],
      "execution_count": null,
      "outputs": [
        {
          "output_type": "execute_result",
          "data": {
            "text/plain": [
              "cars_per_cap       200\n",
              "country         Russia\n",
              "drives_right      True\n",
              "Name: RU, dtype: object"
            ]
          },
          "metadata": {
            "tags": []
          },
          "execution_count": 55
        }
      ]
    },
    {
      "cell_type": "code",
      "metadata": {
        "id": "wTdY73zf7MDX",
        "colab": {
          "base_uri": "https://localhost:8080/"
        },
        "outputId": "6c1ced36-e6ec-4332-bb05-99c42dde92f6"
      },
      "source": [
        "# TO DO: Can you change the above answer to show the column name at the top? \n",
        "# Hint: Recap last 3-4 code cells.\n",
        "\n",
        "print(cars.loc[['RU']])"
      ],
      "execution_count": null,
      "outputs": [
        {
          "output_type": "stream",
          "text": [
            "    cars_per_cap country  drives_right\n",
            "RU           200  Russia          True\n"
          ],
          "name": "stdout"
        }
      ]
    },
    {
      "cell_type": "code",
      "metadata": {
        "id": "dOww2vHZ7aIh",
        "colab": {
          "base_uri": "https://localhost:8080/"
        },
        "outputId": "f579f489-f98d-4485-db26-a528cacf47c8"
      },
      "source": [
        "# TO DO: Print all details for RU and AUS from cars dataframe.\n",
        "print(cars.loc[['RU', 'AUS']])"
      ],
      "execution_count": null,
      "outputs": [
        {
          "output_type": "stream",
          "text": [
            "     cars_per_cap    country  drives_right\n",
            "RU            200     Russia          True\n",
            "AUS           731  Australia         False\n"
          ],
          "name": "stdout"
        }
      ]
    },
    {
      "cell_type": "code",
      "metadata": {
        "id": "54sE0emk76tQ",
        "colab": {
          "base_uri": "https://localhost:8080/"
        },
        "outputId": "a910f608-68f9-422a-a45e-5aca9dca5912"
      },
      "source": [
        "# Print the Cars Per Capita (cars_per_cap) for India (IN).\n",
        "\n",
        "print(cars[['cars_per_cap']].loc[['IN']])"
      ],
      "execution_count": null,
      "outputs": [
        {
          "output_type": "stream",
          "text": [
            "    cars_per_cap\n",
            "IN            18\n"
          ],
          "name": "stdout"
        }
      ]
    },
    {
      "cell_type": "code",
      "metadata": {
        "id": "ourcXs9g8Fcw",
        "colab": {
          "base_uri": "https://localhost:8080/"
        },
        "outputId": "a337221c-27f2-4da0-d64e-45a7dca2d93e"
      },
      "source": [
        "# Print the Cars Per Capita (cars_per_cap) for India (IN) and Russia (RU).\n",
        "\n",
        "print(cars[['cars_per_cap']].loc[['IN', 'RU']])"
      ],
      "execution_count": null,
      "outputs": [
        {
          "output_type": "stream",
          "text": [
            "    cars_per_cap\n",
            "IN            18\n",
            "RU           200\n"
          ],
          "name": "stdout"
        }
      ]
    },
    {
      "cell_type": "code",
      "metadata": {
        "id": "WkPXQVtj8N9c",
        "colab": {
          "base_uri": "https://localhost:8080/"
        },
        "outputId": "acec353f-73ef-4479-b7a8-24306ad756ab"
      },
      "source": [
        "# Print the Cars Per Capita and Country name for India and Russia\n",
        "\n",
        "print(cars[['cars_per_cap', 'country']].loc[['IN', 'RU']])"
      ],
      "execution_count": null,
      "outputs": [
        {
          "output_type": "stream",
          "text": [
            "    cars_per_cap country\n",
            "IN            18   India\n",
            "RU           200  Russia\n"
          ],
          "name": "stdout"
        }
      ]
    },
    {
      "cell_type": "markdown",
      "metadata": {
        "id": "usgDvH-A8uX8"
      },
      "source": [
        "# Pandas Advanced and Matplotlib\n",
        "\n",
        "Dateset to use: marks.csv : https://drive.google.com/file/d/1U3DiTOcrhKI-5_jRttZqX4F1mup0QPZp/view?usp=sharing"
      ]
    },
    {
      "cell_type": "code",
      "metadata": {
        "id": "ouB4VrZo-KMN",
        "colab": {
          "resources": {
            "http://localhost:8080/nbextensions/google.colab/files.js": {
              "data": "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",
              "ok": true,
              "headers": [
                [
                  "content-type",
                  "application/javascript"
                ]
              ],
              "status": 200,
              "status_text": ""
            }
          },
          "base_uri": "https://localhost:8080/",
          "height": 72
        },
        "outputId": "9421d4fc-67ff-4c2b-9384-2528046de2d8"
      },
      "source": [
        "# If data is in Google Drive\n",
        "import pandas as pd\n",
        "from google.colab import files\n",
        "uploaded = files.upload()"
      ],
      "execution_count": null,
      "outputs": [
        {
          "output_type": "display_data",
          "data": {
            "text/html": [
              "\n",
              "     <input type=\"file\" id=\"files-1fdd2c4d-2cb9-4b4b-8a59-d241e7460b80\" name=\"files[]\" multiple disabled\n",
              "        style=\"border:none\" />\n",
              "     <output id=\"result-1fdd2c4d-2cb9-4b4b-8a59-d241e7460b80\">\n",
              "      Upload widget is only available when the cell has been executed in the\n",
              "      current browser session. Please rerun this cell to enable.\n",
              "      </output>\n",
              "      <script src=\"/nbextensions/google.colab/files.js\"></script> "
            ],
            "text/plain": [
              "<IPython.core.display.HTML object>"
            ]
          },
          "metadata": {
            "tags": []
          }
        },
        {
          "output_type": "stream",
          "text": [
            "Saving marks.csv to marks (1).csv\n"
          ],
          "name": "stdout"
        }
      ]
    },
    {
      "cell_type": "code",
      "metadata": {
        "id": "Bnv4nci6-Yxp",
        "colab": {
          "base_uri": "https://localhost:8080/",
          "height": 669
        },
        "outputId": "2b6d5018-7f54-4bed-8fe6-c766aa92b090"
      },
      "source": [
        "# Coninuation of the previous code cell. \n",
        "'''\n",
        "The io module provides Python's main facilities for dealing with various types of I/O. \n",
        "There are three main types of I/O: text I/O, binary I/O and raw I/O. \n",
        "'''\n",
        "\n",
        "import io\n",
        "marks = pd.read_csv(io.BytesIO(uploaded['marks.csv']))\n",
        "# Dataset is now stored in a Pandas Dataframe\n",
        "\n",
        "marks"
      ],
      "execution_count": null,
      "outputs": [
        {
          "output_type": "execute_result",
          "data": {
            "text/html": [
              "<div>\n",
              "<style scoped>\n",
              "    .dataframe tbody tr th:only-of-type {\n",
              "        vertical-align: middle;\n",
              "    }\n",
              "\n",
              "    .dataframe tbody tr th {\n",
              "        vertical-align: top;\n",
              "    }\n",
              "\n",
              "    .dataframe thead th {\n",
              "        text-align: right;\n",
              "    }\n",
              "</style>\n",
              "<table border=\"1\" class=\"dataframe\">\n",
              "  <thead>\n",
              "    <tr style=\"text-align: right;\">\n",
              "      <th></th>\n",
              "      <th>Student_ID</th>\n",
              "      <th>Student_Name</th>\n",
              "      <th>English</th>\n",
              "      <th>Maths</th>\n",
              "      <th>Science</th>\n",
              "      <th>History</th>\n",
              "      <th>Social_Studies</th>\n",
              "    </tr>\n",
              "  </thead>\n",
              "  <tbody>\n",
              "    <tr>\n",
              "      <th>0</th>\n",
              "      <td>S01</td>\n",
              "      <td>Alice</td>\n",
              "      <td>96.874050</td>\n",
              "      <td>15.367999</td>\n",
              "      <td>58.682033</td>\n",
              "      <td>59.690510</td>\n",
              "      <td>61.373070</td>\n",
              "    </tr>\n",
              "    <tr>\n",
              "      <th>1</th>\n",
              "      <td>S02</td>\n",
              "      <td>Bob</td>\n",
              "      <td>5.462131</td>\n",
              "      <td>81.032680</td>\n",
              "      <td>83.171957</td>\n",
              "      <td>45.664012</td>\n",
              "      <td>80.805730</td>\n",
              "    </tr>\n",
              "    <tr>\n",
              "      <th>2</th>\n",
              "      <td>S03</td>\n",
              "      <td>Charlie</td>\n",
              "      <td>60.753099</td>\n",
              "      <td>65.219548</td>\n",
              "      <td>99.323628</td>\n",
              "      <td>24.281512</td>\n",
              "      <td>58.057612</td>\n",
              "    </tr>\n",
              "    <tr>\n",
              "      <th>3</th>\n",
              "      <td>S04</td>\n",
              "      <td>David</td>\n",
              "      <td>21.160844</td>\n",
              "      <td>95.052971</td>\n",
              "      <td>35.860852</td>\n",
              "      <td>62.865185</td>\n",
              "      <td>95.264572</td>\n",
              "    </tr>\n",
              "    <tr>\n",
              "      <th>4</th>\n",
              "      <td>S05</td>\n",
              "      <td>Edward</td>\n",
              "      <td>63.250994</td>\n",
              "      <td>60.693247</td>\n",
              "      <td>7.020915</td>\n",
              "      <td>60.505272</td>\n",
              "      <td>34.041671</td>\n",
              "    </tr>\n",
              "    <tr>\n",
              "      <th>5</th>\n",
              "      <td>S06</td>\n",
              "      <td>Fysal</td>\n",
              "      <td>42.694748</td>\n",
              "      <td>77.348295</td>\n",
              "      <td>37.216613</td>\n",
              "      <td>33.784399</td>\n",
              "      <td>85.019761</td>\n",
              "    </tr>\n",
              "    <tr>\n",
              "      <th>6</th>\n",
              "      <td>S07</td>\n",
              "      <td>George</td>\n",
              "      <td>66.276626</td>\n",
              "      <td>46.812190</td>\n",
              "      <td>14.219533</td>\n",
              "      <td>18.582771</td>\n",
              "      <td>87.021849</td>\n",
              "    </tr>\n",
              "    <tr>\n",
              "      <th>7</th>\n",
              "      <td>S08</td>\n",
              "      <td>Hareez</td>\n",
              "      <td>5.302984</td>\n",
              "      <td>11.966929</td>\n",
              "      <td>43.980951</td>\n",
              "      <td>54.410098</td>\n",
              "      <td>74.530018</td>\n",
              "    </tr>\n",
              "    <tr>\n",
              "      <th>8</th>\n",
              "      <td>S09</td>\n",
              "      <td>Ivan</td>\n",
              "      <td>5.777530</td>\n",
              "      <td>79.508179</td>\n",
              "      <td>94.559212</td>\n",
              "      <td>38.355867</td>\n",
              "      <td>90.483635</td>\n",
              "    </tr>\n",
              "    <tr>\n",
              "      <th>9</th>\n",
              "      <td>S10</td>\n",
              "      <td>John</td>\n",
              "      <td>30.968731</td>\n",
              "      <td>14.282925</td>\n",
              "      <td>3.312853</td>\n",
              "      <td>79.916094</td>\n",
              "      <td>32.706891</td>\n",
              "    </tr>\n",
              "    <tr>\n",
              "      <th>10</th>\n",
              "      <td>S11</td>\n",
              "      <td>Kelvin</td>\n",
              "      <td>40.219985</td>\n",
              "      <td>55.325651</td>\n",
              "      <td>16.826141</td>\n",
              "      <td>7.462064</td>\n",
              "      <td>34.449110</td>\n",
              "    </tr>\n",
              "    <tr>\n",
              "      <th>11</th>\n",
              "      <td>S12</td>\n",
              "      <td>Lia</td>\n",
              "      <td>95.928421</td>\n",
              "      <td>35.789430</td>\n",
              "      <td>95.440164</td>\n",
              "      <td>43.520213</td>\n",
              "      <td>71.930382</td>\n",
              "    </tr>\n",
              "    <tr>\n",
              "      <th>12</th>\n",
              "      <td>S13</td>\n",
              "      <td>Maria</td>\n",
              "      <td>8.215446</td>\n",
              "      <td>25.042783</td>\n",
              "      <td>16.518147</td>\n",
              "      <td>36.543154</td>\n",
              "      <td>80.665074</td>\n",
              "    </tr>\n",
              "    <tr>\n",
              "      <th>13</th>\n",
              "      <td>S14</td>\n",
              "      <td>Noel</td>\n",
              "      <td>72.833673</td>\n",
              "      <td>7.160086</td>\n",
              "      <td>22.089014</td>\n",
              "      <td>52.867757</td>\n",
              "      <td>20.583259</td>\n",
              "    </tr>\n",
              "    <tr>\n",
              "      <th>14</th>\n",
              "      <td>S15</td>\n",
              "      <td>Oliver</td>\n",
              "      <td>5.982402</td>\n",
              "      <td>16.460926</td>\n",
              "      <td>40.977224</td>\n",
              "      <td>80.925749</td>\n",
              "      <td>83.312063</td>\n",
              "    </tr>\n",
              "    <tr>\n",
              "      <th>15</th>\n",
              "      <td>S16</td>\n",
              "      <td>Peter</td>\n",
              "      <td>40.694327</td>\n",
              "      <td>91.395888</td>\n",
              "      <td>8.149884</td>\n",
              "      <td>13.852098</td>\n",
              "      <td>74.528425</td>\n",
              "    </tr>\n",
              "    <tr>\n",
              "      <th>16</th>\n",
              "      <td>S17</td>\n",
              "      <td>Roy</td>\n",
              "      <td>43.559963</td>\n",
              "      <td>99.270852</td>\n",
              "      <td>13.924531</td>\n",
              "      <td>71.306738</td>\n",
              "      <td>8.432155</td>\n",
              "    </tr>\n",
              "    <tr>\n",
              "      <th>17</th>\n",
              "      <td>S18</td>\n",
              "      <td>Ria</td>\n",
              "      <td>30.830802</td>\n",
              "      <td>25.545682</td>\n",
              "      <td>84.271650</td>\n",
              "      <td>78.727155</td>\n",
              "      <td>7.305670</td>\n",
              "    </tr>\n",
              "    <tr>\n",
              "      <th>18</th>\n",
              "      <td>S19</td>\n",
              "      <td>Suvin</td>\n",
              "      <td>72.218179</td>\n",
              "      <td>85.284128</td>\n",
              "      <td>32.555060</td>\n",
              "      <td>47.007177</td>\n",
              "      <td>83.344403</td>\n",
              "    </tr>\n",
              "    <tr>\n",
              "      <th>19</th>\n",
              "      <td>S20</td>\n",
              "      <td>Tan</td>\n",
              "      <td>18.070264</td>\n",
              "      <td>56.662635</td>\n",
              "      <td>2.618987</td>\n",
              "      <td>14.067349</td>\n",
              "      <td>82.802787</td>\n",
              "    </tr>\n",
              "  </tbody>\n",
              "</table>\n",
              "</div>"
            ],
            "text/plain": [
              "   Student_ID Student_Name    English  ...    Science    History  Social_Studies\n",
              "0         S01        Alice  96.874050  ...  58.682033  59.690510       61.373070\n",
              "1         S02          Bob   5.462131  ...  83.171957  45.664012       80.805730\n",
              "2         S03      Charlie  60.753099  ...  99.323628  24.281512       58.057612\n",
              "3         S04        David  21.160844  ...  35.860852  62.865185       95.264572\n",
              "4         S05       Edward  63.250994  ...   7.020915  60.505272       34.041671\n",
              "5         S06        Fysal  42.694748  ...  37.216613  33.784399       85.019761\n",
              "6         S07       George  66.276626  ...  14.219533  18.582771       87.021849\n",
              "7         S08       Hareez   5.302984  ...  43.980951  54.410098       74.530018\n",
              "8         S09         Ivan   5.777530  ...  94.559212  38.355867       90.483635\n",
              "9         S10         John  30.968731  ...   3.312853  79.916094       32.706891\n",
              "10        S11       Kelvin  40.219985  ...  16.826141   7.462064       34.449110\n",
              "11        S12          Lia  95.928421  ...  95.440164  43.520213       71.930382\n",
              "12        S13        Maria   8.215446  ...  16.518147  36.543154       80.665074\n",
              "13        S14         Noel  72.833673  ...  22.089014  52.867757       20.583259\n",
              "14        S15       Oliver   5.982402  ...  40.977224  80.925749       83.312063\n",
              "15        S16        Peter  40.694327  ...   8.149884  13.852098       74.528425\n",
              "16        S17          Roy  43.559963  ...  13.924531  71.306738        8.432155\n",
              "17        S18          Ria  30.830802  ...  84.271650  78.727155        7.305670\n",
              "18        S19        Suvin  72.218179  ...  32.555060  47.007177       83.344403\n",
              "19        S20          Tan  18.070264  ...   2.618987  14.067349       82.802787\n",
              "\n",
              "[20 rows x 7 columns]"
            ]
          },
          "metadata": {
            "tags": []
          },
          "execution_count": 70
        }
      ]
    },
    {
      "cell_type": "code",
      "metadata": {
        "id": "pLHnlQvE-zaX"
      },
      "source": [
        "# If working on Jupyter Notebook and data is in local drive\n",
        "marks = pd.read_csv(\"C:/Users/AINE AI/Downloads/brics.csv\") "
      ],
      "execution_count": null,
      "outputs": []
    },
    {
      "cell_type": "code",
      "metadata": {
        "id": "063LhsOW-mM2",
        "colab": {
          "base_uri": "https://localhost:8080/"
        },
        "outputId": "802b0201-8b75-4aa7-c21f-c9e697ab7a9c"
      },
      "source": [
        "# TO DO: Show the shape of the dataframe\n",
        "# Hint: shape()\n",
        "\n",
        "marks.shape"
      ],
      "execution_count": null,
      "outputs": [
        {
          "output_type": "execute_result",
          "data": {
            "text/plain": [
              "(20, 7)"
            ]
          },
          "metadata": {
            "tags": []
          },
          "execution_count": 71
        }
      ]
    },
    {
      "cell_type": "code",
      "metadata": {
        "id": "1dHh6S1x--aV",
        "colab": {
          "base_uri": "https://localhost:8080/"
        },
        "outputId": "0305c4d6-76fc-4965-b596-1cca9e612bb6"
      },
      "source": [
        "# TO DO: Get the information and structure of the data with non-null value counts\n",
        "\n",
        "marks.info()"
      ],
      "execution_count": null,
      "outputs": [
        {
          "output_type": "stream",
          "text": [
            "<class 'pandas.core.frame.DataFrame'>\n",
            "RangeIndex: 20 entries, 0 to 19\n",
            "Data columns (total 7 columns):\n",
            " #   Column          Non-Null Count  Dtype  \n",
            "---  ------          --------------  -----  \n",
            " 0   Student_ID      20 non-null     object \n",
            " 1   Student_Name    20 non-null     object \n",
            " 2   English         20 non-null     float64\n",
            " 3   Maths           20 non-null     float64\n",
            " 4   Science         20 non-null     float64\n",
            " 5   History         20 non-null     float64\n",
            " 6   Social_Studies  20 non-null     float64\n",
            "dtypes: float64(5), object(2)\n",
            "memory usage: 1.2+ KB\n"
          ],
          "name": "stdout"
        }
      ]
    },
    {
      "cell_type": "code",
      "metadata": {
        "id": "67SH1sBt_FWI",
        "colab": {
          "base_uri": "https://localhost:8080/"
        },
        "outputId": "78a4725d-002a-4f71-a400-b14f518ab07b"
      },
      "source": [
        "# Print datatypes of the each column\n",
        "marks.dtypes"
      ],
      "execution_count": null,
      "outputs": [
        {
          "output_type": "execute_result",
          "data": {
            "text/plain": [
              "Student_ID         object\n",
              "Student_Name       object\n",
              "English           float64\n",
              "Maths             float64\n",
              "Science           float64\n",
              "History           float64\n",
              "Social_Studies    float64\n",
              "dtype: object"
            ]
          },
          "metadata": {
            "tags": []
          },
          "execution_count": 73
        }
      ]
    },
    {
      "cell_type": "markdown",
      "metadata": {
        "id": "9wgofsQW_L1O"
      },
      "source": [
        "Note: The output that you see is for the values in the column, not for the column iteself. A column of a dataframe is called a SERIES. The type of a series is Series.\n",
        "\n",
        "Run the next code code and observe the output to get more clarity."
      ]
    },
    {
      "cell_type": "code",
      "metadata": {
        "id": "dFFru5IF_YF9",
        "colab": {
          "base_uri": "https://localhost:8080/"
        },
        "outputId": "c3d09378-481a-46be-e8e9-48642f4f909a"
      },
      "source": [
        "print(type(marks))\n",
        "print(type(marks.English))  # Column's dtype is Series, the dtype of the values is Object.\n",
        "print(type(5))\n",
        "print(type(5.5))\n",
        "print(type(\"Python\"))\n",
        "print(type(True))"
      ],
      "execution_count": null,
      "outputs": [
        {
          "output_type": "stream",
          "text": [
            "<class 'pandas.core.frame.DataFrame'>\n",
            "<class 'pandas.core.series.Series'>\n",
            "<class 'int'>\n",
            "<class 'float'>\n",
            "<class 'str'>\n",
            "<class 'bool'>\n"
          ],
          "name": "stdout"
        }
      ]
    },
    {
      "cell_type": "markdown",
      "metadata": {
        "id": "A3z30RK8_hOm"
      },
      "source": [
        "#### display() Vs print()\n",
        "\n",
        "display() is similar to print() with some difference. \n",
        "\n",
        "Useful in advanced Python when you can 'display' images, but not 'print' them.\n",
        "\n",
        "When working on a dataframe, prefer to use display()\n"
      ]
    },
    {
      "cell_type": "code",
      "metadata": {
        "id": "oQC_WN5u_25j",
        "colab": {
          "base_uri": "https://localhost:8080/",
          "height": 669
        },
        "outputId": "55363dd4-cb76-4388-b376-b7caf13b4ee2"
      },
      "source": [
        "# Run these lines one by one and observe the difference in the three outputs.\n",
        "\n",
        "# print(marks)\n",
        "# display(marks) \n",
        "marks"
      ],
      "execution_count": null,
      "outputs": [
        {
          "output_type": "execute_result",
          "data": {
            "text/html": [
              "<div>\n",
              "<style scoped>\n",
              "    .dataframe tbody tr th:only-of-type {\n",
              "        vertical-align: middle;\n",
              "    }\n",
              "\n",
              "    .dataframe tbody tr th {\n",
              "        vertical-align: top;\n",
              "    }\n",
              "\n",
              "    .dataframe thead th {\n",
              "        text-align: right;\n",
              "    }\n",
              "</style>\n",
              "<table border=\"1\" class=\"dataframe\">\n",
              "  <thead>\n",
              "    <tr style=\"text-align: right;\">\n",
              "      <th></th>\n",
              "      <th>Student_ID</th>\n",
              "      <th>Student_Name</th>\n",
              "      <th>English</th>\n",
              "      <th>Maths</th>\n",
              "      <th>Science</th>\n",
              "      <th>History</th>\n",
              "      <th>Social_Studies</th>\n",
              "    </tr>\n",
              "  </thead>\n",
              "  <tbody>\n",
              "    <tr>\n",
              "      <th>0</th>\n",
              "      <td>S01</td>\n",
              "      <td>Alice</td>\n",
              "      <td>96.874050</td>\n",
              "      <td>15.367999</td>\n",
              "      <td>58.682033</td>\n",
              "      <td>59.690510</td>\n",
              "      <td>61.373070</td>\n",
              "    </tr>\n",
              "    <tr>\n",
              "      <th>1</th>\n",
              "      <td>S02</td>\n",
              "      <td>Bob</td>\n",
              "      <td>5.462131</td>\n",
              "      <td>81.032680</td>\n",
              "      <td>83.171957</td>\n",
              "      <td>45.664012</td>\n",
              "      <td>80.805730</td>\n",
              "    </tr>\n",
              "    <tr>\n",
              "      <th>2</th>\n",
              "      <td>S03</td>\n",
              "      <td>Charlie</td>\n",
              "      <td>60.753099</td>\n",
              "      <td>65.219548</td>\n",
              "      <td>99.323628</td>\n",
              "      <td>24.281512</td>\n",
              "      <td>58.057612</td>\n",
              "    </tr>\n",
              "    <tr>\n",
              "      <th>3</th>\n",
              "      <td>S04</td>\n",
              "      <td>David</td>\n",
              "      <td>21.160844</td>\n",
              "      <td>95.052971</td>\n",
              "      <td>35.860852</td>\n",
              "      <td>62.865185</td>\n",
              "      <td>95.264572</td>\n",
              "    </tr>\n",
              "    <tr>\n",
              "      <th>4</th>\n",
              "      <td>S05</td>\n",
              "      <td>Edward</td>\n",
              "      <td>63.250994</td>\n",
              "      <td>60.693247</td>\n",
              "      <td>7.020915</td>\n",
              "      <td>60.505272</td>\n",
              "      <td>34.041671</td>\n",
              "    </tr>\n",
              "    <tr>\n",
              "      <th>5</th>\n",
              "      <td>S06</td>\n",
              "      <td>Fysal</td>\n",
              "      <td>42.694748</td>\n",
              "      <td>77.348295</td>\n",
              "      <td>37.216613</td>\n",
              "      <td>33.784399</td>\n",
              "      <td>85.019761</td>\n",
              "    </tr>\n",
              "    <tr>\n",
              "      <th>6</th>\n",
              "      <td>S07</td>\n",
              "      <td>George</td>\n",
              "      <td>66.276626</td>\n",
              "      <td>46.812190</td>\n",
              "      <td>14.219533</td>\n",
              "      <td>18.582771</td>\n",
              "      <td>87.021849</td>\n",
              "    </tr>\n",
              "    <tr>\n",
              "      <th>7</th>\n",
              "      <td>S08</td>\n",
              "      <td>Hareez</td>\n",
              "      <td>5.302984</td>\n",
              "      <td>11.966929</td>\n",
              "      <td>43.980951</td>\n",
              "      <td>54.410098</td>\n",
              "      <td>74.530018</td>\n",
              "    </tr>\n",
              "    <tr>\n",
              "      <th>8</th>\n",
              "      <td>S09</td>\n",
              "      <td>Ivan</td>\n",
              "      <td>5.777530</td>\n",
              "      <td>79.508179</td>\n",
              "      <td>94.559212</td>\n",
              "      <td>38.355867</td>\n",
              "      <td>90.483635</td>\n",
              "    </tr>\n",
              "    <tr>\n",
              "      <th>9</th>\n",
              "      <td>S10</td>\n",
              "      <td>John</td>\n",
              "      <td>30.968731</td>\n",
              "      <td>14.282925</td>\n",
              "      <td>3.312853</td>\n",
              "      <td>79.916094</td>\n",
              "      <td>32.706891</td>\n",
              "    </tr>\n",
              "    <tr>\n",
              "      <th>10</th>\n",
              "      <td>S11</td>\n",
              "      <td>Kelvin</td>\n",
              "      <td>40.219985</td>\n",
              "      <td>55.325651</td>\n",
              "      <td>16.826141</td>\n",
              "      <td>7.462064</td>\n",
              "      <td>34.449110</td>\n",
              "    </tr>\n",
              "    <tr>\n",
              "      <th>11</th>\n",
              "      <td>S12</td>\n",
              "      <td>Lia</td>\n",
              "      <td>95.928421</td>\n",
              "      <td>35.789430</td>\n",
              "      <td>95.440164</td>\n",
              "      <td>43.520213</td>\n",
              "      <td>71.930382</td>\n",
              "    </tr>\n",
              "    <tr>\n",
              "      <th>12</th>\n",
              "      <td>S13</td>\n",
              "      <td>Maria</td>\n",
              "      <td>8.215446</td>\n",
              "      <td>25.042783</td>\n",
              "      <td>16.518147</td>\n",
              "      <td>36.543154</td>\n",
              "      <td>80.665074</td>\n",
              "    </tr>\n",
              "    <tr>\n",
              "      <th>13</th>\n",
              "      <td>S14</td>\n",
              "      <td>Noel</td>\n",
              "      <td>72.833673</td>\n",
              "      <td>7.160086</td>\n",
              "      <td>22.089014</td>\n",
              "      <td>52.867757</td>\n",
              "      <td>20.583259</td>\n",
              "    </tr>\n",
              "    <tr>\n",
              "      <th>14</th>\n",
              "      <td>S15</td>\n",
              "      <td>Oliver</td>\n",
              "      <td>5.982402</td>\n",
              "      <td>16.460926</td>\n",
              "      <td>40.977224</td>\n",
              "      <td>80.925749</td>\n",
              "      <td>83.312063</td>\n",
              "    </tr>\n",
              "    <tr>\n",
              "      <th>15</th>\n",
              "      <td>S16</td>\n",
              "      <td>Peter</td>\n",
              "      <td>40.694327</td>\n",
              "      <td>91.395888</td>\n",
              "      <td>8.149884</td>\n",
              "      <td>13.852098</td>\n",
              "      <td>74.528425</td>\n",
              "    </tr>\n",
              "    <tr>\n",
              "      <th>16</th>\n",
              "      <td>S17</td>\n",
              "      <td>Roy</td>\n",
              "      <td>43.559963</td>\n",
              "      <td>99.270852</td>\n",
              "      <td>13.924531</td>\n",
              "      <td>71.306738</td>\n",
              "      <td>8.432155</td>\n",
              "    </tr>\n",
              "    <tr>\n",
              "      <th>17</th>\n",
              "      <td>S18</td>\n",
              "      <td>Ria</td>\n",
              "      <td>30.830802</td>\n",
              "      <td>25.545682</td>\n",
              "      <td>84.271650</td>\n",
              "      <td>78.727155</td>\n",
              "      <td>7.305670</td>\n",
              "    </tr>\n",
              "    <tr>\n",
              "      <th>18</th>\n",
              "      <td>S19</td>\n",
              "      <td>Suvin</td>\n",
              "      <td>72.218179</td>\n",
              "      <td>85.284128</td>\n",
              "      <td>32.555060</td>\n",
              "      <td>47.007177</td>\n",
              "      <td>83.344403</td>\n",
              "    </tr>\n",
              "    <tr>\n",
              "      <th>19</th>\n",
              "      <td>S20</td>\n",
              "      <td>Tan</td>\n",
              "      <td>18.070264</td>\n",
              "      <td>56.662635</td>\n",
              "      <td>2.618987</td>\n",
              "      <td>14.067349</td>\n",
              "      <td>82.802787</td>\n",
              "    </tr>\n",
              "  </tbody>\n",
              "</table>\n",
              "</div>"
            ],
            "text/plain": [
              "   Student_ID Student_Name    English  ...    Science    History  Social_Studies\n",
              "0         S01        Alice  96.874050  ...  58.682033  59.690510       61.373070\n",
              "1         S02          Bob   5.462131  ...  83.171957  45.664012       80.805730\n",
              "2         S03      Charlie  60.753099  ...  99.323628  24.281512       58.057612\n",
              "3         S04        David  21.160844  ...  35.860852  62.865185       95.264572\n",
              "4         S05       Edward  63.250994  ...   7.020915  60.505272       34.041671\n",
              "5         S06        Fysal  42.694748  ...  37.216613  33.784399       85.019761\n",
              "6         S07       George  66.276626  ...  14.219533  18.582771       87.021849\n",
              "7         S08       Hareez   5.302984  ...  43.980951  54.410098       74.530018\n",
              "8         S09         Ivan   5.777530  ...  94.559212  38.355867       90.483635\n",
              "9         S10         John  30.968731  ...   3.312853  79.916094       32.706891\n",
              "10        S11       Kelvin  40.219985  ...  16.826141   7.462064       34.449110\n",
              "11        S12          Lia  95.928421  ...  95.440164  43.520213       71.930382\n",
              "12        S13        Maria   8.215446  ...  16.518147  36.543154       80.665074\n",
              "13        S14         Noel  72.833673  ...  22.089014  52.867757       20.583259\n",
              "14        S15       Oliver   5.982402  ...  40.977224  80.925749       83.312063\n",
              "15        S16        Peter  40.694327  ...   8.149884  13.852098       74.528425\n",
              "16        S17          Roy  43.559963  ...  13.924531  71.306738        8.432155\n",
              "17        S18          Ria  30.830802  ...  84.271650  78.727155        7.305670\n",
              "18        S19        Suvin  72.218179  ...  32.555060  47.007177       83.344403\n",
              "19        S20          Tan  18.070264  ...   2.618987  14.067349       82.802787\n",
              "\n",
              "[20 rows x 7 columns]"
            ]
          },
          "metadata": {
            "tags": []
          },
          "execution_count": 75
        }
      ]
    },
    {
      "cell_type": "markdown",
      "metadata": {
        "id": "_opyZB_KAYNq"
      },
      "source": [
        "### Using range and multiple values in .loc and .iloc\n"
      ]
    },
    {
      "cell_type": "markdown",
      "metadata": {
        "id": "Ma7PYz6xAjHZ"
      },
      "source": [
        "Do you know the difference between = and == ?"
      ]
    },
    {
      "cell_type": "code",
      "metadata": {
        "id": "zd9b4YmqAo6v",
        "colab": {
          "base_uri": "https://localhost:8080/"
        },
        "outputId": "907b9800-cf4a-4b71-df7a-16cd12bce5a7"
      },
      "source": [
        "num = 5 # Assignment. No output of assignment operator. \n",
        "num\n",
        "\n",
        "num == 6 # Comparison/equality. Output is either True or False"
      ],
      "execution_count": null,
      "outputs": [
        {
          "output_type": "execute_result",
          "data": {
            "text/plain": [
              "False"
            ]
          },
          "metadata": {
            "tags": []
          },
          "execution_count": 76
        }
      ]
    },
    {
      "cell_type": "markdown",
      "metadata": {
        "id": "Qd-H6zZyA6Ua"
      },
      "source": [
        "Using different logical operator to explore or fetch certain details from a large dataset."
      ]
    },
    {
      "cell_type": "code",
      "metadata": {
        "id": "Tp-ZrfSNA11_",
        "colab": {
          "base_uri": "https://localhost:8080/",
          "height": 80
        },
        "outputId": "1f3541aa-5db5-40c7-e5a1-ca605e8efc00"
      },
      "source": [
        "# selecting marks for 'Ria'\n",
        "display(marks.loc[(marks.Student_Name == 'Ria')])  # in case the index is not known for large datasets"
      ],
      "execution_count": null,
      "outputs": [
        {
          "output_type": "display_data",
          "data": {
            "text/html": [
              "<div>\n",
              "<style scoped>\n",
              "    .dataframe tbody tr th:only-of-type {\n",
              "        vertical-align: middle;\n",
              "    }\n",
              "\n",
              "    .dataframe tbody tr th {\n",
              "        vertical-align: top;\n",
              "    }\n",
              "\n",
              "    .dataframe thead th {\n",
              "        text-align: right;\n",
              "    }\n",
              "</style>\n",
              "<table border=\"1\" class=\"dataframe\">\n",
              "  <thead>\n",
              "    <tr style=\"text-align: right;\">\n",
              "      <th></th>\n",
              "      <th>Student_ID</th>\n",
              "      <th>Student_Name</th>\n",
              "      <th>English</th>\n",
              "      <th>Maths</th>\n",
              "      <th>Science</th>\n",
              "      <th>History</th>\n",
              "      <th>Social_Studies</th>\n",
              "    </tr>\n",
              "  </thead>\n",
              "  <tbody>\n",
              "    <tr>\n",
              "      <th>17</th>\n",
              "      <td>S18</td>\n",
              "      <td>Ria</td>\n",
              "      <td>30.830802</td>\n",
              "      <td>25.545682</td>\n",
              "      <td>84.27165</td>\n",
              "      <td>78.727155</td>\n",
              "      <td>7.30567</td>\n",
              "    </tr>\n",
              "  </tbody>\n",
              "</table>\n",
              "</div>"
            ],
            "text/plain": [
              "   Student_ID Student_Name    English  ...   Science    History  Social_Studies\n",
              "17        S18          Ria  30.830802  ...  84.27165  78.727155         7.30567\n",
              "\n",
              "[1 rows x 7 columns]"
            ]
          },
          "metadata": {
            "tags": []
          }
        }
      ]
    },
    {
      "cell_type": "code",
      "metadata": {
        "id": "t8xPvQTcBDU5",
        "colab": {
          "base_uri": "https://localhost:8080/",
          "height": 80
        },
        "outputId": "4a25d717-0f63-46ba-e434-d59a2773b85e"
      },
      "source": [
        "# TO DO: Print all records for David\n",
        "\n",
        "display(marks.loc[(marks.Student_Name == 'David')])"
      ],
      "execution_count": null,
      "outputs": [
        {
          "output_type": "display_data",
          "data": {
            "text/html": [
              "<div>\n",
              "<style scoped>\n",
              "    .dataframe tbody tr th:only-of-type {\n",
              "        vertical-align: middle;\n",
              "    }\n",
              "\n",
              "    .dataframe tbody tr th {\n",
              "        vertical-align: top;\n",
              "    }\n",
              "\n",
              "    .dataframe thead th {\n",
              "        text-align: right;\n",
              "    }\n",
              "</style>\n",
              "<table border=\"1\" class=\"dataframe\">\n",
              "  <thead>\n",
              "    <tr style=\"text-align: right;\">\n",
              "      <th></th>\n",
              "      <th>Student_ID</th>\n",
              "      <th>Student_Name</th>\n",
              "      <th>English</th>\n",
              "      <th>Maths</th>\n",
              "      <th>Science</th>\n",
              "      <th>History</th>\n",
              "      <th>Social_Studies</th>\n",
              "    </tr>\n",
              "  </thead>\n",
              "  <tbody>\n",
              "    <tr>\n",
              "      <th>3</th>\n",
              "      <td>S04</td>\n",
              "      <td>David</td>\n",
              "      <td>21.160844</td>\n",
              "      <td>95.052971</td>\n",
              "      <td>35.860852</td>\n",
              "      <td>62.865185</td>\n",
              "      <td>95.264572</td>\n",
              "    </tr>\n",
              "  </tbody>\n",
              "</table>\n",
              "</div>"
            ],
            "text/plain": [
              "  Student_ID Student_Name    English  ...    Science    History  Social_Studies\n",
              "3        S04        David  21.160844  ...  35.860852  62.865185       95.264572\n",
              "\n",
              "[1 rows x 7 columns]"
            ]
          },
          "metadata": {
            "tags": []
          }
        }
      ]
    },
    {
      "cell_type": "code",
      "metadata": {
        "id": "wT6QPzfOBMIH",
        "colab": {
          "base_uri": "https://localhost:8080/",
          "height": 111
        },
        "outputId": "cf91651c-280e-497a-f7db-b2bba26ebe03"
      },
      "source": [
        "# Using OR operator to print details if the name is either 'Ria' OR 'David'\n",
        "display(marks.loc[(marks.Student_Name == 'Ria') | (marks.Student_Name == 'David')])   \n",
        "\n"
      ],
      "execution_count": null,
      "outputs": [
        {
          "output_type": "display_data",
          "data": {
            "text/html": [
              "<div>\n",
              "<style scoped>\n",
              "    .dataframe tbody tr th:only-of-type {\n",
              "        vertical-align: middle;\n",
              "    }\n",
              "\n",
              "    .dataframe tbody tr th {\n",
              "        vertical-align: top;\n",
              "    }\n",
              "\n",
              "    .dataframe thead th {\n",
              "        text-align: right;\n",
              "    }\n",
              "</style>\n",
              "<table border=\"1\" class=\"dataframe\">\n",
              "  <thead>\n",
              "    <tr style=\"text-align: right;\">\n",
              "      <th></th>\n",
              "      <th>Student_ID</th>\n",
              "      <th>Student_Name</th>\n",
              "      <th>English</th>\n",
              "      <th>Maths</th>\n",
              "      <th>Science</th>\n",
              "      <th>History</th>\n",
              "      <th>Social_Studies</th>\n",
              "    </tr>\n",
              "  </thead>\n",
              "  <tbody>\n",
              "    <tr>\n",
              "      <th>3</th>\n",
              "      <td>S04</td>\n",
              "      <td>David</td>\n",
              "      <td>21.160844</td>\n",
              "      <td>95.052971</td>\n",
              "      <td>35.860852</td>\n",
              "      <td>62.865185</td>\n",
              "      <td>95.264572</td>\n",
              "    </tr>\n",
              "    <tr>\n",
              "      <th>17</th>\n",
              "      <td>S18</td>\n",
              "      <td>Ria</td>\n",
              "      <td>30.830802</td>\n",
              "      <td>25.545682</td>\n",
              "      <td>84.271650</td>\n",
              "      <td>78.727155</td>\n",
              "      <td>7.305670</td>\n",
              "    </tr>\n",
              "  </tbody>\n",
              "</table>\n",
              "</div>"
            ],
            "text/plain": [
              "   Student_ID Student_Name    English  ...    Science    History  Social_Studies\n",
              "3         S04        David  21.160844  ...  35.860852  62.865185       95.264572\n",
              "17        S18          Ria  30.830802  ...  84.271650  78.727155        7.305670\n",
              "\n",
              "[2 rows x 7 columns]"
            ]
          },
          "metadata": {
            "tags": []
          }
        }
      ]
    },
    {
      "cell_type": "code",
      "metadata": {
        "id": "vCn_vYF2CC7n",
        "colab": {
          "base_uri": "https://localhost:8080/",
          "height": 111
        },
        "outputId": "9decadb1-49b4-4abb-96d2-944900a40869"
      },
      "source": [
        "# TO DO: Print all records is the Student IS is either S05 or S10\n",
        "\n",
        "display(marks.loc[(marks.Student_ID == 'S05') | (marks.Student_ID == 'S10')])   \n"
      ],
      "execution_count": null,
      "outputs": [
        {
          "output_type": "display_data",
          "data": {
            "text/html": [
              "<div>\n",
              "<style scoped>\n",
              "    .dataframe tbody tr th:only-of-type {\n",
              "        vertical-align: middle;\n",
              "    }\n",
              "\n",
              "    .dataframe tbody tr th {\n",
              "        vertical-align: top;\n",
              "    }\n",
              "\n",
              "    .dataframe thead th {\n",
              "        text-align: right;\n",
              "    }\n",
              "</style>\n",
              "<table border=\"1\" class=\"dataframe\">\n",
              "  <thead>\n",
              "    <tr style=\"text-align: right;\">\n",
              "      <th></th>\n",
              "      <th>Student_ID</th>\n",
              "      <th>Student_Name</th>\n",
              "      <th>English</th>\n",
              "      <th>Maths</th>\n",
              "      <th>Science</th>\n",
              "      <th>History</th>\n",
              "      <th>Social_Studies</th>\n",
              "    </tr>\n",
              "  </thead>\n",
              "  <tbody>\n",
              "    <tr>\n",
              "      <th>4</th>\n",
              "      <td>S05</td>\n",
              "      <td>Edward</td>\n",
              "      <td>63.250994</td>\n",
              "      <td>60.693247</td>\n",
              "      <td>7.020915</td>\n",
              "      <td>60.505272</td>\n",
              "      <td>34.041671</td>\n",
              "    </tr>\n",
              "    <tr>\n",
              "      <th>9</th>\n",
              "      <td>S10</td>\n",
              "      <td>John</td>\n",
              "      <td>30.968731</td>\n",
              "      <td>14.282925</td>\n",
              "      <td>3.312853</td>\n",
              "      <td>79.916094</td>\n",
              "      <td>32.706891</td>\n",
              "    </tr>\n",
              "  </tbody>\n",
              "</table>\n",
              "</div>"
            ],
            "text/plain": [
              "  Student_ID Student_Name    English  ...   Science    History  Social_Studies\n",
              "4        S05       Edward  63.250994  ...  7.020915  60.505272       34.041671\n",
              "9        S10         John  30.968731  ...  3.312853  79.916094       32.706891\n",
              "\n",
              "[2 rows x 7 columns]"
            ]
          },
          "metadata": {
            "tags": []
          }
        }
      ]
    },
    {
      "cell_type": "code",
      "metadata": {
        "id": "l7eOUNJpCMih",
        "colab": {
          "base_uri": "https://localhost:8080/",
          "height": 359
        },
        "outputId": "9ebdf09b-4570-42c5-e8a7-d88931e6b9a7"
      },
      "source": [
        "# TO DO: Fetch all details where marks in English > 70 or marks in Maths > 70.\n",
        "\n",
        "display(marks.loc[(marks.English > 70) | (marks.Maths > 70)])  "
      ],
      "execution_count": null,
      "outputs": [
        {
          "output_type": "display_data",
          "data": {
            "text/html": [
              "<div>\n",
              "<style scoped>\n",
              "    .dataframe tbody tr th:only-of-type {\n",
              "        vertical-align: middle;\n",
              "    }\n",
              "\n",
              "    .dataframe tbody tr th {\n",
              "        vertical-align: top;\n",
              "    }\n",
              "\n",
              "    .dataframe thead th {\n",
              "        text-align: right;\n",
              "    }\n",
              "</style>\n",
              "<table border=\"1\" class=\"dataframe\">\n",
              "  <thead>\n",
              "    <tr style=\"text-align: right;\">\n",
              "      <th></th>\n",
              "      <th>Student_ID</th>\n",
              "      <th>Student_Name</th>\n",
              "      <th>English</th>\n",
              "      <th>Maths</th>\n",
              "      <th>Science</th>\n",
              "      <th>History</th>\n",
              "      <th>Social_Studies</th>\n",
              "    </tr>\n",
              "  </thead>\n",
              "  <tbody>\n",
              "    <tr>\n",
              "      <th>0</th>\n",
              "      <td>S01</td>\n",
              "      <td>Alice</td>\n",
              "      <td>96.874050</td>\n",
              "      <td>15.367999</td>\n",
              "      <td>58.682033</td>\n",
              "      <td>59.690510</td>\n",
              "      <td>61.373070</td>\n",
              "    </tr>\n",
              "    <tr>\n",
              "      <th>1</th>\n",
              "      <td>S02</td>\n",
              "      <td>Bob</td>\n",
              "      <td>5.462131</td>\n",
              "      <td>81.032680</td>\n",
              "      <td>83.171957</td>\n",
              "      <td>45.664012</td>\n",
              "      <td>80.805730</td>\n",
              "    </tr>\n",
              "    <tr>\n",
              "      <th>3</th>\n",
              "      <td>S04</td>\n",
              "      <td>David</td>\n",
              "      <td>21.160844</td>\n",
              "      <td>95.052971</td>\n",
              "      <td>35.860852</td>\n",
              "      <td>62.865185</td>\n",
              "      <td>95.264572</td>\n",
              "    </tr>\n",
              "    <tr>\n",
              "      <th>5</th>\n",
              "      <td>S06</td>\n",
              "      <td>Fysal</td>\n",
              "      <td>42.694748</td>\n",
              "      <td>77.348295</td>\n",
              "      <td>37.216613</td>\n",
              "      <td>33.784399</td>\n",
              "      <td>85.019761</td>\n",
              "    </tr>\n",
              "    <tr>\n",
              "      <th>8</th>\n",
              "      <td>S09</td>\n",
              "      <td>Ivan</td>\n",
              "      <td>5.777530</td>\n",
              "      <td>79.508179</td>\n",
              "      <td>94.559212</td>\n",
              "      <td>38.355867</td>\n",
              "      <td>90.483635</td>\n",
              "    </tr>\n",
              "    <tr>\n",
              "      <th>11</th>\n",
              "      <td>S12</td>\n",
              "      <td>Lia</td>\n",
              "      <td>95.928421</td>\n",
              "      <td>35.789430</td>\n",
              "      <td>95.440164</td>\n",
              "      <td>43.520213</td>\n",
              "      <td>71.930382</td>\n",
              "    </tr>\n",
              "    <tr>\n",
              "      <th>13</th>\n",
              "      <td>S14</td>\n",
              "      <td>Noel</td>\n",
              "      <td>72.833673</td>\n",
              "      <td>7.160086</td>\n",
              "      <td>22.089014</td>\n",
              "      <td>52.867757</td>\n",
              "      <td>20.583259</td>\n",
              "    </tr>\n",
              "    <tr>\n",
              "      <th>15</th>\n",
              "      <td>S16</td>\n",
              "      <td>Peter</td>\n",
              "      <td>40.694327</td>\n",
              "      <td>91.395888</td>\n",
              "      <td>8.149884</td>\n",
              "      <td>13.852098</td>\n",
              "      <td>74.528425</td>\n",
              "    </tr>\n",
              "    <tr>\n",
              "      <th>16</th>\n",
              "      <td>S17</td>\n",
              "      <td>Roy</td>\n",
              "      <td>43.559963</td>\n",
              "      <td>99.270852</td>\n",
              "      <td>13.924531</td>\n",
              "      <td>71.306738</td>\n",
              "      <td>8.432155</td>\n",
              "    </tr>\n",
              "    <tr>\n",
              "      <th>18</th>\n",
              "      <td>S19</td>\n",
              "      <td>Suvin</td>\n",
              "      <td>72.218179</td>\n",
              "      <td>85.284128</td>\n",
              "      <td>32.555060</td>\n",
              "      <td>47.007177</td>\n",
              "      <td>83.344403</td>\n",
              "    </tr>\n",
              "  </tbody>\n",
              "</table>\n",
              "</div>"
            ],
            "text/plain": [
              "   Student_ID Student_Name    English  ...    Science    History  Social_Studies\n",
              "0         S01        Alice  96.874050  ...  58.682033  59.690510       61.373070\n",
              "1         S02          Bob   5.462131  ...  83.171957  45.664012       80.805730\n",
              "3         S04        David  21.160844  ...  35.860852  62.865185       95.264572\n",
              "5         S06        Fysal  42.694748  ...  37.216613  33.784399       85.019761\n",
              "8         S09         Ivan   5.777530  ...  94.559212  38.355867       90.483635\n",
              "11        S12          Lia  95.928421  ...  95.440164  43.520213       71.930382\n",
              "13        S14         Noel  72.833673  ...  22.089014  52.867757       20.583259\n",
              "15        S16        Peter  40.694327  ...   8.149884  13.852098       74.528425\n",
              "16        S17          Roy  43.559963  ...  13.924531  71.306738        8.432155\n",
              "18        S19        Suvin  72.218179  ...  32.555060  47.007177       83.344403\n",
              "\n",
              "[10 rows x 7 columns]"
            ]
          },
          "metadata": {
            "tags": []
          }
        }
      ]
    },
    {
      "cell_type": "code",
      "metadata": {
        "id": "NxLDv69OCbR5",
        "colab": {
          "base_uri": "https://localhost:8080/",
          "height": 80
        },
        "outputId": "a7793241-067f-40cb-d0b4-43fced64aa75"
      },
      "source": [
        "# Using AND operator to combine two conditions. \n",
        "\n",
        "# TO DO: Fetch all details where marks in English > 70 AND marks in Maths > 70.\n",
        "# Hint: Use & for AND\n",
        "\n",
        "display(marks.loc[(marks.English > 70) & (marks.Maths > 70)])  "
      ],
      "execution_count": null,
      "outputs": [
        {
          "output_type": "display_data",
          "data": {
            "text/html": [
              "<div>\n",
              "<style scoped>\n",
              "    .dataframe tbody tr th:only-of-type {\n",
              "        vertical-align: middle;\n",
              "    }\n",
              "\n",
              "    .dataframe tbody tr th {\n",
              "        vertical-align: top;\n",
              "    }\n",
              "\n",
              "    .dataframe thead th {\n",
              "        text-align: right;\n",
              "    }\n",
              "</style>\n",
              "<table border=\"1\" class=\"dataframe\">\n",
              "  <thead>\n",
              "    <tr style=\"text-align: right;\">\n",
              "      <th></th>\n",
              "      <th>Student_ID</th>\n",
              "      <th>Student_Name</th>\n",
              "      <th>English</th>\n",
              "      <th>Maths</th>\n",
              "      <th>Science</th>\n",
              "      <th>History</th>\n",
              "      <th>Social_Studies</th>\n",
              "    </tr>\n",
              "  </thead>\n",
              "  <tbody>\n",
              "    <tr>\n",
              "      <th>18</th>\n",
              "      <td>S19</td>\n",
              "      <td>Suvin</td>\n",
              "      <td>72.218179</td>\n",
              "      <td>85.284128</td>\n",
              "      <td>32.55506</td>\n",
              "      <td>47.007177</td>\n",
              "      <td>83.344403</td>\n",
              "    </tr>\n",
              "  </tbody>\n",
              "</table>\n",
              "</div>"
            ],
            "text/plain": [
              "   Student_ID Student_Name    English  ...   Science    History  Social_Studies\n",
              "18        S19        Suvin  72.218179  ...  32.55506  47.007177       83.344403\n",
              "\n",
              "[1 rows x 7 columns]"
            ]
          },
          "metadata": {
            "tags": []
          }
        }
      ]
    },
    {
      "cell_type": "code",
      "metadata": {
        "id": "cmmaAvFsCpfu",
        "colab": {
          "base_uri": "https://localhost:8080/",
          "height": 638
        },
        "outputId": "4a1696e9-8bf0-41ca-84ec-103e5d9bdf15"
      },
      "source": [
        "# Using NOT function \n",
        "\n",
        "# TO DO: Fetch all details for all students except for Ria or the all students who are not Ria.\n",
        "# Hint: Use != for 'not equal to'\n",
        "\n",
        "display(marks.loc[(marks.Student_Name != 'Ria') | (marks.Student_Name != 'Ria')])  \n"
      ],
      "execution_count": null,
      "outputs": [
        {
          "output_type": "display_data",
          "data": {
            "text/html": [
              "<div>\n",
              "<style scoped>\n",
              "    .dataframe tbody tr th:only-of-type {\n",
              "        vertical-align: middle;\n",
              "    }\n",
              "\n",
              "    .dataframe tbody tr th {\n",
              "        vertical-align: top;\n",
              "    }\n",
              "\n",
              "    .dataframe thead th {\n",
              "        text-align: right;\n",
              "    }\n",
              "</style>\n",
              "<table border=\"1\" class=\"dataframe\">\n",
              "  <thead>\n",
              "    <tr style=\"text-align: right;\">\n",
              "      <th></th>\n",
              "      <th>Student_ID</th>\n",
              "      <th>Student_Name</th>\n",
              "      <th>English</th>\n",
              "      <th>Maths</th>\n",
              "      <th>Science</th>\n",
              "      <th>History</th>\n",
              "      <th>Social_Studies</th>\n",
              "    </tr>\n",
              "  </thead>\n",
              "  <tbody>\n",
              "    <tr>\n",
              "      <th>0</th>\n",
              "      <td>S01</td>\n",
              "      <td>Alice</td>\n",
              "      <td>96.874050</td>\n",
              "      <td>15.367999</td>\n",
              "      <td>58.682033</td>\n",
              "      <td>59.690510</td>\n",
              "      <td>61.373070</td>\n",
              "    </tr>\n",
              "    <tr>\n",
              "      <th>1</th>\n",
              "      <td>S02</td>\n",
              "      <td>Bob</td>\n",
              "      <td>5.462131</td>\n",
              "      <td>81.032680</td>\n",
              "      <td>83.171957</td>\n",
              "      <td>45.664012</td>\n",
              "      <td>80.805730</td>\n",
              "    </tr>\n",
              "    <tr>\n",
              "      <th>2</th>\n",
              "      <td>S03</td>\n",
              "      <td>Charlie</td>\n",
              "      <td>60.753099</td>\n",
              "      <td>65.219548</td>\n",
              "      <td>99.323628</td>\n",
              "      <td>24.281512</td>\n",
              "      <td>58.057612</td>\n",
              "    </tr>\n",
              "    <tr>\n",
              "      <th>3</th>\n",
              "      <td>S04</td>\n",
              "      <td>David</td>\n",
              "      <td>21.160844</td>\n",
              "      <td>95.052971</td>\n",
              "      <td>35.860852</td>\n",
              "      <td>62.865185</td>\n",
              "      <td>95.264572</td>\n",
              "    </tr>\n",
              "    <tr>\n",
              "      <th>4</th>\n",
              "      <td>S05</td>\n",
              "      <td>Edward</td>\n",
              "      <td>63.250994</td>\n",
              "      <td>60.693247</td>\n",
              "      <td>7.020915</td>\n",
              "      <td>60.505272</td>\n",
              "      <td>34.041671</td>\n",
              "    </tr>\n",
              "    <tr>\n",
              "      <th>5</th>\n",
              "      <td>S06</td>\n",
              "      <td>Fysal</td>\n",
              "      <td>42.694748</td>\n",
              "      <td>77.348295</td>\n",
              "      <td>37.216613</td>\n",
              "      <td>33.784399</td>\n",
              "      <td>85.019761</td>\n",
              "    </tr>\n",
              "    <tr>\n",
              "      <th>6</th>\n",
              "      <td>S07</td>\n",
              "      <td>George</td>\n",
              "      <td>66.276626</td>\n",
              "      <td>46.812190</td>\n",
              "      <td>14.219533</td>\n",
              "      <td>18.582771</td>\n",
              "      <td>87.021849</td>\n",
              "    </tr>\n",
              "    <tr>\n",
              "      <th>7</th>\n",
              "      <td>S08</td>\n",
              "      <td>Hareez</td>\n",
              "      <td>5.302984</td>\n",
              "      <td>11.966929</td>\n",
              "      <td>43.980951</td>\n",
              "      <td>54.410098</td>\n",
              "      <td>74.530018</td>\n",
              "    </tr>\n",
              "    <tr>\n",
              "      <th>8</th>\n",
              "      <td>S09</td>\n",
              "      <td>Ivan</td>\n",
              "      <td>5.777530</td>\n",
              "      <td>79.508179</td>\n",
              "      <td>94.559212</td>\n",
              "      <td>38.355867</td>\n",
              "      <td>90.483635</td>\n",
              "    </tr>\n",
              "    <tr>\n",
              "      <th>9</th>\n",
              "      <td>S10</td>\n",
              "      <td>John</td>\n",
              "      <td>30.968731</td>\n",
              "      <td>14.282925</td>\n",
              "      <td>3.312853</td>\n",
              "      <td>79.916094</td>\n",
              "      <td>32.706891</td>\n",
              "    </tr>\n",
              "    <tr>\n",
              "      <th>10</th>\n",
              "      <td>S11</td>\n",
              "      <td>Kelvin</td>\n",
              "      <td>40.219985</td>\n",
              "      <td>55.325651</td>\n",
              "      <td>16.826141</td>\n",
              "      <td>7.462064</td>\n",
              "      <td>34.449110</td>\n",
              "    </tr>\n",
              "    <tr>\n",
              "      <th>11</th>\n",
              "      <td>S12</td>\n",
              "      <td>Lia</td>\n",
              "      <td>95.928421</td>\n",
              "      <td>35.789430</td>\n",
              "      <td>95.440164</td>\n",
              "      <td>43.520213</td>\n",
              "      <td>71.930382</td>\n",
              "    </tr>\n",
              "    <tr>\n",
              "      <th>12</th>\n",
              "      <td>S13</td>\n",
              "      <td>Maria</td>\n",
              "      <td>8.215446</td>\n",
              "      <td>25.042783</td>\n",
              "      <td>16.518147</td>\n",
              "      <td>36.543154</td>\n",
              "      <td>80.665074</td>\n",
              "    </tr>\n",
              "    <tr>\n",
              "      <th>13</th>\n",
              "      <td>S14</td>\n",
              "      <td>Noel</td>\n",
              "      <td>72.833673</td>\n",
              "      <td>7.160086</td>\n",
              "      <td>22.089014</td>\n",
              "      <td>52.867757</td>\n",
              "      <td>20.583259</td>\n",
              "    </tr>\n",
              "    <tr>\n",
              "      <th>14</th>\n",
              "      <td>S15</td>\n",
              "      <td>Oliver</td>\n",
              "      <td>5.982402</td>\n",
              "      <td>16.460926</td>\n",
              "      <td>40.977224</td>\n",
              "      <td>80.925749</td>\n",
              "      <td>83.312063</td>\n",
              "    </tr>\n",
              "    <tr>\n",
              "      <th>15</th>\n",
              "      <td>S16</td>\n",
              "      <td>Peter</td>\n",
              "      <td>40.694327</td>\n",
              "      <td>91.395888</td>\n",
              "      <td>8.149884</td>\n",
              "      <td>13.852098</td>\n",
              "      <td>74.528425</td>\n",
              "    </tr>\n",
              "    <tr>\n",
              "      <th>16</th>\n",
              "      <td>S17</td>\n",
              "      <td>Roy</td>\n",
              "      <td>43.559963</td>\n",
              "      <td>99.270852</td>\n",
              "      <td>13.924531</td>\n",
              "      <td>71.306738</td>\n",
              "      <td>8.432155</td>\n",
              "    </tr>\n",
              "    <tr>\n",
              "      <th>18</th>\n",
              "      <td>S19</td>\n",
              "      <td>Suvin</td>\n",
              "      <td>72.218179</td>\n",
              "      <td>85.284128</td>\n",
              "      <td>32.555060</td>\n",
              "      <td>47.007177</td>\n",
              "      <td>83.344403</td>\n",
              "    </tr>\n",
              "    <tr>\n",
              "      <th>19</th>\n",
              "      <td>S20</td>\n",
              "      <td>Tan</td>\n",
              "      <td>18.070264</td>\n",
              "      <td>56.662635</td>\n",
              "      <td>2.618987</td>\n",
              "      <td>14.067349</td>\n",
              "      <td>82.802787</td>\n",
              "    </tr>\n",
              "  </tbody>\n",
              "</table>\n",
              "</div>"
            ],
            "text/plain": [
              "   Student_ID Student_Name    English  ...    Science    History  Social_Studies\n",
              "0         S01        Alice  96.874050  ...  58.682033  59.690510       61.373070\n",
              "1         S02          Bob   5.462131  ...  83.171957  45.664012       80.805730\n",
              "2         S03      Charlie  60.753099  ...  99.323628  24.281512       58.057612\n",
              "3         S04        David  21.160844  ...  35.860852  62.865185       95.264572\n",
              "4         S05       Edward  63.250994  ...   7.020915  60.505272       34.041671\n",
              "5         S06        Fysal  42.694748  ...  37.216613  33.784399       85.019761\n",
              "6         S07       George  66.276626  ...  14.219533  18.582771       87.021849\n",
              "7         S08       Hareez   5.302984  ...  43.980951  54.410098       74.530018\n",
              "8         S09         Ivan   5.777530  ...  94.559212  38.355867       90.483635\n",
              "9         S10         John  30.968731  ...   3.312853  79.916094       32.706891\n",
              "10        S11       Kelvin  40.219985  ...  16.826141   7.462064       34.449110\n",
              "11        S12          Lia  95.928421  ...  95.440164  43.520213       71.930382\n",
              "12        S13        Maria   8.215446  ...  16.518147  36.543154       80.665074\n",
              "13        S14         Noel  72.833673  ...  22.089014  52.867757       20.583259\n",
              "14        S15       Oliver   5.982402  ...  40.977224  80.925749       83.312063\n",
              "15        S16        Peter  40.694327  ...   8.149884  13.852098       74.528425\n",
              "16        S17          Roy  43.559963  ...  13.924531  71.306738        8.432155\n",
              "18        S19        Suvin  72.218179  ...  32.555060  47.007177       83.344403\n",
              "19        S20          Tan  18.070264  ...   2.618987  14.067349       82.802787\n",
              "\n",
              "[19 rows x 7 columns]"
            ]
          },
          "metadata": {
            "tags": []
          }
        }
      ]
    },
    {
      "cell_type": "code",
      "metadata": {
        "id": "7VCU6WTeEABA",
        "colab": {
          "base_uri": "https://localhost:8080/",
          "height": 700
        },
        "outputId": "981c514e-fddb-4c66-c7ac-6b330218e795"
      },
      "source": [
        "# Index column can be changed by giving the name of the column - unique and case-sensitive\n",
        "\n",
        "marks = pd.read_csv('marks.csv', index_col='Student_ID')  # could have given the index no. of the columns (0,1..) as well.\n",
        "display(marks)"
      ],
      "execution_count": null,
      "outputs": [
        {
          "output_type": "display_data",
          "data": {
            "text/html": [
              "<div>\n",
              "<style scoped>\n",
              "    .dataframe tbody tr th:only-of-type {\n",
              "        vertical-align: middle;\n",
              "    }\n",
              "\n",
              "    .dataframe tbody tr th {\n",
              "        vertical-align: top;\n",
              "    }\n",
              "\n",
              "    .dataframe thead th {\n",
              "        text-align: right;\n",
              "    }\n",
              "</style>\n",
              "<table border=\"1\" class=\"dataframe\">\n",
              "  <thead>\n",
              "    <tr style=\"text-align: right;\">\n",
              "      <th></th>\n",
              "      <th>Student_Name</th>\n",
              "      <th>English</th>\n",
              "      <th>Maths</th>\n",
              "      <th>Science</th>\n",
              "      <th>History</th>\n",
              "      <th>Social_Studies</th>\n",
              "    </tr>\n",
              "    <tr>\n",
              "      <th>Student_ID</th>\n",
              "      <th></th>\n",
              "      <th></th>\n",
              "      <th></th>\n",
              "      <th></th>\n",
              "      <th></th>\n",
              "      <th></th>\n",
              "    </tr>\n",
              "  </thead>\n",
              "  <tbody>\n",
              "    <tr>\n",
              "      <th>S01</th>\n",
              "      <td>Alice</td>\n",
              "      <td>96.874050</td>\n",
              "      <td>15.367999</td>\n",
              "      <td>58.682033</td>\n",
              "      <td>59.690510</td>\n",
              "      <td>61.373070</td>\n",
              "    </tr>\n",
              "    <tr>\n",
              "      <th>S02</th>\n",
              "      <td>Bob</td>\n",
              "      <td>5.462131</td>\n",
              "      <td>81.032680</td>\n",
              "      <td>83.171957</td>\n",
              "      <td>45.664012</td>\n",
              "      <td>80.805730</td>\n",
              "    </tr>\n",
              "    <tr>\n",
              "      <th>S03</th>\n",
              "      <td>Charlie</td>\n",
              "      <td>60.753099</td>\n",
              "      <td>65.219548</td>\n",
              "      <td>99.323628</td>\n",
              "      <td>24.281512</td>\n",
              "      <td>58.057612</td>\n",
              "    </tr>\n",
              "    <tr>\n",
              "      <th>S04</th>\n",
              "      <td>David</td>\n",
              "      <td>21.160844</td>\n",
              "      <td>95.052971</td>\n",
              "      <td>35.860852</td>\n",
              "      <td>62.865185</td>\n",
              "      <td>95.264572</td>\n",
              "    </tr>\n",
              "    <tr>\n",
              "      <th>S05</th>\n",
              "      <td>Edward</td>\n",
              "      <td>63.250994</td>\n",
              "      <td>60.693247</td>\n",
              "      <td>7.020915</td>\n",
              "      <td>60.505272</td>\n",
              "      <td>34.041671</td>\n",
              "    </tr>\n",
              "    <tr>\n",
              "      <th>S06</th>\n",
              "      <td>Fysal</td>\n",
              "      <td>42.694748</td>\n",
              "      <td>77.348295</td>\n",
              "      <td>37.216613</td>\n",
              "      <td>33.784399</td>\n",
              "      <td>85.019761</td>\n",
              "    </tr>\n",
              "    <tr>\n",
              "      <th>S07</th>\n",
              "      <td>George</td>\n",
              "      <td>66.276626</td>\n",
              "      <td>46.812190</td>\n",
              "      <td>14.219533</td>\n",
              "      <td>18.582771</td>\n",
              "      <td>87.021849</td>\n",
              "    </tr>\n",
              "    <tr>\n",
              "      <th>S08</th>\n",
              "      <td>Hareez</td>\n",
              "      <td>5.302984</td>\n",
              "      <td>11.966929</td>\n",
              "      <td>43.980951</td>\n",
              "      <td>54.410098</td>\n",
              "      <td>74.530018</td>\n",
              "    </tr>\n",
              "    <tr>\n",
              "      <th>S09</th>\n",
              "      <td>Ivan</td>\n",
              "      <td>5.777530</td>\n",
              "      <td>79.508179</td>\n",
              "      <td>94.559212</td>\n",
              "      <td>38.355867</td>\n",
              "      <td>90.483635</td>\n",
              "    </tr>\n",
              "    <tr>\n",
              "      <th>S10</th>\n",
              "      <td>John</td>\n",
              "      <td>30.968731</td>\n",
              "      <td>14.282925</td>\n",
              "      <td>3.312853</td>\n",
              "      <td>79.916094</td>\n",
              "      <td>32.706891</td>\n",
              "    </tr>\n",
              "    <tr>\n",
              "      <th>S11</th>\n",
              "      <td>Kelvin</td>\n",
              "      <td>40.219985</td>\n",
              "      <td>55.325651</td>\n",
              "      <td>16.826141</td>\n",
              "      <td>7.462064</td>\n",
              "      <td>34.449110</td>\n",
              "    </tr>\n",
              "    <tr>\n",
              "      <th>S12</th>\n",
              "      <td>Lia</td>\n",
              "      <td>95.928421</td>\n",
              "      <td>35.789430</td>\n",
              "      <td>95.440164</td>\n",
              "      <td>43.520213</td>\n",
              "      <td>71.930382</td>\n",
              "    </tr>\n",
              "    <tr>\n",
              "      <th>S13</th>\n",
              "      <td>Maria</td>\n",
              "      <td>8.215446</td>\n",
              "      <td>25.042783</td>\n",
              "      <td>16.518147</td>\n",
              "      <td>36.543154</td>\n",
              "      <td>80.665074</td>\n",
              "    </tr>\n",
              "    <tr>\n",
              "      <th>S14</th>\n",
              "      <td>Noel</td>\n",
              "      <td>72.833673</td>\n",
              "      <td>7.160086</td>\n",
              "      <td>22.089014</td>\n",
              "      <td>52.867757</td>\n",
              "      <td>20.583259</td>\n",
              "    </tr>\n",
              "    <tr>\n",
              "      <th>S15</th>\n",
              "      <td>Oliver</td>\n",
              "      <td>5.982402</td>\n",
              "      <td>16.460926</td>\n",
              "      <td>40.977224</td>\n",
              "      <td>80.925749</td>\n",
              "      <td>83.312063</td>\n",
              "    </tr>\n",
              "    <tr>\n",
              "      <th>S16</th>\n",
              "      <td>Peter</td>\n",
              "      <td>40.694327</td>\n",
              "      <td>91.395888</td>\n",
              "      <td>8.149884</td>\n",
              "      <td>13.852098</td>\n",
              "      <td>74.528425</td>\n",
              "    </tr>\n",
              "    <tr>\n",
              "      <th>S17</th>\n",
              "      <td>Roy</td>\n",
              "      <td>43.559963</td>\n",
              "      <td>99.270852</td>\n",
              "      <td>13.924531</td>\n",
              "      <td>71.306738</td>\n",
              "      <td>8.432155</td>\n",
              "    </tr>\n",
              "    <tr>\n",
              "      <th>S18</th>\n",
              "      <td>Ria</td>\n",
              "      <td>30.830802</td>\n",
              "      <td>25.545682</td>\n",
              "      <td>84.271650</td>\n",
              "      <td>78.727155</td>\n",
              "      <td>7.305670</td>\n",
              "    </tr>\n",
              "    <tr>\n",
              "      <th>S19</th>\n",
              "      <td>Suvin</td>\n",
              "      <td>72.218179</td>\n",
              "      <td>85.284128</td>\n",
              "      <td>32.555060</td>\n",
              "      <td>47.007177</td>\n",
              "      <td>83.344403</td>\n",
              "    </tr>\n",
              "    <tr>\n",
              "      <th>S20</th>\n",
              "      <td>Tan</td>\n",
              "      <td>18.070264</td>\n",
              "      <td>56.662635</td>\n",
              "      <td>2.618987</td>\n",
              "      <td>14.067349</td>\n",
              "      <td>82.802787</td>\n",
              "    </tr>\n",
              "  </tbody>\n",
              "</table>\n",
              "</div>"
            ],
            "text/plain": [
              "           Student_Name    English  ...    History  Social_Studies\n",
              "Student_ID                          ...                           \n",
              "S01               Alice  96.874050  ...  59.690510       61.373070\n",
              "S02                 Bob   5.462131  ...  45.664012       80.805730\n",
              "S03             Charlie  60.753099  ...  24.281512       58.057612\n",
              "S04               David  21.160844  ...  62.865185       95.264572\n",
              "S05              Edward  63.250994  ...  60.505272       34.041671\n",
              "S06               Fysal  42.694748  ...  33.784399       85.019761\n",
              "S07              George  66.276626  ...  18.582771       87.021849\n",
              "S08              Hareez   5.302984  ...  54.410098       74.530018\n",
              "S09                Ivan   5.777530  ...  38.355867       90.483635\n",
              "S10                John  30.968731  ...  79.916094       32.706891\n",
              "S11              Kelvin  40.219985  ...   7.462064       34.449110\n",
              "S12                 Lia  95.928421  ...  43.520213       71.930382\n",
              "S13               Maria   8.215446  ...  36.543154       80.665074\n",
              "S14                Noel  72.833673  ...  52.867757       20.583259\n",
              "S15              Oliver   5.982402  ...  80.925749       83.312063\n",
              "S16               Peter  40.694327  ...  13.852098       74.528425\n",
              "S17                 Roy  43.559963  ...  71.306738        8.432155\n",
              "S18                 Ria  30.830802  ...  78.727155        7.305670\n",
              "S19               Suvin  72.218179  ...  47.007177       83.344403\n",
              "S20                 Tan  18.070264  ...  14.067349       82.802787\n",
              "\n",
              "[20 rows x 6 columns]"
            ]
          },
          "metadata": {
            "tags": []
          }
        }
      ]
    },
    {
      "cell_type": "markdown",
      "metadata": {
        "id": "h5d4wkymEMC5"
      },
      "source": [
        "Displaying range of indices using .loc and .iloc\n",
        "\n",
        "Note:\n",
        "1. In .loc, all value are included\n",
        "2. In .iloc, the upper range is excluded\n",
        "\n",
        "Execute the next codes to understand it better."
      ]
    },
    {
      "cell_type": "code",
      "metadata": {
        "colab": {
          "base_uri": "https://localhost:8080/",
          "height": 669
        },
        "id": "gLJPSIUPWBwm",
        "outputId": "f3eedc35-8ebf-415d-88fc-130b5606a62c"
      },
      "source": [
        "marks = pd.read_csv('/content/marks.csv')\n",
        "marks"
      ],
      "execution_count": null,
      "outputs": [
        {
          "output_type": "execute_result",
          "data": {
            "text/html": [
              "<div>\n",
              "<style scoped>\n",
              "    .dataframe tbody tr th:only-of-type {\n",
              "        vertical-align: middle;\n",
              "    }\n",
              "\n",
              "    .dataframe tbody tr th {\n",
              "        vertical-align: top;\n",
              "    }\n",
              "\n",
              "    .dataframe thead th {\n",
              "        text-align: right;\n",
              "    }\n",
              "</style>\n",
              "<table border=\"1\" class=\"dataframe\">\n",
              "  <thead>\n",
              "    <tr style=\"text-align: right;\">\n",
              "      <th></th>\n",
              "      <th>Student_ID</th>\n",
              "      <th>Student_Name</th>\n",
              "      <th>English</th>\n",
              "      <th>Maths</th>\n",
              "      <th>Science</th>\n",
              "      <th>History</th>\n",
              "      <th>Social_Studies</th>\n",
              "    </tr>\n",
              "  </thead>\n",
              "  <tbody>\n",
              "    <tr>\n",
              "      <th>0</th>\n",
              "      <td>S01</td>\n",
              "      <td>Alice</td>\n",
              "      <td>96.874050</td>\n",
              "      <td>15.367999</td>\n",
              "      <td>58.682033</td>\n",
              "      <td>59.690510</td>\n",
              "      <td>61.373070</td>\n",
              "    </tr>\n",
              "    <tr>\n",
              "      <th>1</th>\n",
              "      <td>S02</td>\n",
              "      <td>Bob</td>\n",
              "      <td>5.462131</td>\n",
              "      <td>81.032680</td>\n",
              "      <td>83.171957</td>\n",
              "      <td>45.664012</td>\n",
              "      <td>80.805730</td>\n",
              "    </tr>\n",
              "    <tr>\n",
              "      <th>2</th>\n",
              "      <td>S03</td>\n",
              "      <td>Charlie</td>\n",
              "      <td>60.753099</td>\n",
              "      <td>65.219548</td>\n",
              "      <td>99.323628</td>\n",
              "      <td>24.281512</td>\n",
              "      <td>58.057612</td>\n",
              "    </tr>\n",
              "    <tr>\n",
              "      <th>3</th>\n",
              "      <td>S04</td>\n",
              "      <td>David</td>\n",
              "      <td>21.160844</td>\n",
              "      <td>95.052971</td>\n",
              "      <td>35.860852</td>\n",
              "      <td>62.865185</td>\n",
              "      <td>95.264572</td>\n",
              "    </tr>\n",
              "    <tr>\n",
              "      <th>4</th>\n",
              "      <td>S05</td>\n",
              "      <td>Edward</td>\n",
              "      <td>63.250994</td>\n",
              "      <td>60.693247</td>\n",
              "      <td>7.020915</td>\n",
              "      <td>60.505272</td>\n",
              "      <td>34.041671</td>\n",
              "    </tr>\n",
              "    <tr>\n",
              "      <th>5</th>\n",
              "      <td>S06</td>\n",
              "      <td>Fysal</td>\n",
              "      <td>42.694748</td>\n",
              "      <td>77.348295</td>\n",
              "      <td>37.216613</td>\n",
              "      <td>33.784399</td>\n",
              "      <td>85.019761</td>\n",
              "    </tr>\n",
              "    <tr>\n",
              "      <th>6</th>\n",
              "      <td>S07</td>\n",
              "      <td>George</td>\n",
              "      <td>66.276626</td>\n",
              "      <td>46.812190</td>\n",
              "      <td>14.219533</td>\n",
              "      <td>18.582771</td>\n",
              "      <td>87.021849</td>\n",
              "    </tr>\n",
              "    <tr>\n",
              "      <th>7</th>\n",
              "      <td>S08</td>\n",
              "      <td>Hareez</td>\n",
              "      <td>5.302984</td>\n",
              "      <td>11.966929</td>\n",
              "      <td>43.980951</td>\n",
              "      <td>54.410098</td>\n",
              "      <td>74.530018</td>\n",
              "    </tr>\n",
              "    <tr>\n",
              "      <th>8</th>\n",
              "      <td>S09</td>\n",
              "      <td>Ivan</td>\n",
              "      <td>5.777530</td>\n",
              "      <td>79.508179</td>\n",
              "      <td>94.559212</td>\n",
              "      <td>38.355867</td>\n",
              "      <td>90.483635</td>\n",
              "    </tr>\n",
              "    <tr>\n",
              "      <th>9</th>\n",
              "      <td>S10</td>\n",
              "      <td>John</td>\n",
              "      <td>30.968731</td>\n",
              "      <td>14.282925</td>\n",
              "      <td>3.312853</td>\n",
              "      <td>79.916094</td>\n",
              "      <td>32.706891</td>\n",
              "    </tr>\n",
              "    <tr>\n",
              "      <th>10</th>\n",
              "      <td>S11</td>\n",
              "      <td>Kelvin</td>\n",
              "      <td>40.219985</td>\n",
              "      <td>55.325651</td>\n",
              "      <td>16.826141</td>\n",
              "      <td>7.462064</td>\n",
              "      <td>34.449110</td>\n",
              "    </tr>\n",
              "    <tr>\n",
              "      <th>11</th>\n",
              "      <td>S12</td>\n",
              "      <td>Lia</td>\n",
              "      <td>95.928421</td>\n",
              "      <td>35.789430</td>\n",
              "      <td>95.440164</td>\n",
              "      <td>43.520213</td>\n",
              "      <td>71.930382</td>\n",
              "    </tr>\n",
              "    <tr>\n",
              "      <th>12</th>\n",
              "      <td>S13</td>\n",
              "      <td>Maria</td>\n",
              "      <td>8.215446</td>\n",
              "      <td>25.042783</td>\n",
              "      <td>16.518147</td>\n",
              "      <td>36.543154</td>\n",
              "      <td>80.665074</td>\n",
              "    </tr>\n",
              "    <tr>\n",
              "      <th>13</th>\n",
              "      <td>S14</td>\n",
              "      <td>Noel</td>\n",
              "      <td>72.833673</td>\n",
              "      <td>7.160086</td>\n",
              "      <td>22.089014</td>\n",
              "      <td>52.867757</td>\n",
              "      <td>20.583259</td>\n",
              "    </tr>\n",
              "    <tr>\n",
              "      <th>14</th>\n",
              "      <td>S15</td>\n",
              "      <td>Oliver</td>\n",
              "      <td>5.982402</td>\n",
              "      <td>16.460926</td>\n",
              "      <td>40.977224</td>\n",
              "      <td>80.925749</td>\n",
              "      <td>83.312063</td>\n",
              "    </tr>\n",
              "    <tr>\n",
              "      <th>15</th>\n",
              "      <td>S16</td>\n",
              "      <td>Peter</td>\n",
              "      <td>40.694327</td>\n",
              "      <td>91.395888</td>\n",
              "      <td>8.149884</td>\n",
              "      <td>13.852098</td>\n",
              "      <td>74.528425</td>\n",
              "    </tr>\n",
              "    <tr>\n",
              "      <th>16</th>\n",
              "      <td>S17</td>\n",
              "      <td>Roy</td>\n",
              "      <td>43.559963</td>\n",
              "      <td>99.270852</td>\n",
              "      <td>13.924531</td>\n",
              "      <td>71.306738</td>\n",
              "      <td>8.432155</td>\n",
              "    </tr>\n",
              "    <tr>\n",
              "      <th>17</th>\n",
              "      <td>S18</td>\n",
              "      <td>Ria</td>\n",
              "      <td>30.830802</td>\n",
              "      <td>25.545682</td>\n",
              "      <td>84.271650</td>\n",
              "      <td>78.727155</td>\n",
              "      <td>7.305670</td>\n",
              "    </tr>\n",
              "    <tr>\n",
              "      <th>18</th>\n",
              "      <td>S19</td>\n",
              "      <td>Suvin</td>\n",
              "      <td>72.218179</td>\n",
              "      <td>85.284128</td>\n",
              "      <td>32.555060</td>\n",
              "      <td>47.007177</td>\n",
              "      <td>83.344403</td>\n",
              "    </tr>\n",
              "    <tr>\n",
              "      <th>19</th>\n",
              "      <td>S20</td>\n",
              "      <td>Tan</td>\n",
              "      <td>18.070264</td>\n",
              "      <td>56.662635</td>\n",
              "      <td>2.618987</td>\n",
              "      <td>14.067349</td>\n",
              "      <td>82.802787</td>\n",
              "    </tr>\n",
              "  </tbody>\n",
              "</table>\n",
              "</div>"
            ],
            "text/plain": [
              "   Student_ID Student_Name    English  ...    Science    History  Social_Studies\n",
              "0         S01        Alice  96.874050  ...  58.682033  59.690510       61.373070\n",
              "1         S02          Bob   5.462131  ...  83.171957  45.664012       80.805730\n",
              "2         S03      Charlie  60.753099  ...  99.323628  24.281512       58.057612\n",
              "3         S04        David  21.160844  ...  35.860852  62.865185       95.264572\n",
              "4         S05       Edward  63.250994  ...   7.020915  60.505272       34.041671\n",
              "5         S06        Fysal  42.694748  ...  37.216613  33.784399       85.019761\n",
              "6         S07       George  66.276626  ...  14.219533  18.582771       87.021849\n",
              "7         S08       Hareez   5.302984  ...  43.980951  54.410098       74.530018\n",
              "8         S09         Ivan   5.777530  ...  94.559212  38.355867       90.483635\n",
              "9         S10         John  30.968731  ...   3.312853  79.916094       32.706891\n",
              "10        S11       Kelvin  40.219985  ...  16.826141   7.462064       34.449110\n",
              "11        S12          Lia  95.928421  ...  95.440164  43.520213       71.930382\n",
              "12        S13        Maria   8.215446  ...  16.518147  36.543154       80.665074\n",
              "13        S14         Noel  72.833673  ...  22.089014  52.867757       20.583259\n",
              "14        S15       Oliver   5.982402  ...  40.977224  80.925749       83.312063\n",
              "15        S16        Peter  40.694327  ...   8.149884  13.852098       74.528425\n",
              "16        S17          Roy  43.559963  ...  13.924531  71.306738        8.432155\n",
              "17        S18          Ria  30.830802  ...  84.271650  78.727155        7.305670\n",
              "18        S19        Suvin  72.218179  ...  32.555060  47.007177       83.344403\n",
              "19        S20          Tan  18.070264  ...   2.618987  14.067349       82.802787\n",
              "\n",
              "[20 rows x 7 columns]"
            ]
          },
          "metadata": {
            "tags": []
          },
          "execution_count": 96
        }
      ]
    },
    {
      "cell_type": "code",
      "metadata": {
        "id": "CsudZNu4ELAM",
        "colab": {
          "base_uri": "https://localhost:8080/",
          "height": 359
        },
        "outputId": "504dbe00-1e82-4896-b4ac-988ddeb3d324"
      },
      "source": [
        "display(marks.loc[1:10]) # Range of values. Includes all values/labels.\n",
        "\n",
        "# .loc is different than .iloc\n",
        "# .loc is label-based. We need to SPECIFY the VALUE of the index. The values must be there in the index column."
      ],
      "execution_count": null,
      "outputs": [
        {
          "output_type": "display_data",
          "data": {
            "text/html": [
              "<div>\n",
              "<style scoped>\n",
              "    .dataframe tbody tr th:only-of-type {\n",
              "        vertical-align: middle;\n",
              "    }\n",
              "\n",
              "    .dataframe tbody tr th {\n",
              "        vertical-align: top;\n",
              "    }\n",
              "\n",
              "    .dataframe thead th {\n",
              "        text-align: right;\n",
              "    }\n",
              "</style>\n",
              "<table border=\"1\" class=\"dataframe\">\n",
              "  <thead>\n",
              "    <tr style=\"text-align: right;\">\n",
              "      <th></th>\n",
              "      <th>Student_ID</th>\n",
              "      <th>Student_Name</th>\n",
              "      <th>English</th>\n",
              "      <th>Maths</th>\n",
              "      <th>Science</th>\n",
              "      <th>History</th>\n",
              "      <th>Social_Studies</th>\n",
              "    </tr>\n",
              "  </thead>\n",
              "  <tbody>\n",
              "    <tr>\n",
              "      <th>1</th>\n",
              "      <td>S02</td>\n",
              "      <td>Bob</td>\n",
              "      <td>5.462131</td>\n",
              "      <td>81.032680</td>\n",
              "      <td>83.171957</td>\n",
              "      <td>45.664012</td>\n",
              "      <td>80.805730</td>\n",
              "    </tr>\n",
              "    <tr>\n",
              "      <th>2</th>\n",
              "      <td>S03</td>\n",
              "      <td>Charlie</td>\n",
              "      <td>60.753099</td>\n",
              "      <td>65.219548</td>\n",
              "      <td>99.323628</td>\n",
              "      <td>24.281512</td>\n",
              "      <td>58.057612</td>\n",
              "    </tr>\n",
              "    <tr>\n",
              "      <th>3</th>\n",
              "      <td>S04</td>\n",
              "      <td>David</td>\n",
              "      <td>21.160844</td>\n",
              "      <td>95.052971</td>\n",
              "      <td>35.860852</td>\n",
              "      <td>62.865185</td>\n",
              "      <td>95.264572</td>\n",
              "    </tr>\n",
              "    <tr>\n",
              "      <th>4</th>\n",
              "      <td>S05</td>\n",
              "      <td>Edward</td>\n",
              "      <td>63.250994</td>\n",
              "      <td>60.693247</td>\n",
              "      <td>7.020915</td>\n",
              "      <td>60.505272</td>\n",
              "      <td>34.041671</td>\n",
              "    </tr>\n",
              "    <tr>\n",
              "      <th>5</th>\n",
              "      <td>S06</td>\n",
              "      <td>Fysal</td>\n",
              "      <td>42.694748</td>\n",
              "      <td>77.348295</td>\n",
              "      <td>37.216613</td>\n",
              "      <td>33.784399</td>\n",
              "      <td>85.019761</td>\n",
              "    </tr>\n",
              "    <tr>\n",
              "      <th>6</th>\n",
              "      <td>S07</td>\n",
              "      <td>George</td>\n",
              "      <td>66.276626</td>\n",
              "      <td>46.812190</td>\n",
              "      <td>14.219533</td>\n",
              "      <td>18.582771</td>\n",
              "      <td>87.021849</td>\n",
              "    </tr>\n",
              "    <tr>\n",
              "      <th>7</th>\n",
              "      <td>S08</td>\n",
              "      <td>Hareez</td>\n",
              "      <td>5.302984</td>\n",
              "      <td>11.966929</td>\n",
              "      <td>43.980951</td>\n",
              "      <td>54.410098</td>\n",
              "      <td>74.530018</td>\n",
              "    </tr>\n",
              "    <tr>\n",
              "      <th>8</th>\n",
              "      <td>S09</td>\n",
              "      <td>Ivan</td>\n",
              "      <td>5.777530</td>\n",
              "      <td>79.508179</td>\n",
              "      <td>94.559212</td>\n",
              "      <td>38.355867</td>\n",
              "      <td>90.483635</td>\n",
              "    </tr>\n",
              "    <tr>\n",
              "      <th>9</th>\n",
              "      <td>S10</td>\n",
              "      <td>John</td>\n",
              "      <td>30.968731</td>\n",
              "      <td>14.282925</td>\n",
              "      <td>3.312853</td>\n",
              "      <td>79.916094</td>\n",
              "      <td>32.706891</td>\n",
              "    </tr>\n",
              "    <tr>\n",
              "      <th>10</th>\n",
              "      <td>S11</td>\n",
              "      <td>Kelvin</td>\n",
              "      <td>40.219985</td>\n",
              "      <td>55.325651</td>\n",
              "      <td>16.826141</td>\n",
              "      <td>7.462064</td>\n",
              "      <td>34.449110</td>\n",
              "    </tr>\n",
              "  </tbody>\n",
              "</table>\n",
              "</div>"
            ],
            "text/plain": [
              "   Student_ID Student_Name    English  ...    Science    History  Social_Studies\n",
              "1         S02          Bob   5.462131  ...  83.171957  45.664012       80.805730\n",
              "2         S03      Charlie  60.753099  ...  99.323628  24.281512       58.057612\n",
              "3         S04        David  21.160844  ...  35.860852  62.865185       95.264572\n",
              "4         S05       Edward  63.250994  ...   7.020915  60.505272       34.041671\n",
              "5         S06        Fysal  42.694748  ...  37.216613  33.784399       85.019761\n",
              "6         S07       George  66.276626  ...  14.219533  18.582771       87.021849\n",
              "7         S08       Hareez   5.302984  ...  43.980951  54.410098       74.530018\n",
              "8         S09         Ivan   5.777530  ...  94.559212  38.355867       90.483635\n",
              "9         S10         John  30.968731  ...   3.312853  79.916094       32.706891\n",
              "10        S11       Kelvin  40.219985  ...  16.826141   7.462064       34.449110\n",
              "\n",
              "[10 rows x 7 columns]"
            ]
          },
          "metadata": {
            "tags": []
          }
        }
      ]
    },
    {
      "cell_type": "code",
      "metadata": {
        "id": "vpIY0XTRETUX",
        "colab": {
          "base_uri": "https://localhost:8080/",
          "height": 390
        },
        "outputId": "85f132e8-7019-4eeb-e1f9-4ab48fc2171e"
      },
      "source": [
        "'''\n",
        "iloc is integer index-based. \n",
        "So here, we have to specify rows and columns by their integer index.\n",
        "'''\n",
        "display(marks.iloc[0:10]) # IMPORTANT - Out of 11 indices, the last one will be excluded.\n",
        "\n",
        "# Returns output of the indices without matching the value of incides entered and the value in the column.\n",
        "# iloc will not work if the indices are not integers."
      ],
      "execution_count": null,
      "outputs": [
        {
          "output_type": "display_data",
          "data": {
            "text/html": [
              "<div>\n",
              "<style scoped>\n",
              "    .dataframe tbody tr th:only-of-type {\n",
              "        vertical-align: middle;\n",
              "    }\n",
              "\n",
              "    .dataframe tbody tr th {\n",
              "        vertical-align: top;\n",
              "    }\n",
              "\n",
              "    .dataframe thead th {\n",
              "        text-align: right;\n",
              "    }\n",
              "</style>\n",
              "<table border=\"1\" class=\"dataframe\">\n",
              "  <thead>\n",
              "    <tr style=\"text-align: right;\">\n",
              "      <th></th>\n",
              "      <th>Student_Name</th>\n",
              "      <th>English</th>\n",
              "      <th>Maths</th>\n",
              "      <th>Science</th>\n",
              "      <th>History</th>\n",
              "      <th>Social_Studies</th>\n",
              "    </tr>\n",
              "    <tr>\n",
              "      <th>Student_ID</th>\n",
              "      <th></th>\n",
              "      <th></th>\n",
              "      <th></th>\n",
              "      <th></th>\n",
              "      <th></th>\n",
              "      <th></th>\n",
              "    </tr>\n",
              "  </thead>\n",
              "  <tbody>\n",
              "    <tr>\n",
              "      <th>S01</th>\n",
              "      <td>Alice</td>\n",
              "      <td>96.874050</td>\n",
              "      <td>15.367999</td>\n",
              "      <td>58.682033</td>\n",
              "      <td>59.690510</td>\n",
              "      <td>61.373070</td>\n",
              "    </tr>\n",
              "    <tr>\n",
              "      <th>S02</th>\n",
              "      <td>Bob</td>\n",
              "      <td>5.462131</td>\n",
              "      <td>81.032680</td>\n",
              "      <td>83.171957</td>\n",
              "      <td>45.664012</td>\n",
              "      <td>80.805730</td>\n",
              "    </tr>\n",
              "    <tr>\n",
              "      <th>S03</th>\n",
              "      <td>Charlie</td>\n",
              "      <td>60.753099</td>\n",
              "      <td>65.219548</td>\n",
              "      <td>99.323628</td>\n",
              "      <td>24.281512</td>\n",
              "      <td>58.057612</td>\n",
              "    </tr>\n",
              "    <tr>\n",
              "      <th>S04</th>\n",
              "      <td>David</td>\n",
              "      <td>21.160844</td>\n",
              "      <td>95.052971</td>\n",
              "      <td>35.860852</td>\n",
              "      <td>62.865185</td>\n",
              "      <td>95.264572</td>\n",
              "    </tr>\n",
              "    <tr>\n",
              "      <th>S05</th>\n",
              "      <td>Edward</td>\n",
              "      <td>63.250994</td>\n",
              "      <td>60.693247</td>\n",
              "      <td>7.020915</td>\n",
              "      <td>60.505272</td>\n",
              "      <td>34.041671</td>\n",
              "    </tr>\n",
              "    <tr>\n",
              "      <th>S06</th>\n",
              "      <td>Fysal</td>\n",
              "      <td>42.694748</td>\n",
              "      <td>77.348295</td>\n",
              "      <td>37.216613</td>\n",
              "      <td>33.784399</td>\n",
              "      <td>85.019761</td>\n",
              "    </tr>\n",
              "    <tr>\n",
              "      <th>S07</th>\n",
              "      <td>George</td>\n",
              "      <td>66.276626</td>\n",
              "      <td>46.812190</td>\n",
              "      <td>14.219533</td>\n",
              "      <td>18.582771</td>\n",
              "      <td>87.021849</td>\n",
              "    </tr>\n",
              "    <tr>\n",
              "      <th>S08</th>\n",
              "      <td>Hareez</td>\n",
              "      <td>5.302984</td>\n",
              "      <td>11.966929</td>\n",
              "      <td>43.980951</td>\n",
              "      <td>54.410098</td>\n",
              "      <td>74.530018</td>\n",
              "    </tr>\n",
              "    <tr>\n",
              "      <th>S09</th>\n",
              "      <td>Ivan</td>\n",
              "      <td>5.777530</td>\n",
              "      <td>79.508179</td>\n",
              "      <td>94.559212</td>\n",
              "      <td>38.355867</td>\n",
              "      <td>90.483635</td>\n",
              "    </tr>\n",
              "    <tr>\n",
              "      <th>S10</th>\n",
              "      <td>John</td>\n",
              "      <td>30.968731</td>\n",
              "      <td>14.282925</td>\n",
              "      <td>3.312853</td>\n",
              "      <td>79.916094</td>\n",
              "      <td>32.706891</td>\n",
              "    </tr>\n",
              "  </tbody>\n",
              "</table>\n",
              "</div>"
            ],
            "text/plain": [
              "           Student_Name    English  ...    History  Social_Studies\n",
              "Student_ID                          ...                           \n",
              "S01               Alice  96.874050  ...  59.690510       61.373070\n",
              "S02                 Bob   5.462131  ...  45.664012       80.805730\n",
              "S03             Charlie  60.753099  ...  24.281512       58.057612\n",
              "S04               David  21.160844  ...  62.865185       95.264572\n",
              "S05              Edward  63.250994  ...  60.505272       34.041671\n",
              "S06               Fysal  42.694748  ...  33.784399       85.019761\n",
              "S07              George  66.276626  ...  18.582771       87.021849\n",
              "S08              Hareez   5.302984  ...  54.410098       74.530018\n",
              "S09                Ivan   5.777530  ...  38.355867       90.483635\n",
              "S10                John  30.968731  ...  79.916094       32.706891\n",
              "\n",
              "[10 rows x 6 columns]"
            ]
          },
          "metadata": {
            "tags": []
          }
        }
      ]
    },
    {
      "cell_type": "code",
      "metadata": {
        "id": "sPZdY78dE27E"
      },
      "source": [
        "# What will be the output here? First think of the answer and then run the code.\n",
        "\n",
        "display(marks.iloc['S04'])\n",
        "\n",
        "# What is the issue?\n",
        "# S04 is a label not an index since iloc takes only index, hence error!"
      ],
      "execution_count": null,
      "outputs": []
    },
    {
      "cell_type": "code",
      "metadata": {
        "id": "mShPCDKQFDlb",
        "colab": {
          "base_uri": "https://localhost:8080/",
          "height": 136
        },
        "outputId": "1ec531a6-f8ab-41c6-b10e-380e7148b0f7"
      },
      "source": [
        "# Correct the issue of the previous code cell and write the correct syntax here.\n",
        "\n",
        "display(marks.loc['S04'])"
      ],
      "execution_count": null,
      "outputs": [
        {
          "output_type": "display_data",
          "data": {
            "text/plain": [
              "Student_Name        David\n",
              "English           21.1608\n",
              "Maths              95.053\n",
              "Science           35.8609\n",
              "History           62.8652\n",
              "Social_Studies    95.2646\n",
              "Name: S04, dtype: object"
            ]
          },
          "metadata": {
            "tags": []
          }
        }
      ]
    },
    {
      "cell_type": "code",
      "metadata": {
        "id": "utHUjEFPFO-d",
        "colab": {
          "base_uri": "https://localhost:8080/",
          "height": 142
        },
        "outputId": "e5dab589-17b7-4503-be7b-47d96828dc4b"
      },
      "source": [
        "# Data of multiple and non-consecuitive indices\n",
        "# Selecting details of the 1st and 5th row\n",
        "display(marks.iloc[[0, 4]])"
      ],
      "execution_count": null,
      "outputs": [
        {
          "output_type": "display_data",
          "data": {
            "text/html": [
              "<div>\n",
              "<style scoped>\n",
              "    .dataframe tbody tr th:only-of-type {\n",
              "        vertical-align: middle;\n",
              "    }\n",
              "\n",
              "    .dataframe tbody tr th {\n",
              "        vertical-align: top;\n",
              "    }\n",
              "\n",
              "    .dataframe thead th {\n",
              "        text-align: right;\n",
              "    }\n",
              "</style>\n",
              "<table border=\"1\" class=\"dataframe\">\n",
              "  <thead>\n",
              "    <tr style=\"text-align: right;\">\n",
              "      <th></th>\n",
              "      <th>Student_Name</th>\n",
              "      <th>English</th>\n",
              "      <th>Maths</th>\n",
              "      <th>Science</th>\n",
              "      <th>History</th>\n",
              "      <th>Social_Studies</th>\n",
              "    </tr>\n",
              "    <tr>\n",
              "      <th>Student_ID</th>\n",
              "      <th></th>\n",
              "      <th></th>\n",
              "      <th></th>\n",
              "      <th></th>\n",
              "      <th></th>\n",
              "      <th></th>\n",
              "    </tr>\n",
              "  </thead>\n",
              "  <tbody>\n",
              "    <tr>\n",
              "      <th>S01</th>\n",
              "      <td>Alice</td>\n",
              "      <td>96.874050</td>\n",
              "      <td>15.367999</td>\n",
              "      <td>58.682033</td>\n",
              "      <td>59.690510</td>\n",
              "      <td>61.373070</td>\n",
              "    </tr>\n",
              "    <tr>\n",
              "      <th>S05</th>\n",
              "      <td>Edward</td>\n",
              "      <td>63.250994</td>\n",
              "      <td>60.693247</td>\n",
              "      <td>7.020915</td>\n",
              "      <td>60.505272</td>\n",
              "      <td>34.041671</td>\n",
              "    </tr>\n",
              "  </tbody>\n",
              "</table>\n",
              "</div>"
            ],
            "text/plain": [
              "           Student_Name    English  ...    History  Social_Studies\n",
              "Student_ID                          ...                           \n",
              "S01               Alice  96.874050  ...  59.690510       61.373070\n",
              "S05              Edward  63.250994  ...  60.505272       34.041671\n",
              "\n",
              "[2 rows x 6 columns]"
            ]
          },
          "metadata": {
            "tags": []
          }
        }
      ]
    },
    {
      "cell_type": "code",
      "metadata": {
        "id": "lIYhaJd3FZFr",
        "colab": {
          "base_uri": "https://localhost:8080/",
          "height": 173
        },
        "outputId": "29c38596-728c-45c5-bcf1-3ed5ab0df06b"
      },
      "source": [
        "# TO DO: Print the details from 0th, 5th and 8th rows, along with the details of indices 4th, 11th and 16th.\n",
        "\n",
        "display(marks.iloc[[0, 4, 7]])"
      ],
      "execution_count": null,
      "outputs": [
        {
          "output_type": "display_data",
          "data": {
            "text/html": [
              "<div>\n",
              "<style scoped>\n",
              "    .dataframe tbody tr th:only-of-type {\n",
              "        vertical-align: middle;\n",
              "    }\n",
              "\n",
              "    .dataframe tbody tr th {\n",
              "        vertical-align: top;\n",
              "    }\n",
              "\n",
              "    .dataframe thead th {\n",
              "        text-align: right;\n",
              "    }\n",
              "</style>\n",
              "<table border=\"1\" class=\"dataframe\">\n",
              "  <thead>\n",
              "    <tr style=\"text-align: right;\">\n",
              "      <th></th>\n",
              "      <th>Student_Name</th>\n",
              "      <th>English</th>\n",
              "      <th>Maths</th>\n",
              "      <th>Science</th>\n",
              "      <th>History</th>\n",
              "      <th>Social_Studies</th>\n",
              "    </tr>\n",
              "    <tr>\n",
              "      <th>Student_ID</th>\n",
              "      <th></th>\n",
              "      <th></th>\n",
              "      <th></th>\n",
              "      <th></th>\n",
              "      <th></th>\n",
              "      <th></th>\n",
              "    </tr>\n",
              "  </thead>\n",
              "  <tbody>\n",
              "    <tr>\n",
              "      <th>S01</th>\n",
              "      <td>Alice</td>\n",
              "      <td>96.874050</td>\n",
              "      <td>15.367999</td>\n",
              "      <td>58.682033</td>\n",
              "      <td>59.690510</td>\n",
              "      <td>61.373070</td>\n",
              "    </tr>\n",
              "    <tr>\n",
              "      <th>S05</th>\n",
              "      <td>Edward</td>\n",
              "      <td>63.250994</td>\n",
              "      <td>60.693247</td>\n",
              "      <td>7.020915</td>\n",
              "      <td>60.505272</td>\n",
              "      <td>34.041671</td>\n",
              "    </tr>\n",
              "    <tr>\n",
              "      <th>S08</th>\n",
              "      <td>Hareez</td>\n",
              "      <td>5.302984</td>\n",
              "      <td>11.966929</td>\n",
              "      <td>43.980951</td>\n",
              "      <td>54.410098</td>\n",
              "      <td>74.530018</td>\n",
              "    </tr>\n",
              "  </tbody>\n",
              "</table>\n",
              "</div>"
            ],
            "text/plain": [
              "           Student_Name    English  ...    History  Social_Studies\n",
              "Student_ID                          ...                           \n",
              "S01               Alice  96.874050  ...  59.690510       61.373070\n",
              "S05              Edward  63.250994  ...  60.505272       34.041671\n",
              "S08              Hareez   5.302984  ...  54.410098       74.530018\n",
              "\n",
              "[3 rows x 6 columns]"
            ]
          },
          "metadata": {
            "tags": []
          }
        }
      ]
    },
    {
      "cell_type": "code",
      "metadata": {
        "id": "QDNJQAwXF_nr",
        "colab": {
          "base_uri": "https://localhost:8080/",
          "height": 235
        },
        "outputId": "72fd4c19-b514-4bde-ea9a-6efeee16fc8e"
      },
      "source": [
        "# .loc can be used to fetch details from a range of index values in a sequence.\n",
        "\n",
        "display(marks.loc['S01':'S05'])   # Continuous series of the indices based on label."
      ],
      "execution_count": null,
      "outputs": [
        {
          "output_type": "display_data",
          "data": {
            "text/html": [
              "<div>\n",
              "<style scoped>\n",
              "    .dataframe tbody tr th:only-of-type {\n",
              "        vertical-align: middle;\n",
              "    }\n",
              "\n",
              "    .dataframe tbody tr th {\n",
              "        vertical-align: top;\n",
              "    }\n",
              "\n",
              "    .dataframe thead th {\n",
              "        text-align: right;\n",
              "    }\n",
              "</style>\n",
              "<table border=\"1\" class=\"dataframe\">\n",
              "  <thead>\n",
              "    <tr style=\"text-align: right;\">\n",
              "      <th></th>\n",
              "      <th>Student_Name</th>\n",
              "      <th>English</th>\n",
              "      <th>Maths</th>\n",
              "      <th>Science</th>\n",
              "      <th>History</th>\n",
              "      <th>Social_Studies</th>\n",
              "    </tr>\n",
              "    <tr>\n",
              "      <th>Student_ID</th>\n",
              "      <th></th>\n",
              "      <th></th>\n",
              "      <th></th>\n",
              "      <th></th>\n",
              "      <th></th>\n",
              "      <th></th>\n",
              "    </tr>\n",
              "  </thead>\n",
              "  <tbody>\n",
              "    <tr>\n",
              "      <th>S01</th>\n",
              "      <td>Alice</td>\n",
              "      <td>96.874050</td>\n",
              "      <td>15.367999</td>\n",
              "      <td>58.682033</td>\n",
              "      <td>59.690510</td>\n",
              "      <td>61.373070</td>\n",
              "    </tr>\n",
              "    <tr>\n",
              "      <th>S02</th>\n",
              "      <td>Bob</td>\n",
              "      <td>5.462131</td>\n",
              "      <td>81.032680</td>\n",
              "      <td>83.171957</td>\n",
              "      <td>45.664012</td>\n",
              "      <td>80.805730</td>\n",
              "    </tr>\n",
              "    <tr>\n",
              "      <th>S03</th>\n",
              "      <td>Charlie</td>\n",
              "      <td>60.753099</td>\n",
              "      <td>65.219548</td>\n",
              "      <td>99.323628</td>\n",
              "      <td>24.281512</td>\n",
              "      <td>58.057612</td>\n",
              "    </tr>\n",
              "    <tr>\n",
              "      <th>S04</th>\n",
              "      <td>David</td>\n",
              "      <td>21.160844</td>\n",
              "      <td>95.052971</td>\n",
              "      <td>35.860852</td>\n",
              "      <td>62.865185</td>\n",
              "      <td>95.264572</td>\n",
              "    </tr>\n",
              "    <tr>\n",
              "      <th>S05</th>\n",
              "      <td>Edward</td>\n",
              "      <td>63.250994</td>\n",
              "      <td>60.693247</td>\n",
              "      <td>7.020915</td>\n",
              "      <td>60.505272</td>\n",
              "      <td>34.041671</td>\n",
              "    </tr>\n",
              "  </tbody>\n",
              "</table>\n",
              "</div>"
            ],
            "text/plain": [
              "           Student_Name    English  ...    History  Social_Studies\n",
              "Student_ID                          ...                           \n",
              "S01               Alice  96.874050  ...  59.690510       61.373070\n",
              "S02                 Bob   5.462131  ...  45.664012       80.805730\n",
              "S03             Charlie  60.753099  ...  24.281512       58.057612\n",
              "S04               David  21.160844  ...  62.865185       95.264572\n",
              "S05              Edward  63.250994  ...  60.505272       34.041671\n",
              "\n",
              "[5 rows x 6 columns]"
            ]
          },
          "metadata": {
            "tags": []
          }
        }
      ]
    },
    {
      "cell_type": "code",
      "metadata": {
        "id": "ha6Kjx4RGqXj",
        "colab": {
          "base_uri": "https://localhost:8080/",
          "height": 142
        },
        "outputId": "2bfe4e3d-0513-4081-f1f3-a6693c063ae3"
      },
      "source": [
        "# Run these line one by one and observe the output to notice the difference and execution of the syntax\n",
        "\n",
        "  #Before running first we will have to load marks dataset again since it is now having index cols as Student ID so below codes will not work we will have to reset it\n",
        "marks = pd.read_csv('/content/marks.csv')\n",
        "#marks\n",
        "\n",
        "\n",
        "# display(marks.iloc[2:5])\n",
        "# display(marks.iloc[[0:5]])\n",
        "# display(marks.iloc[[:5]])\n",
        "# display(marks.iloc[[15:20]])\n",
        "# display(marks.iloc[[15:]])\n",
        "# display(marks.iloc[[15:100]])\n",
        "# display(marks.iloc[[:]])\n",
        "\n"
      ],
      "execution_count": null,
      "outputs": [
        {
          "output_type": "display_data",
          "data": {
            "text/html": [
              "<div>\n",
              "<style scoped>\n",
              "    .dataframe tbody tr th:only-of-type {\n",
              "        vertical-align: middle;\n",
              "    }\n",
              "\n",
              "    .dataframe tbody tr th {\n",
              "        vertical-align: top;\n",
              "    }\n",
              "\n",
              "    .dataframe thead th {\n",
              "        text-align: right;\n",
              "    }\n",
              "</style>\n",
              "<table border=\"1\" class=\"dataframe\">\n",
              "  <thead>\n",
              "    <tr style=\"text-align: right;\">\n",
              "      <th></th>\n",
              "      <th>Student_ID</th>\n",
              "      <th>Student_Name</th>\n",
              "      <th>English</th>\n",
              "      <th>Maths</th>\n",
              "      <th>Science</th>\n",
              "      <th>History</th>\n",
              "      <th>Social_Studies</th>\n",
              "    </tr>\n",
              "  </thead>\n",
              "  <tbody>\n",
              "    <tr>\n",
              "      <th>2</th>\n",
              "      <td>S03</td>\n",
              "      <td>Charlie</td>\n",
              "      <td>60.753099</td>\n",
              "      <td>65.219548</td>\n",
              "      <td>99.323628</td>\n",
              "      <td>24.281512</td>\n",
              "      <td>58.057612</td>\n",
              "    </tr>\n",
              "    <tr>\n",
              "      <th>3</th>\n",
              "      <td>S04</td>\n",
              "      <td>David</td>\n",
              "      <td>21.160844</td>\n",
              "      <td>95.052971</td>\n",
              "      <td>35.860852</td>\n",
              "      <td>62.865185</td>\n",
              "      <td>95.264572</td>\n",
              "    </tr>\n",
              "    <tr>\n",
              "      <th>4</th>\n",
              "      <td>S05</td>\n",
              "      <td>Edward</td>\n",
              "      <td>63.250994</td>\n",
              "      <td>60.693247</td>\n",
              "      <td>7.020915</td>\n",
              "      <td>60.505272</td>\n",
              "      <td>34.041671</td>\n",
              "    </tr>\n",
              "  </tbody>\n",
              "</table>\n",
              "</div>"
            ],
            "text/plain": [
              "  Student_ID Student_Name    English  ...    Science    History  Social_Studies\n",
              "2        S03      Charlie  60.753099  ...  99.323628  24.281512       58.057612\n",
              "3        S04        David  21.160844  ...  35.860852  62.865185       95.264572\n",
              "4        S05       Edward  63.250994  ...   7.020915  60.505272       34.041671\n",
              "\n",
              "[3 rows x 7 columns]"
            ]
          },
          "metadata": {
            "tags": []
          }
        }
      ]
    },
    {
      "cell_type": "code",
      "metadata": {
        "id": "ZVKyQBVuHkw5"
      },
      "source": [
        "# TO DO: Copy paste the above codes and explain the output for each syntax as comments as per given example.\n",
        "# display(marks.iloc[2:5])  # Prints all values from all columns for indices 2, 3 and 4.\n",
        "# display(marks.iloc[0:5])  # Prints all values from all columns for indices 0, 1, 2, 3 and 4\n",
        "# display(marks.iloc[:5])   # Prints all values from all columns from indices 0 to 4\n",
        "# display(marks.iloc[15:20])  # Prints all values from all columns from indices 15 to 19\n",
        "# display(marks.iloc[15:])    # Prints all values from all columns from indices 15 to end(19)\n",
        "# display(marks.iloc[15:100])   # Prints all values from all columns from indices 15 to end(19)\n",
        "# display(marks.iloc[:])    # Prints all values from all columns from indices 0 to 19\n",
        "\n"
      ],
      "execution_count": null,
      "outputs": []
    },
    {
      "cell_type": "markdown",
      "metadata": {
        "id": "yVER-gaRGWK1"
      },
      "source": [
        "# Data cleaning : Empty value treatment iin dataframes"
      ]
    },
    {
      "cell_type": "code",
      "metadata": {
        "id": "RexuuzmrIQW9",
        "colab": {
          "base_uri": "https://localhost:8080/",
          "height": 204
        },
        "outputId": "498b4c27-b25b-4b48-ec37-6ff4841107b1"
      },
      "source": [
        "temps = pd.DataFrame({\"sequence\":[1,2,3,4,5],\n",
        "          \"measurement_type\":['actual','actual','actual',None,'estimated'],  # With strings, it will become 'None'\n",
        "          \"temperature_f\":[67.24,84.56,91.61,None,49.64]   #With numbers, it will become 'NaN'\n",
        "         })\n",
        "temps"
      ],
      "execution_count": null,
      "outputs": [
        {
          "output_type": "execute_result",
          "data": {
            "text/html": [
              "<div>\n",
              "<style scoped>\n",
              "    .dataframe tbody tr th:only-of-type {\n",
              "        vertical-align: middle;\n",
              "    }\n",
              "\n",
              "    .dataframe tbody tr th {\n",
              "        vertical-align: top;\n",
              "    }\n",
              "\n",
              "    .dataframe thead th {\n",
              "        text-align: right;\n",
              "    }\n",
              "</style>\n",
              "<table border=\"1\" class=\"dataframe\">\n",
              "  <thead>\n",
              "    <tr style=\"text-align: right;\">\n",
              "      <th></th>\n",
              "      <th>sequence</th>\n",
              "      <th>measurement_type</th>\n",
              "      <th>temperature_f</th>\n",
              "    </tr>\n",
              "  </thead>\n",
              "  <tbody>\n",
              "    <tr>\n",
              "      <th>0</th>\n",
              "      <td>1</td>\n",
              "      <td>actual</td>\n",
              "      <td>67.24</td>\n",
              "    </tr>\n",
              "    <tr>\n",
              "      <th>1</th>\n",
              "      <td>2</td>\n",
              "      <td>actual</td>\n",
              "      <td>84.56</td>\n",
              "    </tr>\n",
              "    <tr>\n",
              "      <th>2</th>\n",
              "      <td>3</td>\n",
              "      <td>actual</td>\n",
              "      <td>91.61</td>\n",
              "    </tr>\n",
              "    <tr>\n",
              "      <th>3</th>\n",
              "      <td>4</td>\n",
              "      <td>None</td>\n",
              "      <td>NaN</td>\n",
              "    </tr>\n",
              "    <tr>\n",
              "      <th>4</th>\n",
              "      <td>5</td>\n",
              "      <td>estimated</td>\n",
              "      <td>49.64</td>\n",
              "    </tr>\n",
              "  </tbody>\n",
              "</table>\n",
              "</div>"
            ],
            "text/plain": [
              "   sequence measurement_type  temperature_f\n",
              "0         1           actual          67.24\n",
              "1         2           actual          84.56\n",
              "2         3           actual          91.61\n",
              "3         4             None            NaN\n",
              "4         5        estimated          49.64"
            ]
          },
          "metadata": {
            "tags": []
          },
          "execution_count": 158
        }
      ]
    },
    {
      "cell_type": "markdown",
      "metadata": {
        "id": "wIyGKQ65IUig"
      },
      "source": [
        "NaN belongs to the class float\n",
        "\n",
        "None belongs to the class NoneType\n",
        "\n",
        "https://medium.com/analytics-vidhya/dealing-with-missing-values-nan-and-none-in-python-6fc9b8fb4f31"
      ]
    },
    {
      "cell_type": "code",
      "metadata": {
        "id": "WP5OMZu1ISBe",
        "colab": {
          "base_uri": "https://localhost:8080/",
          "height": 204
        },
        "outputId": "ffbd0319-0a0d-45d2-8ee4-a86dcaadcfc1"
      },
      "source": [
        "# To identify the null value. Return true if the value is null otherwise false\n",
        "temps.isna()            "
      ],
      "execution_count": null,
      "outputs": [
        {
          "output_type": "execute_result",
          "data": {
            "text/html": [
              "<div>\n",
              "<style scoped>\n",
              "    .dataframe tbody tr th:only-of-type {\n",
              "        vertical-align: middle;\n",
              "    }\n",
              "\n",
              "    .dataframe tbody tr th {\n",
              "        vertical-align: top;\n",
              "    }\n",
              "\n",
              "    .dataframe thead th {\n",
              "        text-align: right;\n",
              "    }\n",
              "</style>\n",
              "<table border=\"1\" class=\"dataframe\">\n",
              "  <thead>\n",
              "    <tr style=\"text-align: right;\">\n",
              "      <th></th>\n",
              "      <th>sequence</th>\n",
              "      <th>measurement_type</th>\n",
              "      <th>temperature_f</th>\n",
              "    </tr>\n",
              "  </thead>\n",
              "  <tbody>\n",
              "    <tr>\n",
              "      <th>0</th>\n",
              "      <td>False</td>\n",
              "      <td>False</td>\n",
              "      <td>False</td>\n",
              "    </tr>\n",
              "    <tr>\n",
              "      <th>1</th>\n",
              "      <td>False</td>\n",
              "      <td>False</td>\n",
              "      <td>False</td>\n",
              "    </tr>\n",
              "    <tr>\n",
              "      <th>2</th>\n",
              "      <td>False</td>\n",
              "      <td>False</td>\n",
              "      <td>False</td>\n",
              "    </tr>\n",
              "    <tr>\n",
              "      <th>3</th>\n",
              "      <td>False</td>\n",
              "      <td>True</td>\n",
              "      <td>True</td>\n",
              "    </tr>\n",
              "    <tr>\n",
              "      <th>4</th>\n",
              "      <td>False</td>\n",
              "      <td>False</td>\n",
              "      <td>False</td>\n",
              "    </tr>\n",
              "  </tbody>\n",
              "</table>\n",
              "</div>"
            ],
            "text/plain": [
              "   sequence  measurement_type  temperature_f\n",
              "0     False             False          False\n",
              "1     False             False          False\n",
              "2     False             False          False\n",
              "3     False              True           True\n",
              "4     False             False          False"
            ]
          },
          "metadata": {
            "tags": []
          },
          "execution_count": 141
        }
      ]
    },
    {
      "cell_type": "code",
      "metadata": {
        "id": "YFjPnljoIbvJ",
        "colab": {
          "base_uri": "https://localhost:8080/"
        },
        "outputId": "a0bc485e-6281-4cae-c9cd-7450e84b0049"
      },
      "source": [
        "# Return the count of missing value from each column     \n",
        "temps.isna().sum()      "
      ],
      "execution_count": null,
      "outputs": [
        {
          "output_type": "execute_result",
          "data": {
            "text/plain": [
              "sequence            0\n",
              "measurement_type    1\n",
              "temperature_f       1\n",
              "dtype: int64"
            ]
          },
          "metadata": {
            "tags": []
          },
          "execution_count": 142
        }
      ]
    },
    {
      "cell_type": "code",
      "metadata": {
        "id": "UYa7m-5nIjFv",
        "colab": {
          "base_uri": "https://localhost:8080/"
        },
        "outputId": "b41515de-e507-41c0-824a-45b0d6b527fd"
      },
      "source": [
        "# Total count of null from all columns\n",
        "temps.isna().sum().sum() "
      ],
      "execution_count": null,
      "outputs": [
        {
          "output_type": "execute_result",
          "data": {
            "text/plain": [
              "2"
            ]
          },
          "metadata": {
            "tags": []
          },
          "execution_count": 143
        }
      ]
    },
    {
      "cell_type": "code",
      "metadata": {
        "id": "Pmu26BuCIoi2",
        "colab": {
          "base_uri": "https://localhost:8080/",
          "height": 173
        },
        "outputId": "e6f97f14-fb56-459e-d9af-c8af159047e7"
      },
      "source": [
        "# Drop/delete the row containing missing values\n",
        "\n",
        "clean_temps = temps.dropna(how='any')  # how: {'any', 'all'}. Default 'any'\n",
        "display (clean_temps)\n",
        "\n",
        "# ‘any’ : If any NA values are present, drop that row or column.\n",
        "# ‘all’ : If all values are NA, drop that row or column.\n",
        "\n",
        "\n",
        "# Observe, in the output, index 3 is not there."
      ],
      "execution_count": null,
      "outputs": [
        {
          "output_type": "display_data",
          "data": {
            "text/html": [
              "<div>\n",
              "<style scoped>\n",
              "    .dataframe tbody tr th:only-of-type {\n",
              "        vertical-align: middle;\n",
              "    }\n",
              "\n",
              "    .dataframe tbody tr th {\n",
              "        vertical-align: top;\n",
              "    }\n",
              "\n",
              "    .dataframe thead th {\n",
              "        text-align: right;\n",
              "    }\n",
              "</style>\n",
              "<table border=\"1\" class=\"dataframe\">\n",
              "  <thead>\n",
              "    <tr style=\"text-align: right;\">\n",
              "      <th></th>\n",
              "      <th>sequence</th>\n",
              "      <th>measurement_type</th>\n",
              "      <th>temperature_f</th>\n",
              "    </tr>\n",
              "  </thead>\n",
              "  <tbody>\n",
              "    <tr>\n",
              "      <th>0</th>\n",
              "      <td>1</td>\n",
              "      <td>actual</td>\n",
              "      <td>67.24</td>\n",
              "    </tr>\n",
              "    <tr>\n",
              "      <th>1</th>\n",
              "      <td>2</td>\n",
              "      <td>actual</td>\n",
              "      <td>84.56</td>\n",
              "    </tr>\n",
              "    <tr>\n",
              "      <th>2</th>\n",
              "      <td>3</td>\n",
              "      <td>actual</td>\n",
              "      <td>91.61</td>\n",
              "    </tr>\n",
              "    <tr>\n",
              "      <th>4</th>\n",
              "      <td>5</td>\n",
              "      <td>estimated</td>\n",
              "      <td>49.64</td>\n",
              "    </tr>\n",
              "  </tbody>\n",
              "</table>\n",
              "</div>"
            ],
            "text/plain": [
              "   sequence measurement_type  temperature_f\n",
              "0         1           actual          67.24\n",
              "1         2           actual          84.56\n",
              "2         3           actual          91.61\n",
              "4         5        estimated          49.64"
            ]
          },
          "metadata": {
            "tags": []
          }
        }
      ]
    },
    {
      "cell_type": "code",
      "metadata": {
        "id": "yxUU2wULI4Zi",
        "colab": {
          "base_uri": "https://localhost:8080/",
          "height": 204
        },
        "outputId": "5ea7410d-8936-4b5a-ae89-3b09d29eeb53"
      },
      "source": [
        "# TO DO:  Copy paste the codes from the above cell, change the 'how' argument as 'all' and observe the difference in output.\n",
        "clean_temps = temps.dropna(how='all')  # how: {'any', 'all'}. Default 'any'\n",
        "display (clean_temps)\n"
      ],
      "execution_count": null,
      "outputs": [
        {
          "output_type": "display_data",
          "data": {
            "text/html": [
              "<div>\n",
              "<style scoped>\n",
              "    .dataframe tbody tr th:only-of-type {\n",
              "        vertical-align: middle;\n",
              "    }\n",
              "\n",
              "    .dataframe tbody tr th {\n",
              "        vertical-align: top;\n",
              "    }\n",
              "\n",
              "    .dataframe thead th {\n",
              "        text-align: right;\n",
              "    }\n",
              "</style>\n",
              "<table border=\"1\" class=\"dataframe\">\n",
              "  <thead>\n",
              "    <tr style=\"text-align: right;\">\n",
              "      <th></th>\n",
              "      <th>sequence</th>\n",
              "      <th>measurement_type</th>\n",
              "      <th>temperature_f</th>\n",
              "    </tr>\n",
              "  </thead>\n",
              "  <tbody>\n",
              "    <tr>\n",
              "      <th>0</th>\n",
              "      <td>1</td>\n",
              "      <td>actual</td>\n",
              "      <td>67.24</td>\n",
              "    </tr>\n",
              "    <tr>\n",
              "      <th>1</th>\n",
              "      <td>2</td>\n",
              "      <td>actual</td>\n",
              "      <td>84.56</td>\n",
              "    </tr>\n",
              "    <tr>\n",
              "      <th>2</th>\n",
              "      <td>3</td>\n",
              "      <td>actual</td>\n",
              "      <td>91.61</td>\n",
              "    </tr>\n",
              "    <tr>\n",
              "      <th>3</th>\n",
              "      <td>4</td>\n",
              "      <td>None</td>\n",
              "      <td>NaN</td>\n",
              "    </tr>\n",
              "    <tr>\n",
              "      <th>4</th>\n",
              "      <td>5</td>\n",
              "      <td>estimated</td>\n",
              "      <td>49.64</td>\n",
              "    </tr>\n",
              "  </tbody>\n",
              "</table>\n",
              "</div>"
            ],
            "text/plain": [
              "   sequence measurement_type  temperature_f\n",
              "0         1           actual          67.24\n",
              "1         2           actual          84.56\n",
              "2         3           actual          91.61\n",
              "3         4             None            NaN\n",
              "4         5        estimated          49.64"
            ]
          },
          "metadata": {
            "tags": []
          }
        }
      ]
    },
    {
      "cell_type": "code",
      "metadata": {
        "id": "PmjaoUwoJDbG",
        "colab": {
          "base_uri": "https://localhost:8080/",
          "height": 173
        },
        "outputId": "8e19fe48-6137-490b-f2c0-f574f15aee3e"
      },
      "source": [
        "# Drop the ROWS where at least one element is missing.\n",
        "temps.dropna()"
      ],
      "execution_count": null,
      "outputs": [
        {
          "output_type": "execute_result",
          "data": {
            "text/html": [
              "<div>\n",
              "<style scoped>\n",
              "    .dataframe tbody tr th:only-of-type {\n",
              "        vertical-align: middle;\n",
              "    }\n",
              "\n",
              "    .dataframe tbody tr th {\n",
              "        vertical-align: top;\n",
              "    }\n",
              "\n",
              "    .dataframe thead th {\n",
              "        text-align: right;\n",
              "    }\n",
              "</style>\n",
              "<table border=\"1\" class=\"dataframe\">\n",
              "  <thead>\n",
              "    <tr style=\"text-align: right;\">\n",
              "      <th></th>\n",
              "      <th>sequence</th>\n",
              "      <th>measurement_type</th>\n",
              "      <th>temperature_f</th>\n",
              "    </tr>\n",
              "  </thead>\n",
              "  <tbody>\n",
              "    <tr>\n",
              "      <th>0</th>\n",
              "      <td>1</td>\n",
              "      <td>actual</td>\n",
              "      <td>67.24</td>\n",
              "    </tr>\n",
              "    <tr>\n",
              "      <th>1</th>\n",
              "      <td>2</td>\n",
              "      <td>actual</td>\n",
              "      <td>84.56</td>\n",
              "    </tr>\n",
              "    <tr>\n",
              "      <th>2</th>\n",
              "      <td>3</td>\n",
              "      <td>actual</td>\n",
              "      <td>91.61</td>\n",
              "    </tr>\n",
              "    <tr>\n",
              "      <th>4</th>\n",
              "      <td>5</td>\n",
              "      <td>estimated</td>\n",
              "      <td>49.64</td>\n",
              "    </tr>\n",
              "  </tbody>\n",
              "</table>\n",
              "</div>"
            ],
            "text/plain": [
              "   sequence measurement_type  temperature_f\n",
              "0         1           actual          67.24\n",
              "1         2           actual          84.56\n",
              "2         3           actual          91.61\n",
              "4         5        estimated          49.64"
            ]
          },
          "metadata": {
            "tags": []
          },
          "execution_count": 146
        }
      ]
    },
    {
      "cell_type": "code",
      "metadata": {
        "id": "Tvfk9j4JJGV_",
        "colab": {
          "base_uri": "https://localhost:8080/",
          "height": 204
        },
        "outputId": "2db102ea-4df5-419e-e2e6-680a93d0cd97"
      },
      "source": [
        "# Drop COLUMNS where there are missing values.\n",
        "\n",
        "# Drop the columns where at least one element is missing.\n",
        "temps.dropna(axis = 'columns') # Without the 'axis' argument, rows will be dropped by default as you did in the previous code."
      ],
      "execution_count": null,
      "outputs": [
        {
          "output_type": "execute_result",
          "data": {
            "text/html": [
              "<div>\n",
              "<style scoped>\n",
              "    .dataframe tbody tr th:only-of-type {\n",
              "        vertical-align: middle;\n",
              "    }\n",
              "\n",
              "    .dataframe tbody tr th {\n",
              "        vertical-align: top;\n",
              "    }\n",
              "\n",
              "    .dataframe thead th {\n",
              "        text-align: right;\n",
              "    }\n",
              "</style>\n",
              "<table border=\"1\" class=\"dataframe\">\n",
              "  <thead>\n",
              "    <tr style=\"text-align: right;\">\n",
              "      <th></th>\n",
              "      <th>sequence</th>\n",
              "    </tr>\n",
              "  </thead>\n",
              "  <tbody>\n",
              "    <tr>\n",
              "      <th>0</th>\n",
              "      <td>1</td>\n",
              "    </tr>\n",
              "    <tr>\n",
              "      <th>1</th>\n",
              "      <td>2</td>\n",
              "    </tr>\n",
              "    <tr>\n",
              "      <th>2</th>\n",
              "      <td>3</td>\n",
              "    </tr>\n",
              "    <tr>\n",
              "      <th>3</th>\n",
              "      <td>4</td>\n",
              "    </tr>\n",
              "    <tr>\n",
              "      <th>4</th>\n",
              "      <td>5</td>\n",
              "    </tr>\n",
              "  </tbody>\n",
              "</table>\n",
              "</div>"
            ],
            "text/plain": [
              "   sequence\n",
              "0         1\n",
              "1         2\n",
              "2         3\n",
              "3         4\n",
              "4         5"
            ]
          },
          "metadata": {
            "tags": []
          },
          "execution_count": 147
        }
      ]
    },
    {
      "cell_type": "markdown",
      "metadata": {
        "id": "uUx-BpKRKv3t"
      },
      "source": [
        "##### Handling missing data by replacing values\n",
        "\n",
        "Not every time we should delete the missing values, especially when the dataset is smaller or when missing values are very significant. In such as case, additional data-preparation is performed.\n",
        "\n",
        "Depending on the dataset, it's structure and the research questions, we should decide which data preparation technique should be applied on what column or missing values."
      ]
    },
    {
      "cell_type": "code",
      "metadata": {
        "id": "saEFHfo0LDjD",
        "colab": {
          "base_uri": "https://localhost:8080/"
        },
        "outputId": "9eb4c61b-97f7-49a9-e878-409821f5072d"
      },
      "source": [
        "temps['temperature_f'].cumsum()   # Returns the commulative sum. \n",
        "\n",
        "# It will skip null values. skipna = TRUE by default\n",
        "\n",
        "# CAN YOU THINK OF ANY PRACTICAL USE OF cumsum() ? \n",
        "\n",
        "# It helps us to observe and hence find out the number of data observations that lie below a particular range of data sets.\n",
        "# It also helps us to observe and understand how the values within a particular data set change. It also keeps us updated with the total frequency of everything."
      ],
      "execution_count": null,
      "outputs": [
        {
          "output_type": "execute_result",
          "data": {
            "text/plain": [
              "0     67.24\n",
              "1    151.80\n",
              "2    243.41\n",
              "3       NaN\n",
              "4    293.05\n",
              "Name: temperature_f, dtype: float64"
            ]
          },
          "metadata": {
            "tags": []
          },
          "execution_count": 159
        }
      ]
    },
    {
      "cell_type": "code",
      "metadata": {
        "id": "Zw7G14EELOPb",
        "colab": {
          "base_uri": "https://localhost:8080/"
        },
        "outputId": "a947f615-f54c-4d7c-b12f-4d4f7e7a537c"
      },
      "source": [
        "temps['temperature_f'].cumsum(skipna=False)  "
      ],
      "execution_count": null,
      "outputs": [
        {
          "output_type": "execute_result",
          "data": {
            "text/plain": [
              "0     67.24\n",
              "1    151.80\n",
              "2    243.41\n",
              "3       NaN\n",
              "4       NaN\n",
              "Name: temperature_f, dtype: float64"
            ]
          },
          "metadata": {
            "tags": []
          },
          "execution_count": 160
        }
      ]
    },
    {
      "cell_type": "code",
      "metadata": {
        "id": "TwboRVWaLmXW",
        "colab": {
          "base_uri": "https://localhost:8080/",
          "height": 204
        },
        "outputId": "d8bdc1b6-5bb7-4b04-882b-de080da5a129"
      },
      "source": [
        "# fill missing value with zero\n",
        "temps.fillna(value=0, inplace = True)   # Do you remember the use of inplace? If not, please scroll up and check.\n",
        "display(temps) # Yes, it replaces/ makes changes to the original dataframe"
      ],
      "execution_count": null,
      "outputs": [
        {
          "output_type": "display_data",
          "data": {
            "text/html": [
              "<div>\n",
              "<style scoped>\n",
              "    .dataframe tbody tr th:only-of-type {\n",
              "        vertical-align: middle;\n",
              "    }\n",
              "\n",
              "    .dataframe tbody tr th {\n",
              "        vertical-align: top;\n",
              "    }\n",
              "\n",
              "    .dataframe thead th {\n",
              "        text-align: right;\n",
              "    }\n",
              "</style>\n",
              "<table border=\"1\" class=\"dataframe\">\n",
              "  <thead>\n",
              "    <tr style=\"text-align: right;\">\n",
              "      <th></th>\n",
              "      <th>sequence</th>\n",
              "      <th>measurement_type</th>\n",
              "      <th>temperature_f</th>\n",
              "    </tr>\n",
              "  </thead>\n",
              "  <tbody>\n",
              "    <tr>\n",
              "      <th>0</th>\n",
              "      <td>1</td>\n",
              "      <td>actual</td>\n",
              "      <td>67.24</td>\n",
              "    </tr>\n",
              "    <tr>\n",
              "      <th>1</th>\n",
              "      <td>2</td>\n",
              "      <td>actual</td>\n",
              "      <td>84.56</td>\n",
              "    </tr>\n",
              "    <tr>\n",
              "      <th>2</th>\n",
              "      <td>3</td>\n",
              "      <td>actual</td>\n",
              "      <td>91.61</td>\n",
              "    </tr>\n",
              "    <tr>\n",
              "      <th>3</th>\n",
              "      <td>4</td>\n",
              "      <td>0</td>\n",
              "      <td>0.00</td>\n",
              "    </tr>\n",
              "    <tr>\n",
              "      <th>4</th>\n",
              "      <td>5</td>\n",
              "      <td>estimated</td>\n",
              "      <td>49.64</td>\n",
              "    </tr>\n",
              "  </tbody>\n",
              "</table>\n",
              "</div>"
            ],
            "text/plain": [
              "   sequence measurement_type  temperature_f\n",
              "0         1           actual          67.24\n",
              "1         2           actual          84.56\n",
              "2         3           actual          91.61\n",
              "3         4                0           0.00\n",
              "4         5        estimated          49.64"
            ]
          },
          "metadata": {
            "tags": []
          }
        }
      ]
    },
    {
      "cell_type": "code",
      "metadata": {
        "id": "jIaa-IyZOdIr",
        "colab": {
          "base_uri": "https://localhost:8080/",
          "height": 204
        },
        "outputId": "323ef988-e985-447b-a268-7174d4cd92cf"
      },
      "source": [
        "# Print the dataframe\n",
        "\n",
        "temps\n",
        "\n",
        "# Why 0 in last column is 0.00 while only 0 in measurement_type? Please explain as a comment in this cell.\n",
        "\n",
        "#Because values in temperature_f are float in nature whereas measurement_type is string"
      ],
      "execution_count": null,
      "outputs": [
        {
          "output_type": "execute_result",
          "data": {
            "text/html": [
              "<div>\n",
              "<style scoped>\n",
              "    .dataframe tbody tr th:only-of-type {\n",
              "        vertical-align: middle;\n",
              "    }\n",
              "\n",
              "    .dataframe tbody tr th {\n",
              "        vertical-align: top;\n",
              "    }\n",
              "\n",
              "    .dataframe thead th {\n",
              "        text-align: right;\n",
              "    }\n",
              "</style>\n",
              "<table border=\"1\" class=\"dataframe\">\n",
              "  <thead>\n",
              "    <tr style=\"text-align: right;\">\n",
              "      <th></th>\n",
              "      <th>sequence</th>\n",
              "      <th>measurement_type</th>\n",
              "      <th>temperature_f</th>\n",
              "    </tr>\n",
              "  </thead>\n",
              "  <tbody>\n",
              "    <tr>\n",
              "      <th>0</th>\n",
              "      <td>1</td>\n",
              "      <td>actual</td>\n",
              "      <td>67.24</td>\n",
              "    </tr>\n",
              "    <tr>\n",
              "      <th>1</th>\n",
              "      <td>2</td>\n",
              "      <td>actual</td>\n",
              "      <td>84.56</td>\n",
              "    </tr>\n",
              "    <tr>\n",
              "      <th>2</th>\n",
              "      <td>3</td>\n",
              "      <td>actual</td>\n",
              "      <td>91.61</td>\n",
              "    </tr>\n",
              "    <tr>\n",
              "      <th>3</th>\n",
              "      <td>4</td>\n",
              "      <td>0</td>\n",
              "      <td>0.00</td>\n",
              "    </tr>\n",
              "    <tr>\n",
              "      <th>4</th>\n",
              "      <td>5</td>\n",
              "      <td>estimated</td>\n",
              "      <td>49.64</td>\n",
              "    </tr>\n",
              "  </tbody>\n",
              "</table>\n",
              "</div>"
            ],
            "text/plain": [
              "   sequence measurement_type  temperature_f\n",
              "0         1           actual          67.24\n",
              "1         2           actual          84.56\n",
              "2         3           actual          91.61\n",
              "3         4                0           0.00\n",
              "4         5        estimated          49.64"
            ]
          },
          "metadata": {
            "tags": []
          },
          "execution_count": 171
        }
      ]
    },
    {
      "cell_type": "code",
      "metadata": {
        "id": "p3S2t9zRSOch",
        "colab": {
          "base_uri": "https://localhost:8080/",
          "height": 204
        },
        "outputId": "6beef709-05d5-4ff1-8072-697daf065c1c"
      },
      "source": [
        "# fill missing value with previous value\n",
        "temps = pd.DataFrame({\"sequence\":[1,2,3,4,5],\n",
        "          \"measurement_type\":['actual','actual','actual',None,'estimated'],\n",
        "          \"temperature_f\":[67.24,84.56,91.61,None,49.64]\n",
        "         })\n",
        "temps.fillna(method='pad' , inplace=True)  # 'pad' means padding. Take value from previous row\n",
        "temps"
      ],
      "execution_count": null,
      "outputs": [
        {
          "output_type": "execute_result",
          "data": {
            "text/html": [
              "<div>\n",
              "<style scoped>\n",
              "    .dataframe tbody tr th:only-of-type {\n",
              "        vertical-align: middle;\n",
              "    }\n",
              "\n",
              "    .dataframe tbody tr th {\n",
              "        vertical-align: top;\n",
              "    }\n",
              "\n",
              "    .dataframe thead th {\n",
              "        text-align: right;\n",
              "    }\n",
              "</style>\n",
              "<table border=\"1\" class=\"dataframe\">\n",
              "  <thead>\n",
              "    <tr style=\"text-align: right;\">\n",
              "      <th></th>\n",
              "      <th>sequence</th>\n",
              "      <th>measurement_type</th>\n",
              "      <th>temperature_f</th>\n",
              "    </tr>\n",
              "  </thead>\n",
              "  <tbody>\n",
              "    <tr>\n",
              "      <th>0</th>\n",
              "      <td>1</td>\n",
              "      <td>actual</td>\n",
              "      <td>67.24</td>\n",
              "    </tr>\n",
              "    <tr>\n",
              "      <th>1</th>\n",
              "      <td>2</td>\n",
              "      <td>actual</td>\n",
              "      <td>84.56</td>\n",
              "    </tr>\n",
              "    <tr>\n",
              "      <th>2</th>\n",
              "      <td>3</td>\n",
              "      <td>actual</td>\n",
              "      <td>91.61</td>\n",
              "    </tr>\n",
              "    <tr>\n",
              "      <th>3</th>\n",
              "      <td>4</td>\n",
              "      <td>actual</td>\n",
              "      <td>91.61</td>\n",
              "    </tr>\n",
              "    <tr>\n",
              "      <th>4</th>\n",
              "      <td>5</td>\n",
              "      <td>estimated</td>\n",
              "      <td>49.64</td>\n",
              "    </tr>\n",
              "  </tbody>\n",
              "</table>\n",
              "</div>"
            ],
            "text/plain": [
              "   sequence measurement_type  temperature_f\n",
              "0         1           actual          67.24\n",
              "1         2           actual          84.56\n",
              "2         3           actual          91.61\n",
              "3         4           actual          91.61\n",
              "4         5        estimated          49.64"
            ]
          },
          "metadata": {
            "tags": []
          },
          "execution_count": 172
        }
      ]
    },
    {
      "cell_type": "code",
      "metadata": {
        "id": "LoyHXjvsSbzm",
        "colab": {
          "base_uri": "https://localhost:8080/",
          "height": 204
        },
        "outputId": "fd6a98d5-e71c-4876-ac15-3c93bcbe821d"
      },
      "source": [
        "# fill missing value with next value\n",
        "temps1 = pd.DataFrame({\"sequence\":[1,2,3,4,5],\n",
        "          \"measurement_type\":['actual','actual','actual',None,'estimated'],\n",
        "          \"temperature_f\":[67.24,84.56,91.61,None,49.64]\n",
        "         })\n",
        "temps1.fillna(method='bfill' , inplace=True)  # bfill takes next value to replace\n",
        "temps1"
      ],
      "execution_count": null,
      "outputs": [
        {
          "output_type": "execute_result",
          "data": {
            "text/html": [
              "<div>\n",
              "<style scoped>\n",
              "    .dataframe tbody tr th:only-of-type {\n",
              "        vertical-align: middle;\n",
              "    }\n",
              "\n",
              "    .dataframe tbody tr th {\n",
              "        vertical-align: top;\n",
              "    }\n",
              "\n",
              "    .dataframe thead th {\n",
              "        text-align: right;\n",
              "    }\n",
              "</style>\n",
              "<table border=\"1\" class=\"dataframe\">\n",
              "  <thead>\n",
              "    <tr style=\"text-align: right;\">\n",
              "      <th></th>\n",
              "      <th>sequence</th>\n",
              "      <th>measurement_type</th>\n",
              "      <th>temperature_f</th>\n",
              "    </tr>\n",
              "  </thead>\n",
              "  <tbody>\n",
              "    <tr>\n",
              "      <th>0</th>\n",
              "      <td>1</td>\n",
              "      <td>actual</td>\n",
              "      <td>67.24</td>\n",
              "    </tr>\n",
              "    <tr>\n",
              "      <th>1</th>\n",
              "      <td>2</td>\n",
              "      <td>actual</td>\n",
              "      <td>84.56</td>\n",
              "    </tr>\n",
              "    <tr>\n",
              "      <th>2</th>\n",
              "      <td>3</td>\n",
              "      <td>actual</td>\n",
              "      <td>91.61</td>\n",
              "    </tr>\n",
              "    <tr>\n",
              "      <th>3</th>\n",
              "      <td>4</td>\n",
              "      <td>estimated</td>\n",
              "      <td>49.64</td>\n",
              "    </tr>\n",
              "    <tr>\n",
              "      <th>4</th>\n",
              "      <td>5</td>\n",
              "      <td>estimated</td>\n",
              "      <td>49.64</td>\n",
              "    </tr>\n",
              "  </tbody>\n",
              "</table>\n",
              "</div>"
            ],
            "text/plain": [
              "   sequence measurement_type  temperature_f\n",
              "0         1           actual          67.24\n",
              "1         2           actual          84.56\n",
              "2         3           actual          91.61\n",
              "3         4        estimated          49.64\n",
              "4         5        estimated          49.64"
            ]
          },
          "metadata": {
            "tags": []
          },
          "execution_count": 173
        }
      ]
    },
    {
      "cell_type": "code",
      "metadata": {
        "id": "SykNFp0hSlmv",
        "colab": {
          "base_uri": "https://localhost:8080/",
          "height": 204
        },
        "outputId": "e9dd7b22-b18c-49bb-c0b9-346a7e62e2d2"
      },
      "source": [
        "# fill missing value with mean\n",
        "temps = pd.DataFrame({\"sequence\":[1,2,3,4,5],\n",
        "          \"measurement_type\":['actual','actual','actual',None,'estimated'],\n",
        "          \"temperature_f\":[67.24,84.56,91.61,None,49.64]\n",
        "         })\n",
        "temps['temperature_f'].fillna(temps['temperature_f'].mean(), inplace=True)  # Mean will not work on strings\n",
        "temps"
      ],
      "execution_count": null,
      "outputs": [
        {
          "output_type": "execute_result",
          "data": {
            "text/html": [
              "<div>\n",
              "<style scoped>\n",
              "    .dataframe tbody tr th:only-of-type {\n",
              "        vertical-align: middle;\n",
              "    }\n",
              "\n",
              "    .dataframe tbody tr th {\n",
              "        vertical-align: top;\n",
              "    }\n",
              "\n",
              "    .dataframe thead th {\n",
              "        text-align: right;\n",
              "    }\n",
              "</style>\n",
              "<table border=\"1\" class=\"dataframe\">\n",
              "  <thead>\n",
              "    <tr style=\"text-align: right;\">\n",
              "      <th></th>\n",
              "      <th>sequence</th>\n",
              "      <th>measurement_type</th>\n",
              "      <th>temperature_f</th>\n",
              "    </tr>\n",
              "  </thead>\n",
              "  <tbody>\n",
              "    <tr>\n",
              "      <th>0</th>\n",
              "      <td>1</td>\n",
              "      <td>actual</td>\n",
              "      <td>67.2400</td>\n",
              "    </tr>\n",
              "    <tr>\n",
              "      <th>1</th>\n",
              "      <td>2</td>\n",
              "      <td>actual</td>\n",
              "      <td>84.5600</td>\n",
              "    </tr>\n",
              "    <tr>\n",
              "      <th>2</th>\n",
              "      <td>3</td>\n",
              "      <td>actual</td>\n",
              "      <td>91.6100</td>\n",
              "    </tr>\n",
              "    <tr>\n",
              "      <th>3</th>\n",
              "      <td>4</td>\n",
              "      <td>None</td>\n",
              "      <td>73.2625</td>\n",
              "    </tr>\n",
              "    <tr>\n",
              "      <th>4</th>\n",
              "      <td>5</td>\n",
              "      <td>estimated</td>\n",
              "      <td>49.6400</td>\n",
              "    </tr>\n",
              "  </tbody>\n",
              "</table>\n",
              "</div>"
            ],
            "text/plain": [
              "   sequence measurement_type  temperature_f\n",
              "0         1           actual        67.2400\n",
              "1         2           actual        84.5600\n",
              "2         3           actual        91.6100\n",
              "3         4             None        73.2625\n",
              "4         5        estimated        49.6400"
            ]
          },
          "metadata": {
            "tags": []
          },
          "execution_count": 176
        }
      ]
    },
    {
      "cell_type": "markdown",
      "metadata": {
        "id": "LVZ3qFKxTLUD"
      },
      "source": [
        "# Lambda Function\n"
      ]
    },
    {
      "cell_type": "code",
      "metadata": {
        "id": "1r_AKmcTTQd0",
        "colab": {
          "base_uri": "https://localhost:8080/"
        },
        "outputId": "2317d3c1-be48-4360-da87-2e38d23611a3"
      },
      "source": [
        "# lambda is used to define a temporary expression without any return statement. It always contains an expression\n",
        "# that is returned. There is no need to assign a variable with lambda.\n",
        "\n",
        "\n",
        "def cube(y):\n",
        "    return y*y*y  # return is a keyword. Python stops when the code reaches to return statement. Print is a function.\n",
        "    \n",
        "\n",
        "# using the normally defined function\n",
        "    print(cube(5))\n",
        " \n",
        "# using the lambda function                 # Why this is red? How to resolve it?\n",
        "lambda_cube = lambda y: y*y*y\n",
        "print(lambda_cube(5))"
      ],
      "execution_count": null,
      "outputs": [
        {
          "output_type": "stream",
          "text": [
            "125\n"
          ],
          "name": "stdout"
        }
      ]
    },
    {
      "cell_type": "code",
      "metadata": {
        "id": "A6CDJOepT_iG",
        "colab": {
          "base_uri": "https://localhost:8080/",
          "height": 173
        },
        "outputId": "08aa6271-5474-4432-d00c-b2ac2b734022"
      },
      "source": [
        "# Creating new dataframe to explore the use of Lambda and changing indices.\n",
        "\n",
        "teams = pd.DataFrame({\"Region\":['North','West','East','South'],\n",
        "          \"Team\":['One','Two','One','Two'],\n",
        "          \"Squad\":['A','B','C','D'],\n",
        "          \"Revenue\":[7500,5500,2750,6400],\n",
        "            \"Cost\":[5200,5100,4400,5300]})\n",
        "\n",
        "display (teams)"
      ],
      "execution_count": null,
      "outputs": [
        {
          "output_type": "display_data",
          "data": {
            "text/html": [
              "<div>\n",
              "<style scoped>\n",
              "    .dataframe tbody tr th:only-of-type {\n",
              "        vertical-align: middle;\n",
              "    }\n",
              "\n",
              "    .dataframe tbody tr th {\n",
              "        vertical-align: top;\n",
              "    }\n",
              "\n",
              "    .dataframe thead th {\n",
              "        text-align: right;\n",
              "    }\n",
              "</style>\n",
              "<table border=\"1\" class=\"dataframe\">\n",
              "  <thead>\n",
              "    <tr style=\"text-align: right;\">\n",
              "      <th></th>\n",
              "      <th>Region</th>\n",
              "      <th>Team</th>\n",
              "      <th>Squad</th>\n",
              "      <th>Revenue</th>\n",
              "      <th>Cost</th>\n",
              "    </tr>\n",
              "  </thead>\n",
              "  <tbody>\n",
              "    <tr>\n",
              "      <th>0</th>\n",
              "      <td>North</td>\n",
              "      <td>One</td>\n",
              "      <td>A</td>\n",
              "      <td>7500</td>\n",
              "      <td>5200</td>\n",
              "    </tr>\n",
              "    <tr>\n",
              "      <th>1</th>\n",
              "      <td>West</td>\n",
              "      <td>Two</td>\n",
              "      <td>B</td>\n",
              "      <td>5500</td>\n",
              "      <td>5100</td>\n",
              "    </tr>\n",
              "    <tr>\n",
              "      <th>2</th>\n",
              "      <td>East</td>\n",
              "      <td>One</td>\n",
              "      <td>C</td>\n",
              "      <td>2750</td>\n",
              "      <td>4400</td>\n",
              "    </tr>\n",
              "    <tr>\n",
              "      <th>3</th>\n",
              "      <td>South</td>\n",
              "      <td>Two</td>\n",
              "      <td>D</td>\n",
              "      <td>6400</td>\n",
              "      <td>5300</td>\n",
              "    </tr>\n",
              "  </tbody>\n",
              "</table>\n",
              "</div>"
            ],
            "text/plain": [
              "  Region Team Squad  Revenue  Cost\n",
              "0  North  One     A     7500  5200\n",
              "1   West  Two     B     5500  5100\n",
              "2   East  One     C     2750  4400\n",
              "3  South  Two     D     6400  5300"
            ]
          },
          "metadata": {
            "tags": []
          }
        }
      ]
    },
    {
      "cell_type": "code",
      "metadata": {
        "id": "X5qY-K_UUQW9",
        "colab": {
          "base_uri": "https://localhost:8080/",
          "height": 173
        },
        "outputId": "39c3b714-b4d1-4f9e-dba3-3e134f602f1f"
      },
      "source": [
        "# apply() to alter values along an axis in your dataframe or in a series/column \n",
        "\n",
        "# Categorise based on the revenue and cost\n",
        "teams['Profit'] = teams.apply(lambda x: 'Profit' if x['Revenue']>x['Cost'] else 'Loss',axis=1)\n",
        "teams\n"
      ],
      "execution_count": null,
      "outputs": [
        {
          "output_type": "execute_result",
          "data": {
            "text/html": [
              "<div>\n",
              "<style scoped>\n",
              "    .dataframe tbody tr th:only-of-type {\n",
              "        vertical-align: middle;\n",
              "    }\n",
              "\n",
              "    .dataframe tbody tr th {\n",
              "        vertical-align: top;\n",
              "    }\n",
              "\n",
              "    .dataframe thead th {\n",
              "        text-align: right;\n",
              "    }\n",
              "</style>\n",
              "<table border=\"1\" class=\"dataframe\">\n",
              "  <thead>\n",
              "    <tr style=\"text-align: right;\">\n",
              "      <th></th>\n",
              "      <th>Region</th>\n",
              "      <th>Team</th>\n",
              "      <th>Squad</th>\n",
              "      <th>Revenue</th>\n",
              "      <th>Cost</th>\n",
              "      <th>Profit</th>\n",
              "    </tr>\n",
              "  </thead>\n",
              "  <tbody>\n",
              "    <tr>\n",
              "      <th>0</th>\n",
              "      <td>North</td>\n",
              "      <td>One</td>\n",
              "      <td>A</td>\n",
              "      <td>7500</td>\n",
              "      <td>5200</td>\n",
              "      <td>Profit</td>\n",
              "    </tr>\n",
              "    <tr>\n",
              "      <th>1</th>\n",
              "      <td>West</td>\n",
              "      <td>Two</td>\n",
              "      <td>B</td>\n",
              "      <td>5500</td>\n",
              "      <td>5100</td>\n",
              "      <td>Profit</td>\n",
              "    </tr>\n",
              "    <tr>\n",
              "      <th>2</th>\n",
              "      <td>East</td>\n",
              "      <td>One</td>\n",
              "      <td>C</td>\n",
              "      <td>2750</td>\n",
              "      <td>4400</td>\n",
              "      <td>Loss</td>\n",
              "    </tr>\n",
              "    <tr>\n",
              "      <th>3</th>\n",
              "      <td>South</td>\n",
              "      <td>Two</td>\n",
              "      <td>D</td>\n",
              "      <td>6400</td>\n",
              "      <td>5300</td>\n",
              "      <td>Profit</td>\n",
              "    </tr>\n",
              "  </tbody>\n",
              "</table>\n",
              "</div>"
            ],
            "text/plain": [
              "  Region Team Squad  Revenue  Cost  Profit\n",
              "0  North  One     A     7500  5200  Profit\n",
              "1   West  Two     B     5500  5100  Profit\n",
              "2   East  One     C     2750  4400    Loss\n",
              "3  South  Two     D     6400  5300  Profit"
            ]
          },
          "metadata": {
            "tags": []
          },
          "execution_count": 181
        }
      ]
    },
    {
      "cell_type": "code",
      "metadata": {
        "id": "JZOM03MwUUmh",
        "colab": {
          "base_uri": "https://localhost:8080/",
          "height": 173
        },
        "outputId": "f732fc13-e6ea-4f9a-b1d7-afa58a9b4140"
      },
      "source": [
        "# Use map() to substitute each value in a series\n",
        "team_map = {\"One\":\"Red\",\"Two\":\"Blue\"}      # new variable - dictionary (key-value pair)\n",
        "teams['Team Color'] = teams['Team'].map(team_map) # A new column with mapped values\n",
        "teams"
      ],
      "execution_count": null,
      "outputs": [
        {
          "output_type": "execute_result",
          "data": {
            "text/html": [
              "<div>\n",
              "<style scoped>\n",
              "    .dataframe tbody tr th:only-of-type {\n",
              "        vertical-align: middle;\n",
              "    }\n",
              "\n",
              "    .dataframe tbody tr th {\n",
              "        vertical-align: top;\n",
              "    }\n",
              "\n",
              "    .dataframe thead th {\n",
              "        text-align: right;\n",
              "    }\n",
              "</style>\n",
              "<table border=\"1\" class=\"dataframe\">\n",
              "  <thead>\n",
              "    <tr style=\"text-align: right;\">\n",
              "      <th></th>\n",
              "      <th>Region</th>\n",
              "      <th>Team</th>\n",
              "      <th>Squad</th>\n",
              "      <th>Revenue</th>\n",
              "      <th>Cost</th>\n",
              "      <th>Profit</th>\n",
              "      <th>Team Color</th>\n",
              "    </tr>\n",
              "  </thead>\n",
              "  <tbody>\n",
              "    <tr>\n",
              "      <th>0</th>\n",
              "      <td>North</td>\n",
              "      <td>One</td>\n",
              "      <td>A</td>\n",
              "      <td>7500</td>\n",
              "      <td>5200</td>\n",
              "      <td>Profit</td>\n",
              "      <td>Red</td>\n",
              "    </tr>\n",
              "    <tr>\n",
              "      <th>1</th>\n",
              "      <td>West</td>\n",
              "      <td>Two</td>\n",
              "      <td>B</td>\n",
              "      <td>5500</td>\n",
              "      <td>5100</td>\n",
              "      <td>Profit</td>\n",
              "      <td>Blue</td>\n",
              "    </tr>\n",
              "    <tr>\n",
              "      <th>2</th>\n",
              "      <td>East</td>\n",
              "      <td>One</td>\n",
              "      <td>C</td>\n",
              "      <td>2750</td>\n",
              "      <td>4400</td>\n",
              "      <td>Loss</td>\n",
              "      <td>Red</td>\n",
              "    </tr>\n",
              "    <tr>\n",
              "      <th>3</th>\n",
              "      <td>South</td>\n",
              "      <td>Two</td>\n",
              "      <td>D</td>\n",
              "      <td>6400</td>\n",
              "      <td>5300</td>\n",
              "      <td>Profit</td>\n",
              "      <td>Blue</td>\n",
              "    </tr>\n",
              "  </tbody>\n",
              "</table>\n",
              "</div>"
            ],
            "text/plain": [
              "  Region Team Squad  Revenue  Cost  Profit Team Color\n",
              "0  North  One     A     7500  5200  Profit        Red\n",
              "1   West  Two     B     5500  5100  Profit       Blue\n",
              "2   East  One     C     2750  4400    Loss        Red\n",
              "3  South  Two     D     6400  5300  Profit       Blue"
            ]
          },
          "metadata": {
            "tags": []
          },
          "execution_count": 182
        }
      ]
    },
    {
      "cell_type": "code",
      "metadata": {
        "id": "fm2F_8QxUZZx",
        "colab": {
          "base_uri": "https://localhost:8080/",
          "height": 173
        },
        "outputId": "0c74000b-e4df-4553-83a3-4712c250e438"
      },
      "source": [
        "# applymap() method do elementwise operation on the entire dataframe.\n",
        "# This method applies a function that accepts and returns a scalar to every element of a DataFrame.\n",
        "\n",
        "teams.applymap(lambda x: len(str(x)))  # int(x) won't work because data has strings which can not be convereted to int."
      ],
      "execution_count": null,
      "outputs": [
        {
          "output_type": "execute_result",
          "data": {
            "text/html": [
              "<div>\n",
              "<style scoped>\n",
              "    .dataframe tbody tr th:only-of-type {\n",
              "        vertical-align: middle;\n",
              "    }\n",
              "\n",
              "    .dataframe tbody tr th {\n",
              "        vertical-align: top;\n",
              "    }\n",
              "\n",
              "    .dataframe thead th {\n",
              "        text-align: right;\n",
              "    }\n",
              "</style>\n",
              "<table border=\"1\" class=\"dataframe\">\n",
              "  <thead>\n",
              "    <tr style=\"text-align: right;\">\n",
              "      <th></th>\n",
              "      <th>Region</th>\n",
              "      <th>Team</th>\n",
              "      <th>Squad</th>\n",
              "      <th>Revenue</th>\n",
              "      <th>Cost</th>\n",
              "      <th>Profit</th>\n",
              "      <th>Team Color</th>\n",
              "    </tr>\n",
              "  </thead>\n",
              "  <tbody>\n",
              "    <tr>\n",
              "      <th>0</th>\n",
              "      <td>5</td>\n",
              "      <td>3</td>\n",
              "      <td>1</td>\n",
              "      <td>4</td>\n",
              "      <td>4</td>\n",
              "      <td>6</td>\n",
              "      <td>3</td>\n",
              "    </tr>\n",
              "    <tr>\n",
              "      <th>1</th>\n",
              "      <td>4</td>\n",
              "      <td>3</td>\n",
              "      <td>1</td>\n",
              "      <td>4</td>\n",
              "      <td>4</td>\n",
              "      <td>6</td>\n",
              "      <td>4</td>\n",
              "    </tr>\n",
              "    <tr>\n",
              "      <th>2</th>\n",
              "      <td>4</td>\n",
              "      <td>3</td>\n",
              "      <td>1</td>\n",
              "      <td>4</td>\n",
              "      <td>4</td>\n",
              "      <td>4</td>\n",
              "      <td>3</td>\n",
              "    </tr>\n",
              "    <tr>\n",
              "      <th>3</th>\n",
              "      <td>5</td>\n",
              "      <td>3</td>\n",
              "      <td>1</td>\n",
              "      <td>4</td>\n",
              "      <td>4</td>\n",
              "      <td>6</td>\n",
              "      <td>4</td>\n",
              "    </tr>\n",
              "  </tbody>\n",
              "</table>\n",
              "</div>"
            ],
            "text/plain": [
              "   Region  Team  Squad  Revenue  Cost  Profit  Team Color\n",
              "0       5     3      1        4     4       6           3\n",
              "1       4     3      1        4     4       6           4\n",
              "2       4     3      1        4     4       4           3\n",
              "3       5     3      1        4     4       6           4"
            ]
          },
          "metadata": {
            "tags": []
          },
          "execution_count": 183
        }
      ]
    },
    {
      "cell_type": "code",
      "metadata": {
        "id": "WHrIrf39Ue6Z",
        "colab": {
          "base_uri": "https://localhost:8080/",
          "height": 142
        },
        "outputId": "ff152ef6-0d14-47c4-e157-c00fe016e0a4"
      },
      "source": [
        "# Grouping on different categories. Needs the category as well as parameter\n",
        "teams.groupby(['Profit']).max()\n"
      ],
      "execution_count": null,
      "outputs": [
        {
          "output_type": "execute_result",
          "data": {
            "text/html": [
              "<div>\n",
              "<style scoped>\n",
              "    .dataframe tbody tr th:only-of-type {\n",
              "        vertical-align: middle;\n",
              "    }\n",
              "\n",
              "    .dataframe tbody tr th {\n",
              "        vertical-align: top;\n",
              "    }\n",
              "\n",
              "    .dataframe thead th {\n",
              "        text-align: right;\n",
              "    }\n",
              "</style>\n",
              "<table border=\"1\" class=\"dataframe\">\n",
              "  <thead>\n",
              "    <tr style=\"text-align: right;\">\n",
              "      <th></th>\n",
              "      <th>Region</th>\n",
              "      <th>Team</th>\n",
              "      <th>Squad</th>\n",
              "      <th>Revenue</th>\n",
              "      <th>Cost</th>\n",
              "      <th>Team Color</th>\n",
              "    </tr>\n",
              "    <tr>\n",
              "      <th>Profit</th>\n",
              "      <th></th>\n",
              "      <th></th>\n",
              "      <th></th>\n",
              "      <th></th>\n",
              "      <th></th>\n",
              "      <th></th>\n",
              "    </tr>\n",
              "  </thead>\n",
              "  <tbody>\n",
              "    <tr>\n",
              "      <th>Loss</th>\n",
              "      <td>East</td>\n",
              "      <td>One</td>\n",
              "      <td>C</td>\n",
              "      <td>2750</td>\n",
              "      <td>4400</td>\n",
              "      <td>Red</td>\n",
              "    </tr>\n",
              "    <tr>\n",
              "      <th>Profit</th>\n",
              "      <td>West</td>\n",
              "      <td>Two</td>\n",
              "      <td>D</td>\n",
              "      <td>7500</td>\n",
              "      <td>5300</td>\n",
              "      <td>Red</td>\n",
              "    </tr>\n",
              "  </tbody>\n",
              "</table>\n",
              "</div>"
            ],
            "text/plain": [
              "       Region Team Squad  Revenue  Cost Team Color\n",
              "Profit                                            \n",
              "Loss     East  One     C     2750  4400        Red\n",
              "Profit   West  Two     D     7500  5300        Red"
            ]
          },
          "metadata": {
            "tags": []
          },
          "execution_count": 184
        }
      ]
    },
    {
      "cell_type": "code",
      "metadata": {
        "id": "-SlEdwT_UhKQ",
        "colab": {
          "base_uri": "https://localhost:8080/",
          "height": 204
        },
        "outputId": "c4c5ed54-6340-419e-892e-16265016ea3b"
      },
      "source": [
        "# TO DO: Can you group the records on Cost with minimum values?\n",
        "teams.groupby(['Cost']).min()"
      ],
      "execution_count": null,
      "outputs": [
        {
          "output_type": "execute_result",
          "data": {
            "text/html": [
              "<div>\n",
              "<style scoped>\n",
              "    .dataframe tbody tr th:only-of-type {\n",
              "        vertical-align: middle;\n",
              "    }\n",
              "\n",
              "    .dataframe tbody tr th {\n",
              "        vertical-align: top;\n",
              "    }\n",
              "\n",
              "    .dataframe thead th {\n",
              "        text-align: right;\n",
              "    }\n",
              "</style>\n",
              "<table border=\"1\" class=\"dataframe\">\n",
              "  <thead>\n",
              "    <tr style=\"text-align: right;\">\n",
              "      <th></th>\n",
              "      <th>Region</th>\n",
              "      <th>Team</th>\n",
              "      <th>Squad</th>\n",
              "      <th>Revenue</th>\n",
              "      <th>Profit</th>\n",
              "      <th>Team Color</th>\n",
              "    </tr>\n",
              "    <tr>\n",
              "      <th>Cost</th>\n",
              "      <th></th>\n",
              "      <th></th>\n",
              "      <th></th>\n",
              "      <th></th>\n",
              "      <th></th>\n",
              "      <th></th>\n",
              "    </tr>\n",
              "  </thead>\n",
              "  <tbody>\n",
              "    <tr>\n",
              "      <th>4400</th>\n",
              "      <td>East</td>\n",
              "      <td>One</td>\n",
              "      <td>C</td>\n",
              "      <td>2750</td>\n",
              "      <td>Loss</td>\n",
              "      <td>Red</td>\n",
              "    </tr>\n",
              "    <tr>\n",
              "      <th>5100</th>\n",
              "      <td>West</td>\n",
              "      <td>Two</td>\n",
              "      <td>B</td>\n",
              "      <td>5500</td>\n",
              "      <td>Profit</td>\n",
              "      <td>Blue</td>\n",
              "    </tr>\n",
              "    <tr>\n",
              "      <th>5200</th>\n",
              "      <td>North</td>\n",
              "      <td>One</td>\n",
              "      <td>A</td>\n",
              "      <td>7500</td>\n",
              "      <td>Profit</td>\n",
              "      <td>Red</td>\n",
              "    </tr>\n",
              "    <tr>\n",
              "      <th>5300</th>\n",
              "      <td>South</td>\n",
              "      <td>Two</td>\n",
              "      <td>D</td>\n",
              "      <td>6400</td>\n",
              "      <td>Profit</td>\n",
              "      <td>Blue</td>\n",
              "    </tr>\n",
              "  </tbody>\n",
              "</table>\n",
              "</div>"
            ],
            "text/plain": [
              "     Region Team Squad  Revenue  Profit Team Color\n",
              "Cost                                              \n",
              "4400   East  One     C     2750    Loss        Red\n",
              "5100   West  Two     B     5500  Profit       Blue\n",
              "5200  North  One     A     7500  Profit        Red\n",
              "5300  South  Two     D     6400  Profit       Blue"
            ]
          },
          "metadata": {
            "tags": []
          },
          "execution_count": 185
        }
      ]
    },
    {
      "cell_type": "code",
      "metadata": {
        "id": "-U5oFqBeVF37",
        "colab": {
          "base_uri": "https://localhost:8080/",
          "height": 204
        },
        "outputId": "812829e3-425c-453b-baf8-0b76362123d1"
      },
      "source": [
        "# TO DO: Can you group the records on Revenue column with mean values?\n",
        "\n",
        "teams.groupby(['Revenue']).mean()"
      ],
      "execution_count": null,
      "outputs": [
        {
          "output_type": "execute_result",
          "data": {
            "text/html": [
              "<div>\n",
              "<style scoped>\n",
              "    .dataframe tbody tr th:only-of-type {\n",
              "        vertical-align: middle;\n",
              "    }\n",
              "\n",
              "    .dataframe tbody tr th {\n",
              "        vertical-align: top;\n",
              "    }\n",
              "\n",
              "    .dataframe thead th {\n",
              "        text-align: right;\n",
              "    }\n",
              "</style>\n",
              "<table border=\"1\" class=\"dataframe\">\n",
              "  <thead>\n",
              "    <tr style=\"text-align: right;\">\n",
              "      <th></th>\n",
              "      <th>Cost</th>\n",
              "    </tr>\n",
              "    <tr>\n",
              "      <th>Revenue</th>\n",
              "      <th></th>\n",
              "    </tr>\n",
              "  </thead>\n",
              "  <tbody>\n",
              "    <tr>\n",
              "      <th>2750</th>\n",
              "      <td>4400</td>\n",
              "    </tr>\n",
              "    <tr>\n",
              "      <th>5500</th>\n",
              "      <td>5100</td>\n",
              "    </tr>\n",
              "    <tr>\n",
              "      <th>6400</th>\n",
              "      <td>5300</td>\n",
              "    </tr>\n",
              "    <tr>\n",
              "      <th>7500</th>\n",
              "      <td>5200</td>\n",
              "    </tr>\n",
              "  </tbody>\n",
              "</table>\n",
              "</div>"
            ],
            "text/plain": [
              "         Cost\n",
              "Revenue      \n",
              "2750     4400\n",
              "5500     5100\n",
              "6400     5300\n",
              "7500     5200"
            ]
          },
          "metadata": {
            "tags": []
          },
          "execution_count": 186
        }
      ]
    },
    {
      "cell_type": "code",
      "metadata": {
        "id": "qFVH1seKVTRN",
        "colab": {
          "base_uri": "https://localhost:8080/",
          "height": 173
        },
        "outputId": "e98a88a1-c302-4098-cd8d-a8fce3038ae1"
      },
      "source": [
        "# Grouping on the basis of aggregates\n",
        "teams.groupby(['Team']).agg({'Revenue':['mean','min','max']})"
      ],
      "execution_count": null,
      "outputs": [
        {
          "output_type": "execute_result",
          "data": {
            "text/html": [
              "<div>\n",
              "<style scoped>\n",
              "    .dataframe tbody tr th:only-of-type {\n",
              "        vertical-align: middle;\n",
              "    }\n",
              "\n",
              "    .dataframe tbody tr th {\n",
              "        vertical-align: top;\n",
              "    }\n",
              "\n",
              "    .dataframe thead tr th {\n",
              "        text-align: left;\n",
              "    }\n",
              "\n",
              "    .dataframe thead tr:last-of-type th {\n",
              "        text-align: right;\n",
              "    }\n",
              "</style>\n",
              "<table border=\"1\" class=\"dataframe\">\n",
              "  <thead>\n",
              "    <tr>\n",
              "      <th></th>\n",
              "      <th colspan=\"3\" halign=\"left\">Revenue</th>\n",
              "    </tr>\n",
              "    <tr>\n",
              "      <th></th>\n",
              "      <th>mean</th>\n",
              "      <th>min</th>\n",
              "      <th>max</th>\n",
              "    </tr>\n",
              "    <tr>\n",
              "      <th>Team</th>\n",
              "      <th></th>\n",
              "      <th></th>\n",
              "      <th></th>\n",
              "    </tr>\n",
              "  </thead>\n",
              "  <tbody>\n",
              "    <tr>\n",
              "      <th>One</th>\n",
              "      <td>5125</td>\n",
              "      <td>2750</td>\n",
              "      <td>7500</td>\n",
              "    </tr>\n",
              "    <tr>\n",
              "      <th>Two</th>\n",
              "      <td>5950</td>\n",
              "      <td>5500</td>\n",
              "      <td>6400</td>\n",
              "    </tr>\n",
              "  </tbody>\n",
              "</table>\n",
              "</div>"
            ],
            "text/plain": [
              "     Revenue            \n",
              "        mean   min   max\n",
              "Team                    \n",
              "One     5125  2750  7500\n",
              "Two     5950  5500  6400"
            ]
          },
          "metadata": {
            "tags": []
          },
          "execution_count": 187
        }
      ]
    },
    {
      "cell_type": "markdown",
      "metadata": {
        "id": "smEeQ06lVrsj"
      },
      "source": [
        "Reset Index, Set Index and ReIndexing"
      ]
    },
    {
      "cell_type": "code",
      "metadata": {
        "id": "AOq1jy4UVkpL",
        "colab": {
          "base_uri": "https://localhost:8080/",
          "height": 173
        },
        "outputId": "1cf8de02-d0fc-473d-f978-728a5f9a8e58"
      },
      "source": [
        "# TO DO: Copy-paste the copy from earlier to redefine teams dataframe, and display it\n",
        "\n",
        "teams = pd.DataFrame({\"Region\":['North','West','East','South'],\n",
        "          \"Team\":['One','Two','One','Two'],\n",
        "          \"Squad\":['A','B','C','D'],\n",
        "          \"Revenue\":[7500,5500,2750,6400],\n",
        "            \"Cost\":[5200,5100,4400,5300]})\n",
        "\n",
        "display (teams)"
      ],
      "execution_count": null,
      "outputs": [
        {
          "output_type": "display_data",
          "data": {
            "text/html": [
              "<div>\n",
              "<style scoped>\n",
              "    .dataframe tbody tr th:only-of-type {\n",
              "        vertical-align: middle;\n",
              "    }\n",
              "\n",
              "    .dataframe tbody tr th {\n",
              "        vertical-align: top;\n",
              "    }\n",
              "\n",
              "    .dataframe thead th {\n",
              "        text-align: right;\n",
              "    }\n",
              "</style>\n",
              "<table border=\"1\" class=\"dataframe\">\n",
              "  <thead>\n",
              "    <tr style=\"text-align: right;\">\n",
              "      <th></th>\n",
              "      <th>Region</th>\n",
              "      <th>Team</th>\n",
              "      <th>Squad</th>\n",
              "      <th>Revenue</th>\n",
              "      <th>Cost</th>\n",
              "    </tr>\n",
              "  </thead>\n",
              "  <tbody>\n",
              "    <tr>\n",
              "      <th>0</th>\n",
              "      <td>North</td>\n",
              "      <td>One</td>\n",
              "      <td>A</td>\n",
              "      <td>7500</td>\n",
              "      <td>5200</td>\n",
              "    </tr>\n",
              "    <tr>\n",
              "      <th>1</th>\n",
              "      <td>West</td>\n",
              "      <td>Two</td>\n",
              "      <td>B</td>\n",
              "      <td>5500</td>\n",
              "      <td>5100</td>\n",
              "    </tr>\n",
              "    <tr>\n",
              "      <th>2</th>\n",
              "      <td>East</td>\n",
              "      <td>One</td>\n",
              "      <td>C</td>\n",
              "      <td>2750</td>\n",
              "      <td>4400</td>\n",
              "    </tr>\n",
              "    <tr>\n",
              "      <th>3</th>\n",
              "      <td>South</td>\n",
              "      <td>Two</td>\n",
              "      <td>D</td>\n",
              "      <td>6400</td>\n",
              "      <td>5300</td>\n",
              "    </tr>\n",
              "  </tbody>\n",
              "</table>\n",
              "</div>"
            ],
            "text/plain": [
              "  Region Team Squad  Revenue  Cost\n",
              "0  North  One     A     7500  5200\n",
              "1   West  Two     B     5500  5100\n",
              "2   East  One     C     2750  4400\n",
              "3  South  Two     D     6400  5300"
            ]
          },
          "metadata": {
            "tags": []
          }
        }
      ]
    },
    {
      "cell_type": "code",
      "metadata": {
        "id": "A2Hrv2n5WA74",
        "colab": {
          "base_uri": "https://localhost:8080/",
          "height": 377
        },
        "outputId": "77d86623-748e-4e77-bb3d-b6256790e6cb"
      },
      "source": [
        "# Setting two columns as index when a single column has not unique values.\n",
        "\n",
        "teams_reindex = teams.set_index(['Region','Team'])  # 2 indices. useful when values are not unique\n",
        "display(teams)\n",
        "\n",
        "print()    # TO print blank/new line.\n",
        "\n",
        "\n",
        "display(teams_reindex)"
      ],
      "execution_count": null,
      "outputs": [
        {
          "output_type": "display_data",
          "data": {
            "text/html": [
              "<div>\n",
              "<style scoped>\n",
              "    .dataframe tbody tr th:only-of-type {\n",
              "        vertical-align: middle;\n",
              "    }\n",
              "\n",
              "    .dataframe tbody tr th {\n",
              "        vertical-align: top;\n",
              "    }\n",
              "\n",
              "    .dataframe thead th {\n",
              "        text-align: right;\n",
              "    }\n",
              "</style>\n",
              "<table border=\"1\" class=\"dataframe\">\n",
              "  <thead>\n",
              "    <tr style=\"text-align: right;\">\n",
              "      <th></th>\n",
              "      <th>Region</th>\n",
              "      <th>Team</th>\n",
              "      <th>Squad</th>\n",
              "      <th>Revenue</th>\n",
              "      <th>Cost</th>\n",
              "    </tr>\n",
              "  </thead>\n",
              "  <tbody>\n",
              "    <tr>\n",
              "      <th>0</th>\n",
              "      <td>North</td>\n",
              "      <td>One</td>\n",
              "      <td>A</td>\n",
              "      <td>7500</td>\n",
              "      <td>5200</td>\n",
              "    </tr>\n",
              "    <tr>\n",
              "      <th>1</th>\n",
              "      <td>West</td>\n",
              "      <td>Two</td>\n",
              "      <td>B</td>\n",
              "      <td>5500</td>\n",
              "      <td>5100</td>\n",
              "    </tr>\n",
              "    <tr>\n",
              "      <th>2</th>\n",
              "      <td>East</td>\n",
              "      <td>One</td>\n",
              "      <td>C</td>\n",
              "      <td>2750</td>\n",
              "      <td>4400</td>\n",
              "    </tr>\n",
              "    <tr>\n",
              "      <th>3</th>\n",
              "      <td>South</td>\n",
              "      <td>Two</td>\n",
              "      <td>D</td>\n",
              "      <td>6400</td>\n",
              "      <td>5300</td>\n",
              "    </tr>\n",
              "  </tbody>\n",
              "</table>\n",
              "</div>"
            ],
            "text/plain": [
              "  Region Team Squad  Revenue  Cost\n",
              "0  North  One     A     7500  5200\n",
              "1   West  Two     B     5500  5100\n",
              "2   East  One     C     2750  4400\n",
              "3  South  Two     D     6400  5300"
            ]
          },
          "metadata": {
            "tags": []
          }
        },
        {
          "output_type": "stream",
          "text": [
            "\n"
          ],
          "name": "stdout"
        },
        {
          "output_type": "display_data",
          "data": {
            "text/html": [
              "<div>\n",
              "<style scoped>\n",
              "    .dataframe tbody tr th:only-of-type {\n",
              "        vertical-align: middle;\n",
              "    }\n",
              "\n",
              "    .dataframe tbody tr th {\n",
              "        vertical-align: top;\n",
              "    }\n",
              "\n",
              "    .dataframe thead th {\n",
              "        text-align: right;\n",
              "    }\n",
              "</style>\n",
              "<table border=\"1\" class=\"dataframe\">\n",
              "  <thead>\n",
              "    <tr style=\"text-align: right;\">\n",
              "      <th></th>\n",
              "      <th></th>\n",
              "      <th>Squad</th>\n",
              "      <th>Revenue</th>\n",
              "      <th>Cost</th>\n",
              "    </tr>\n",
              "    <tr>\n",
              "      <th>Region</th>\n",
              "      <th>Team</th>\n",
              "      <th></th>\n",
              "      <th></th>\n",
              "      <th></th>\n",
              "    </tr>\n",
              "  </thead>\n",
              "  <tbody>\n",
              "    <tr>\n",
              "      <th>North</th>\n",
              "      <th>One</th>\n",
              "      <td>A</td>\n",
              "      <td>7500</td>\n",
              "      <td>5200</td>\n",
              "    </tr>\n",
              "    <tr>\n",
              "      <th>West</th>\n",
              "      <th>Two</th>\n",
              "      <td>B</td>\n",
              "      <td>5500</td>\n",
              "      <td>5100</td>\n",
              "    </tr>\n",
              "    <tr>\n",
              "      <th>East</th>\n",
              "      <th>One</th>\n",
              "      <td>C</td>\n",
              "      <td>2750</td>\n",
              "      <td>4400</td>\n",
              "    </tr>\n",
              "    <tr>\n",
              "      <th>South</th>\n",
              "      <th>Two</th>\n",
              "      <td>D</td>\n",
              "      <td>6400</td>\n",
              "      <td>5300</td>\n",
              "    </tr>\n",
              "  </tbody>\n",
              "</table>\n",
              "</div>"
            ],
            "text/plain": [
              "            Squad  Revenue  Cost\n",
              "Region Team                     \n",
              "North  One      A     7500  5200\n",
              "West   Two      B     5500  5100\n",
              "East   One      C     2750  4400\n",
              "South  Two      D     6400  5300"
            ]
          },
          "metadata": {
            "tags": []
          }
        }
      ]
    },
    {
      "cell_type": "code",
      "metadata": {
        "id": "KQCJTjmdWhtT",
        "colab": {
          "base_uri": "https://localhost:8080/",
          "height": 452
        },
        "outputId": "99198c70-0abe-43fc-d9d7-c24697c5f29c"
      },
      "source": [
        "# Restructuring the dataframe based the multiple indices\n",
        "stacked = pd.DataFrame(teams_reindex.stack())\n",
        "stacked\n"
      ],
      "execution_count": null,
      "outputs": [
        {
          "output_type": "execute_result",
          "data": {
            "text/html": [
              "<div>\n",
              "<style scoped>\n",
              "    .dataframe tbody tr th:only-of-type {\n",
              "        vertical-align: middle;\n",
              "    }\n",
              "\n",
              "    .dataframe tbody tr th {\n",
              "        vertical-align: top;\n",
              "    }\n",
              "\n",
              "    .dataframe thead th {\n",
              "        text-align: right;\n",
              "    }\n",
              "</style>\n",
              "<table border=\"1\" class=\"dataframe\">\n",
              "  <thead>\n",
              "    <tr style=\"text-align: right;\">\n",
              "      <th></th>\n",
              "      <th></th>\n",
              "      <th></th>\n",
              "      <th>0</th>\n",
              "    </tr>\n",
              "    <tr>\n",
              "      <th>Region</th>\n",
              "      <th>Team</th>\n",
              "      <th></th>\n",
              "      <th></th>\n",
              "    </tr>\n",
              "  </thead>\n",
              "  <tbody>\n",
              "    <tr>\n",
              "      <th rowspan=\"3\" valign=\"top\">North</th>\n",
              "      <th rowspan=\"3\" valign=\"top\">One</th>\n",
              "      <th>Squad</th>\n",
              "      <td>A</td>\n",
              "    </tr>\n",
              "    <tr>\n",
              "      <th>Revenue</th>\n",
              "      <td>7500</td>\n",
              "    </tr>\n",
              "    <tr>\n",
              "      <th>Cost</th>\n",
              "      <td>5200</td>\n",
              "    </tr>\n",
              "    <tr>\n",
              "      <th rowspan=\"3\" valign=\"top\">West</th>\n",
              "      <th rowspan=\"3\" valign=\"top\">Two</th>\n",
              "      <th>Squad</th>\n",
              "      <td>B</td>\n",
              "    </tr>\n",
              "    <tr>\n",
              "      <th>Revenue</th>\n",
              "      <td>5500</td>\n",
              "    </tr>\n",
              "    <tr>\n",
              "      <th>Cost</th>\n",
              "      <td>5100</td>\n",
              "    </tr>\n",
              "    <tr>\n",
              "      <th rowspan=\"3\" valign=\"top\">East</th>\n",
              "      <th rowspan=\"3\" valign=\"top\">One</th>\n",
              "      <th>Squad</th>\n",
              "      <td>C</td>\n",
              "    </tr>\n",
              "    <tr>\n",
              "      <th>Revenue</th>\n",
              "      <td>2750</td>\n",
              "    </tr>\n",
              "    <tr>\n",
              "      <th>Cost</th>\n",
              "      <td>4400</td>\n",
              "    </tr>\n",
              "    <tr>\n",
              "      <th rowspan=\"3\" valign=\"top\">South</th>\n",
              "      <th rowspan=\"3\" valign=\"top\">Two</th>\n",
              "      <th>Squad</th>\n",
              "      <td>D</td>\n",
              "    </tr>\n",
              "    <tr>\n",
              "      <th>Revenue</th>\n",
              "      <td>6400</td>\n",
              "    </tr>\n",
              "    <tr>\n",
              "      <th>Cost</th>\n",
              "      <td>5300</td>\n",
              "    </tr>\n",
              "  </tbody>\n",
              "</table>\n",
              "</div>"
            ],
            "text/plain": [
              "                        0\n",
              "Region Team              \n",
              "North  One  Squad       A\n",
              "            Revenue  7500\n",
              "            Cost     5200\n",
              "West   Two  Squad       B\n",
              "            Revenue  5500\n",
              "            Cost     5100\n",
              "East   One  Squad       C\n",
              "            Revenue  2750\n",
              "            Cost     4400\n",
              "South  Two  Squad       D\n",
              "            Revenue  6400\n",
              "            Cost     5300"
            ]
          },
          "metadata": {
            "tags": []
          },
          "execution_count": 192
        }
      ]
    },
    {
      "cell_type": "markdown",
      "metadata": {
        "id": "qo_QwY0pXEJQ"
      },
      "source": [
        "# Mergining dataframes\n",
        "\n",
        "We are going to learn how to merge multiple dataframes based on left, right and inner join.\n",
        "\n",
        "Read about merging: https://pandas.pydata.org/docs/reference/api/pandas.DataFrame.merge.html"
      ]
    },
    {
      "cell_type": "code",
      "metadata": {
        "id": "Sov4gqryXcFv"
      },
      "source": [
        "# Defining two new dataframes\n",
        "group1 = pd.DataFrame({'name': ['Alice', 'Bob', 'Charlie', 'David'],\n",
        "                    'number': [1, 2, 3, 4]})\n",
        "group2 = pd.DataFrame({'name': ['Charlie', 'David', 'Edward', 'Ford'],\n",
        "                    'number': [3, 4, 5, 6]})\n"
      ],
      "execution_count": null,
      "outputs": []
    },
    {
      "cell_type": "code",
      "metadata": {
        "id": "KVeFfEWfXhZi",
        "colab": {
          "base_uri": "https://localhost:8080/",
          "height": 173
        },
        "outputId": "41badefe-db17-4f78-9c60-1cd3fba3ce5a"
      },
      "source": [
        "group1.merge(group2,how='left', on='number')   # Left - all from 1st table and only common from 2nd table.\n",
        "\n",
        "# Notice the NAN or empty values."
      ],
      "execution_count": null,
      "outputs": [
        {
          "output_type": "execute_result",
          "data": {
            "text/html": [
              "<div>\n",
              "<style scoped>\n",
              "    .dataframe tbody tr th:only-of-type {\n",
              "        vertical-align: middle;\n",
              "    }\n",
              "\n",
              "    .dataframe tbody tr th {\n",
              "        vertical-align: top;\n",
              "    }\n",
              "\n",
              "    .dataframe thead th {\n",
              "        text-align: right;\n",
              "    }\n",
              "</style>\n",
              "<table border=\"1\" class=\"dataframe\">\n",
              "  <thead>\n",
              "    <tr style=\"text-align: right;\">\n",
              "      <th></th>\n",
              "      <th>name_x</th>\n",
              "      <th>number</th>\n",
              "      <th>name_y</th>\n",
              "    </tr>\n",
              "  </thead>\n",
              "  <tbody>\n",
              "    <tr>\n",
              "      <th>0</th>\n",
              "      <td>Alice</td>\n",
              "      <td>1</td>\n",
              "      <td>NaN</td>\n",
              "    </tr>\n",
              "    <tr>\n",
              "      <th>1</th>\n",
              "      <td>Bob</td>\n",
              "      <td>2</td>\n",
              "      <td>NaN</td>\n",
              "    </tr>\n",
              "    <tr>\n",
              "      <th>2</th>\n",
              "      <td>Charlie</td>\n",
              "      <td>3</td>\n",
              "      <td>Charlie</td>\n",
              "    </tr>\n",
              "    <tr>\n",
              "      <th>3</th>\n",
              "      <td>David</td>\n",
              "      <td>4</td>\n",
              "      <td>David</td>\n",
              "    </tr>\n",
              "  </tbody>\n",
              "</table>\n",
              "</div>"
            ],
            "text/plain": [
              "    name_x  number   name_y\n",
              "0    Alice       1      NaN\n",
              "1      Bob       2      NaN\n",
              "2  Charlie       3  Charlie\n",
              "3    David       4    David"
            ]
          },
          "metadata": {
            "tags": []
          },
          "execution_count": 194
        }
      ]
    },
    {
      "cell_type": "code",
      "metadata": {
        "id": "VmtiSJ5xYxXs",
        "colab": {
          "base_uri": "https://localhost:8080/",
          "height": 111
        },
        "outputId": "fe4b3267-9aeb-4cb7-e67f-2f8355e3019a"
      },
      "source": [
        "group1.merge(group2)   # Shows only the common records."
      ],
      "execution_count": null,
      "outputs": [
        {
          "output_type": "execute_result",
          "data": {
            "text/html": [
              "<div>\n",
              "<style scoped>\n",
              "    .dataframe tbody tr th:only-of-type {\n",
              "        vertical-align: middle;\n",
              "    }\n",
              "\n",
              "    .dataframe tbody tr th {\n",
              "        vertical-align: top;\n",
              "    }\n",
              "\n",
              "    .dataframe thead th {\n",
              "        text-align: right;\n",
              "    }\n",
              "</style>\n",
              "<table border=\"1\" class=\"dataframe\">\n",
              "  <thead>\n",
              "    <tr style=\"text-align: right;\">\n",
              "      <th></th>\n",
              "      <th>name</th>\n",
              "      <th>number</th>\n",
              "    </tr>\n",
              "  </thead>\n",
              "  <tbody>\n",
              "    <tr>\n",
              "      <th>0</th>\n",
              "      <td>Charlie</td>\n",
              "      <td>3</td>\n",
              "    </tr>\n",
              "    <tr>\n",
              "      <th>1</th>\n",
              "      <td>David</td>\n",
              "      <td>4</td>\n",
              "    </tr>\n",
              "  </tbody>\n",
              "</table>\n",
              "</div>"
            ],
            "text/plain": [
              "      name  number\n",
              "0  Charlie       3\n",
              "1    David       4"
            ]
          },
          "metadata": {
            "tags": []
          },
          "execution_count": 195
        }
      ]
    },
    {
      "cell_type": "code",
      "metadata": {
        "id": "eqQt-QliX7-d",
        "colab": {
          "base_uri": "https://localhost:8080/",
          "height": 111
        },
        "outputId": "f3b5b213-b551-4cb4-e189-09917658f183"
      },
      "source": [
        "group1.merge(group2,how='inner',left_on='number',right_on='number')  # Inner - Shows only the common records\n",
        "\n",
        "# Why there are no null values now in the output? Answer as a comment.\n",
        "\n",
        "# Since it takes only the common values since, Charlie & David were common from both hence, the output is this."
      ],
      "execution_count": null,
      "outputs": [
        {
          "output_type": "execute_result",
          "data": {
            "text/html": [
              "<div>\n",
              "<style scoped>\n",
              "    .dataframe tbody tr th:only-of-type {\n",
              "        vertical-align: middle;\n",
              "    }\n",
              "\n",
              "    .dataframe tbody tr th {\n",
              "        vertical-align: top;\n",
              "    }\n",
              "\n",
              "    .dataframe thead th {\n",
              "        text-align: right;\n",
              "    }\n",
              "</style>\n",
              "<table border=\"1\" class=\"dataframe\">\n",
              "  <thead>\n",
              "    <tr style=\"text-align: right;\">\n",
              "      <th></th>\n",
              "      <th>name_x</th>\n",
              "      <th>number</th>\n",
              "      <th>name_y</th>\n",
              "    </tr>\n",
              "  </thead>\n",
              "  <tbody>\n",
              "    <tr>\n",
              "      <th>0</th>\n",
              "      <td>Charlie</td>\n",
              "      <td>3</td>\n",
              "      <td>Charlie</td>\n",
              "    </tr>\n",
              "    <tr>\n",
              "      <th>1</th>\n",
              "      <td>David</td>\n",
              "      <td>4</td>\n",
              "      <td>David</td>\n",
              "    </tr>\n",
              "  </tbody>\n",
              "</table>\n",
              "</div>"
            ],
            "text/plain": [
              "    name_x  number   name_y\n",
              "0  Charlie       3  Charlie\n",
              "1    David       4    David"
            ]
          },
          "metadata": {
            "tags": []
          },
          "execution_count": 197
        }
      ]
    },
    {
      "cell_type": "code",
      "metadata": {
        "id": "bktq1ZR-YGX4",
        "colab": {
          "base_uri": "https://localhost:8080/",
          "height": 173
        },
        "outputId": "c8147c1e-3456-47b0-a081-afdc3886fcd6"
      },
      "source": [
        "group1.merge(group2,how='right',left_on='number',right_on='number')  # Right - All from 2nd table, common from 1st table."
      ],
      "execution_count": null,
      "outputs": [
        {
          "output_type": "execute_result",
          "data": {
            "text/html": [
              "<div>\n",
              "<style scoped>\n",
              "    .dataframe tbody tr th:only-of-type {\n",
              "        vertical-align: middle;\n",
              "    }\n",
              "\n",
              "    .dataframe tbody tr th {\n",
              "        vertical-align: top;\n",
              "    }\n",
              "\n",
              "    .dataframe thead th {\n",
              "        text-align: right;\n",
              "    }\n",
              "</style>\n",
              "<table border=\"1\" class=\"dataframe\">\n",
              "  <thead>\n",
              "    <tr style=\"text-align: right;\">\n",
              "      <th></th>\n",
              "      <th>name_x</th>\n",
              "      <th>number</th>\n",
              "      <th>name_y</th>\n",
              "    </tr>\n",
              "  </thead>\n",
              "  <tbody>\n",
              "    <tr>\n",
              "      <th>0</th>\n",
              "      <td>Charlie</td>\n",
              "      <td>3</td>\n",
              "      <td>Charlie</td>\n",
              "    </tr>\n",
              "    <tr>\n",
              "      <th>1</th>\n",
              "      <td>David</td>\n",
              "      <td>4</td>\n",
              "      <td>David</td>\n",
              "    </tr>\n",
              "    <tr>\n",
              "      <th>2</th>\n",
              "      <td>NaN</td>\n",
              "      <td>5</td>\n",
              "      <td>Edward</td>\n",
              "    </tr>\n",
              "    <tr>\n",
              "      <th>3</th>\n",
              "      <td>NaN</td>\n",
              "      <td>6</td>\n",
              "      <td>Ford</td>\n",
              "    </tr>\n",
              "  </tbody>\n",
              "</table>\n",
              "</div>"
            ],
            "text/plain": [
              "    name_x  number   name_y\n",
              "0  Charlie       3  Charlie\n",
              "1    David       4    David\n",
              "2      NaN       5   Edward\n",
              "3      NaN       6     Ford"
            ]
          },
          "metadata": {
            "tags": []
          },
          "execution_count": 198
        }
      ]
    },
    {
      "cell_type": "markdown",
      "metadata": {
        "id": "hLGaxWkcZLVt"
      },
      "source": [
        "# Matplotlib library in Python\n",
        "\n",
        "Matplotlib is a plotting library for the Python programming language. Matplotlib in Python is used as it is a robust, free and easy library for data visualization.\n",
        "\n",
        "Read more on matplotlib: \n",
        "1. https://matplotlib.org/\n",
        "2. https://www.w3schools.com/python/matplotlib_intro.asp\n",
        "\n",
        "Another important library - seaborn - is use for statistical data visualization.\n",
        "\n",
        "1. https://seaborn.pydata.org/ \n",
        "2. https://www.jigsawacademy.com/blogs/ai-ml/seaborn-vs-matplotlib/#Difference-between-seaborn-vs-matplotlib\n",
        "\n"
      ]
    },
    {
      "cell_type": "markdown",
      "metadata": {
        "id": "LsByOO65aBsE"
      },
      "source": [
        "Next, we will explore some data visualization using Matplotlib. After finishing it, please visit [MatPlotLib on W3Schools](https://www.w3schools.com/python/matplotlib_intro.asp) for additional practise."
      ]
    },
    {
      "cell_type": "markdown",
      "metadata": {
        "id": "P85WYAoLdjsV"
      },
      "source": [
        "#### Reading: Plotting charts in Matplotlib\n",
        "\n",
        "1. Creating basic charts: https://drive.google.com/file/d/1kunIRcTiUWbJp_DZRcmlmIZMh3ua_yIK/view?usp=sharing\n",
        "2. Customizing our charts: https://drive.google.com/file/d/1fuYY9DfhtmekoDCCX_HDfItrObJhKpGA/view?usp=sharing"
      ]
    },
    {
      "cell_type": "markdown",
      "metadata": {
        "id": "-Crk5U_dejxv"
      },
      "source": [
        "The next codes are exercises only. Please make sure you have gone through the above shared documents/readings before proceeding further. What concepts and syntax you learnt will be used in the next exercises.\n",
        "\n",
        "Dataset: https://drive.google.com/file/d/1Za1B2Nt_VuEDrSznS6PN5BM4c0pEOQm5/view?usp=sharing"
      ]
    },
    {
      "cell_type": "code",
      "metadata": {
        "id": "UFweHIave7YB"
      },
      "source": [
        "# TO DO : Read the instructions and write the codes.\n",
        "'''\n",
        "Get the data\n",
        "\n",
        "Open mtcars.csv in Excel or Text dataset and have a look at the data. Understand the variables.\n",
        "\n",
        "You can also open in Google drive to view it however, make sure you download it in your local system and upload in \n",
        "Jupyter Notebook folder where you have the Python file.\n",
        "'''\n",
        "\n",
        "\n",
        "\n",
        "\n"
      ],
      "execution_count": null,
      "outputs": []
    },
    {
      "cell_type": "code",
      "metadata": {
        "id": "GLoN7oxPaYN9",
        "colab": {
          "base_uri": "https://localhost:8080/",
          "height": 1000
        },
        "outputId": "8cf81ab5-ac95-4702-ce4f-dff8c6481c79"
      },
      "source": [
        "# TO DO: \n",
        "# Import pandas package as pd\n",
        "import pandas as pd\n",
        "\n",
        "# Use function pd.read_csv to upload mtcars.csv by using either of two methods below:\n",
        "    # Use_cols ( all the columns except car_names )\n",
        "    # Index_col = car_names ( expected output as below)\n",
        "cars = pd.read_csv('/content/mtcars.csv', index_col='car_names')\n",
        "\n",
        "# display the dataframe\n",
        "cars"
      ],
      "execution_count": 244,
      "outputs": [
        {
          "output_type": "execute_result",
          "data": {
            "text/html": [
              "<div>\n",
              "<style scoped>\n",
              "    .dataframe tbody tr th:only-of-type {\n",
              "        vertical-align: middle;\n",
              "    }\n",
              "\n",
              "    .dataframe tbody tr th {\n",
              "        vertical-align: top;\n",
              "    }\n",
              "\n",
              "    .dataframe thead th {\n",
              "        text-align: right;\n",
              "    }\n",
              "</style>\n",
              "<table border=\"1\" class=\"dataframe\">\n",
              "  <thead>\n",
              "    <tr style=\"text-align: right;\">\n",
              "      <th></th>\n",
              "      <th>mpg</th>\n",
              "      <th>cyl</th>\n",
              "      <th>disp</th>\n",
              "      <th>hp</th>\n",
              "      <th>drat</th>\n",
              "      <th>wt</th>\n",
              "      <th>qsec</th>\n",
              "      <th>vs</th>\n",
              "      <th>am</th>\n",
              "      <th>gear</th>\n",
              "      <th>carb</th>\n",
              "    </tr>\n",
              "    <tr>\n",
              "      <th>car_names</th>\n",
              "      <th></th>\n",
              "      <th></th>\n",
              "      <th></th>\n",
              "      <th></th>\n",
              "      <th></th>\n",
              "      <th></th>\n",
              "      <th></th>\n",
              "      <th></th>\n",
              "      <th></th>\n",
              "      <th></th>\n",
              "      <th></th>\n",
              "    </tr>\n",
              "  </thead>\n",
              "  <tbody>\n",
              "    <tr>\n",
              "      <th>Mazda RX4</th>\n",
              "      <td>21.0</td>\n",
              "      <td>6</td>\n",
              "      <td>160.0</td>\n",
              "      <td>110</td>\n",
              "      <td>3.90</td>\n",
              "      <td>2.620</td>\n",
              "      <td>16.46</td>\n",
              "      <td>0</td>\n",
              "      <td>1</td>\n",
              "      <td>4</td>\n",
              "      <td>4</td>\n",
              "    </tr>\n",
              "    <tr>\n",
              "      <th>Mazda RX4 Wag</th>\n",
              "      <td>21.0</td>\n",
              "      <td>6</td>\n",
              "      <td>160.0</td>\n",
              "      <td>110</td>\n",
              "      <td>3.90</td>\n",
              "      <td>2.875</td>\n",
              "      <td>17.02</td>\n",
              "      <td>0</td>\n",
              "      <td>1</td>\n",
              "      <td>4</td>\n",
              "      <td>4</td>\n",
              "    </tr>\n",
              "    <tr>\n",
              "      <th>Datsun 710</th>\n",
              "      <td>22.8</td>\n",
              "      <td>4</td>\n",
              "      <td>108.0</td>\n",
              "      <td>93</td>\n",
              "      <td>3.85</td>\n",
              "      <td>2.320</td>\n",
              "      <td>18.61</td>\n",
              "      <td>1</td>\n",
              "      <td>1</td>\n",
              "      <td>4</td>\n",
              "      <td>1</td>\n",
              "    </tr>\n",
              "    <tr>\n",
              "      <th>Hornet 4 Drive</th>\n",
              "      <td>21.4</td>\n",
              "      <td>6</td>\n",
              "      <td>258.0</td>\n",
              "      <td>110</td>\n",
              "      <td>3.08</td>\n",
              "      <td>3.215</td>\n",
              "      <td>19.44</td>\n",
              "      <td>1</td>\n",
              "      <td>0</td>\n",
              "      <td>3</td>\n",
              "      <td>1</td>\n",
              "    </tr>\n",
              "    <tr>\n",
              "      <th>Hornet Sportabout</th>\n",
              "      <td>18.7</td>\n",
              "      <td>8</td>\n",
              "      <td>360.0</td>\n",
              "      <td>175</td>\n",
              "      <td>3.15</td>\n",
              "      <td>3.440</td>\n",
              "      <td>17.02</td>\n",
              "      <td>0</td>\n",
              "      <td>0</td>\n",
              "      <td>3</td>\n",
              "      <td>2</td>\n",
              "    </tr>\n",
              "    <tr>\n",
              "      <th>Valiant</th>\n",
              "      <td>18.1</td>\n",
              "      <td>6</td>\n",
              "      <td>225.0</td>\n",
              "      <td>105</td>\n",
              "      <td>2.76</td>\n",
              "      <td>3.460</td>\n",
              "      <td>20.22</td>\n",
              "      <td>1</td>\n",
              "      <td>0</td>\n",
              "      <td>3</td>\n",
              "      <td>1</td>\n",
              "    </tr>\n",
              "    <tr>\n",
              "      <th>Duster 360</th>\n",
              "      <td>14.3</td>\n",
              "      <td>8</td>\n",
              "      <td>360.0</td>\n",
              "      <td>245</td>\n",
              "      <td>3.21</td>\n",
              "      <td>3.570</td>\n",
              "      <td>15.84</td>\n",
              "      <td>0</td>\n",
              "      <td>0</td>\n",
              "      <td>3</td>\n",
              "      <td>4</td>\n",
              "    </tr>\n",
              "    <tr>\n",
              "      <th>Merc 240D</th>\n",
              "      <td>24.4</td>\n",
              "      <td>4</td>\n",
              "      <td>146.7</td>\n",
              "      <td>62</td>\n",
              "      <td>3.69</td>\n",
              "      <td>3.190</td>\n",
              "      <td>20.00</td>\n",
              "      <td>1</td>\n",
              "      <td>0</td>\n",
              "      <td>4</td>\n",
              "      <td>2</td>\n",
              "    </tr>\n",
              "    <tr>\n",
              "      <th>Merc 230</th>\n",
              "      <td>22.8</td>\n",
              "      <td>4</td>\n",
              "      <td>140.8</td>\n",
              "      <td>95</td>\n",
              "      <td>3.92</td>\n",
              "      <td>3.150</td>\n",
              "      <td>22.90</td>\n",
              "      <td>1</td>\n",
              "      <td>0</td>\n",
              "      <td>4</td>\n",
              "      <td>2</td>\n",
              "    </tr>\n",
              "    <tr>\n",
              "      <th>Merc 280</th>\n",
              "      <td>19.2</td>\n",
              "      <td>6</td>\n",
              "      <td>167.6</td>\n",
              "      <td>123</td>\n",
              "      <td>3.92</td>\n",
              "      <td>3.440</td>\n",
              "      <td>18.30</td>\n",
              "      <td>1</td>\n",
              "      <td>0</td>\n",
              "      <td>4</td>\n",
              "      <td>4</td>\n",
              "    </tr>\n",
              "    <tr>\n",
              "      <th>Merc 280C</th>\n",
              "      <td>17.8</td>\n",
              "      <td>6</td>\n",
              "      <td>167.6</td>\n",
              "      <td>123</td>\n",
              "      <td>3.92</td>\n",
              "      <td>3.440</td>\n",
              "      <td>18.90</td>\n",
              "      <td>1</td>\n",
              "      <td>0</td>\n",
              "      <td>4</td>\n",
              "      <td>4</td>\n",
              "    </tr>\n",
              "    <tr>\n",
              "      <th>Merc 450SE</th>\n",
              "      <td>16.4</td>\n",
              "      <td>8</td>\n",
              "      <td>275.8</td>\n",
              "      <td>180</td>\n",
              "      <td>3.07</td>\n",
              "      <td>4.070</td>\n",
              "      <td>17.40</td>\n",
              "      <td>0</td>\n",
              "      <td>0</td>\n",
              "      <td>3</td>\n",
              "      <td>3</td>\n",
              "    </tr>\n",
              "    <tr>\n",
              "      <th>Merc 450SL</th>\n",
              "      <td>17.3</td>\n",
              "      <td>8</td>\n",
              "      <td>275.8</td>\n",
              "      <td>180</td>\n",
              "      <td>3.07</td>\n",
              "      <td>3.730</td>\n",
              "      <td>17.60</td>\n",
              "      <td>0</td>\n",
              "      <td>0</td>\n",
              "      <td>3</td>\n",
              "      <td>3</td>\n",
              "    </tr>\n",
              "    <tr>\n",
              "      <th>Merc 450SLC</th>\n",
              "      <td>15.2</td>\n",
              "      <td>8</td>\n",
              "      <td>275.8</td>\n",
              "      <td>180</td>\n",
              "      <td>3.07</td>\n",
              "      <td>3.780</td>\n",
              "      <td>18.00</td>\n",
              "      <td>0</td>\n",
              "      <td>0</td>\n",
              "      <td>3</td>\n",
              "      <td>3</td>\n",
              "    </tr>\n",
              "    <tr>\n",
              "      <th>Cadillac Fleetwood</th>\n",
              "      <td>10.4</td>\n",
              "      <td>8</td>\n",
              "      <td>472.0</td>\n",
              "      <td>205</td>\n",
              "      <td>2.93</td>\n",
              "      <td>5.250</td>\n",
              "      <td>17.98</td>\n",
              "      <td>0</td>\n",
              "      <td>0</td>\n",
              "      <td>3</td>\n",
              "      <td>4</td>\n",
              "    </tr>\n",
              "    <tr>\n",
              "      <th>Lincoln Continental</th>\n",
              "      <td>10.4</td>\n",
              "      <td>8</td>\n",
              "      <td>460.0</td>\n",
              "      <td>215</td>\n",
              "      <td>3.00</td>\n",
              "      <td>5.424</td>\n",
              "      <td>17.82</td>\n",
              "      <td>0</td>\n",
              "      <td>0</td>\n",
              "      <td>3</td>\n",
              "      <td>4</td>\n",
              "    </tr>\n",
              "    <tr>\n",
              "      <th>Chrysler Imperial</th>\n",
              "      <td>14.7</td>\n",
              "      <td>8</td>\n",
              "      <td>440.0</td>\n",
              "      <td>230</td>\n",
              "      <td>3.23</td>\n",
              "      <td>5.345</td>\n",
              "      <td>17.42</td>\n",
              "      <td>0</td>\n",
              "      <td>0</td>\n",
              "      <td>3</td>\n",
              "      <td>4</td>\n",
              "    </tr>\n",
              "    <tr>\n",
              "      <th>Fiat 128</th>\n",
              "      <td>32.4</td>\n",
              "      <td>4</td>\n",
              "      <td>78.7</td>\n",
              "      <td>66</td>\n",
              "      <td>4.08</td>\n",
              "      <td>2.200</td>\n",
              "      <td>19.47</td>\n",
              "      <td>1</td>\n",
              "      <td>1</td>\n",
              "      <td>4</td>\n",
              "      <td>1</td>\n",
              "    </tr>\n",
              "    <tr>\n",
              "      <th>Honda Civic</th>\n",
              "      <td>30.4</td>\n",
              "      <td>4</td>\n",
              "      <td>75.7</td>\n",
              "      <td>52</td>\n",
              "      <td>4.93</td>\n",
              "      <td>1.615</td>\n",
              "      <td>18.52</td>\n",
              "      <td>1</td>\n",
              "      <td>1</td>\n",
              "      <td>4</td>\n",
              "      <td>2</td>\n",
              "    </tr>\n",
              "    <tr>\n",
              "      <th>Toyota Corolla</th>\n",
              "      <td>33.9</td>\n",
              "      <td>4</td>\n",
              "      <td>71.1</td>\n",
              "      <td>65</td>\n",
              "      <td>4.22</td>\n",
              "      <td>1.835</td>\n",
              "      <td>19.90</td>\n",
              "      <td>1</td>\n",
              "      <td>1</td>\n",
              "      <td>4</td>\n",
              "      <td>1</td>\n",
              "    </tr>\n",
              "    <tr>\n",
              "      <th>Toyota Corona</th>\n",
              "      <td>21.5</td>\n",
              "      <td>4</td>\n",
              "      <td>120.1</td>\n",
              "      <td>97</td>\n",
              "      <td>3.70</td>\n",
              "      <td>2.465</td>\n",
              "      <td>20.01</td>\n",
              "      <td>1</td>\n",
              "      <td>0</td>\n",
              "      <td>3</td>\n",
              "      <td>1</td>\n",
              "    </tr>\n",
              "    <tr>\n",
              "      <th>Dodge Challenger</th>\n",
              "      <td>15.5</td>\n",
              "      <td>8</td>\n",
              "      <td>318.0</td>\n",
              "      <td>150</td>\n",
              "      <td>2.76</td>\n",
              "      <td>3.520</td>\n",
              "      <td>16.87</td>\n",
              "      <td>0</td>\n",
              "      <td>0</td>\n",
              "      <td>3</td>\n",
              "      <td>2</td>\n",
              "    </tr>\n",
              "    <tr>\n",
              "      <th>AMC Javelin</th>\n",
              "      <td>15.2</td>\n",
              "      <td>8</td>\n",
              "      <td>304.0</td>\n",
              "      <td>150</td>\n",
              "      <td>3.15</td>\n",
              "      <td>3.435</td>\n",
              "      <td>17.30</td>\n",
              "      <td>0</td>\n",
              "      <td>0</td>\n",
              "      <td>3</td>\n",
              "      <td>2</td>\n",
              "    </tr>\n",
              "    <tr>\n",
              "      <th>Camaro Z28</th>\n",
              "      <td>13.3</td>\n",
              "      <td>8</td>\n",
              "      <td>350.0</td>\n",
              "      <td>245</td>\n",
              "      <td>3.73</td>\n",
              "      <td>3.840</td>\n",
              "      <td>15.41</td>\n",
              "      <td>0</td>\n",
              "      <td>0</td>\n",
              "      <td>3</td>\n",
              "      <td>4</td>\n",
              "    </tr>\n",
              "    <tr>\n",
              "      <th>Pontiac Firebird</th>\n",
              "      <td>19.2</td>\n",
              "      <td>8</td>\n",
              "      <td>400.0</td>\n",
              "      <td>175</td>\n",
              "      <td>3.08</td>\n",
              "      <td>3.845</td>\n",
              "      <td>17.05</td>\n",
              "      <td>0</td>\n",
              "      <td>0</td>\n",
              "      <td>3</td>\n",
              "      <td>2</td>\n",
              "    </tr>\n",
              "    <tr>\n",
              "      <th>Fiat X1-9</th>\n",
              "      <td>27.3</td>\n",
              "      <td>4</td>\n",
              "      <td>79.0</td>\n",
              "      <td>66</td>\n",
              "      <td>4.08</td>\n",
              "      <td>1.935</td>\n",
              "      <td>18.90</td>\n",
              "      <td>1</td>\n",
              "      <td>1</td>\n",
              "      <td>4</td>\n",
              "      <td>1</td>\n",
              "    </tr>\n",
              "    <tr>\n",
              "      <th>Porsche 914-2</th>\n",
              "      <td>26.0</td>\n",
              "      <td>4</td>\n",
              "      <td>120.3</td>\n",
              "      <td>91</td>\n",
              "      <td>4.43</td>\n",
              "      <td>2.140</td>\n",
              "      <td>16.70</td>\n",
              "      <td>0</td>\n",
              "      <td>1</td>\n",
              "      <td>5</td>\n",
              "      <td>2</td>\n",
              "    </tr>\n",
              "    <tr>\n",
              "      <th>Lotus Europa</th>\n",
              "      <td>30.4</td>\n",
              "      <td>4</td>\n",
              "      <td>95.1</td>\n",
              "      <td>113</td>\n",
              "      <td>3.77</td>\n",
              "      <td>1.513</td>\n",
              "      <td>16.90</td>\n",
              "      <td>1</td>\n",
              "      <td>1</td>\n",
              "      <td>5</td>\n",
              "      <td>2</td>\n",
              "    </tr>\n",
              "    <tr>\n",
              "      <th>Ford Pantera L</th>\n",
              "      <td>15.8</td>\n",
              "      <td>8</td>\n",
              "      <td>351.0</td>\n",
              "      <td>264</td>\n",
              "      <td>4.22</td>\n",
              "      <td>3.170</td>\n",
              "      <td>14.50</td>\n",
              "      <td>0</td>\n",
              "      <td>1</td>\n",
              "      <td>5</td>\n",
              "      <td>4</td>\n",
              "    </tr>\n",
              "    <tr>\n",
              "      <th>Ferrari Dino</th>\n",
              "      <td>19.7</td>\n",
              "      <td>6</td>\n",
              "      <td>145.0</td>\n",
              "      <td>175</td>\n",
              "      <td>3.62</td>\n",
              "      <td>2.770</td>\n",
              "      <td>15.50</td>\n",
              "      <td>0</td>\n",
              "      <td>1</td>\n",
              "      <td>5</td>\n",
              "      <td>6</td>\n",
              "    </tr>\n",
              "    <tr>\n",
              "      <th>Maserati Bora</th>\n",
              "      <td>15.0</td>\n",
              "      <td>8</td>\n",
              "      <td>301.0</td>\n",
              "      <td>335</td>\n",
              "      <td>3.54</td>\n",
              "      <td>3.570</td>\n",
              "      <td>14.60</td>\n",
              "      <td>0</td>\n",
              "      <td>1</td>\n",
              "      <td>5</td>\n",
              "      <td>8</td>\n",
              "    </tr>\n",
              "    <tr>\n",
              "      <th>Volvo 142E</th>\n",
              "      <td>21.4</td>\n",
              "      <td>4</td>\n",
              "      <td>121.0</td>\n",
              "      <td>109</td>\n",
              "      <td>4.11</td>\n",
              "      <td>2.780</td>\n",
              "      <td>18.60</td>\n",
              "      <td>1</td>\n",
              "      <td>1</td>\n",
              "      <td>4</td>\n",
              "      <td>2</td>\n",
              "    </tr>\n",
              "  </tbody>\n",
              "</table>\n",
              "</div>"
            ],
            "text/plain": [
              "                      mpg  cyl   disp   hp  drat  ...   qsec  vs  am  gear  carb\n",
              "car_names                                         ...                           \n",
              "Mazda RX4            21.0    6  160.0  110  3.90  ...  16.46   0   1     4     4\n",
              "Mazda RX4 Wag        21.0    6  160.0  110  3.90  ...  17.02   0   1     4     4\n",
              "Datsun 710           22.8    4  108.0   93  3.85  ...  18.61   1   1     4     1\n",
              "Hornet 4 Drive       21.4    6  258.0  110  3.08  ...  19.44   1   0     3     1\n",
              "Hornet Sportabout    18.7    8  360.0  175  3.15  ...  17.02   0   0     3     2\n",
              "Valiant              18.1    6  225.0  105  2.76  ...  20.22   1   0     3     1\n",
              "Duster 360           14.3    8  360.0  245  3.21  ...  15.84   0   0     3     4\n",
              "Merc 240D            24.4    4  146.7   62  3.69  ...  20.00   1   0     4     2\n",
              "Merc 230             22.8    4  140.8   95  3.92  ...  22.90   1   0     4     2\n",
              "Merc 280             19.2    6  167.6  123  3.92  ...  18.30   1   0     4     4\n",
              "Merc 280C            17.8    6  167.6  123  3.92  ...  18.90   1   0     4     4\n",
              "Merc 450SE           16.4    8  275.8  180  3.07  ...  17.40   0   0     3     3\n",
              "Merc 450SL           17.3    8  275.8  180  3.07  ...  17.60   0   0     3     3\n",
              "Merc 450SLC          15.2    8  275.8  180  3.07  ...  18.00   0   0     3     3\n",
              "Cadillac Fleetwood   10.4    8  472.0  205  2.93  ...  17.98   0   0     3     4\n",
              "Lincoln Continental  10.4    8  460.0  215  3.00  ...  17.82   0   0     3     4\n",
              "Chrysler Imperial    14.7    8  440.0  230  3.23  ...  17.42   0   0     3     4\n",
              "Fiat 128             32.4    4   78.7   66  4.08  ...  19.47   1   1     4     1\n",
              "Honda Civic          30.4    4   75.7   52  4.93  ...  18.52   1   1     4     2\n",
              "Toyota Corolla       33.9    4   71.1   65  4.22  ...  19.90   1   1     4     1\n",
              "Toyota Corona        21.5    4  120.1   97  3.70  ...  20.01   1   0     3     1\n",
              "Dodge Challenger     15.5    8  318.0  150  2.76  ...  16.87   0   0     3     2\n",
              "AMC Javelin          15.2    8  304.0  150  3.15  ...  17.30   0   0     3     2\n",
              "Camaro Z28           13.3    8  350.0  245  3.73  ...  15.41   0   0     3     4\n",
              "Pontiac Firebird     19.2    8  400.0  175  3.08  ...  17.05   0   0     3     2\n",
              "Fiat X1-9            27.3    4   79.0   66  4.08  ...  18.90   1   1     4     1\n",
              "Porsche 914-2        26.0    4  120.3   91  4.43  ...  16.70   0   1     5     2\n",
              "Lotus Europa         30.4    4   95.1  113  3.77  ...  16.90   1   1     5     2\n",
              "Ford Pantera L       15.8    8  351.0  264  4.22  ...  14.50   0   1     5     4\n",
              "Ferrari Dino         19.7    6  145.0  175  3.62  ...  15.50   0   1     5     6\n",
              "Maserati Bora        15.0    8  301.0  335  3.54  ...  14.60   0   1     5     8\n",
              "Volvo 142E           21.4    4  121.0  109  4.11  ...  18.60   1   1     4     2\n",
              "\n",
              "[32 rows x 11 columns]"
            ]
          },
          "metadata": {
            "tags": []
          },
          "execution_count": 244
        }
      ]
    },
    {
      "cell_type": "code",
      "metadata": {
        "id": "Uen_QSb5f7WJ"
      },
      "source": [
        "# Import the required package \n",
        "import matplotlib.pyplot as plt"
      ],
      "execution_count": 245,
      "outputs": []
    },
    {
      "cell_type": "code",
      "metadata": {
        "id": "LXZVzi8mf-O3",
        "colab": {
          "base_uri": "https://localhost:8080/",
          "height": 279
        },
        "outputId": "352a34be-a3ec-437d-fe19-3e7261d4c8c7"
      },
      "source": [
        "# TO DO : Create a scatter plot with mpg and hp by providing xlabel and ylabel\n",
        "\n",
        "plt.scatter(cars.mpg,cars.hp)\n",
        "plt.xlabel('mpg')\n",
        "plt.ylabel('hp')\n",
        "\n",
        "plt.show()"
      ],
      "execution_count": 246,
      "outputs": [
        {
          "output_type": "display_data",
          "data": {
            "image/png": "[encoded data removed]",
            "text/plain": [
              "<Figure size 432x288 with 1 Axes>"
            ]
          },
          "metadata": {
            "tags": [],
            "needs_background": "light"
          }
        }
      ]
    },
    {
      "cell_type": "code",
      "metadata": {
        "id": "1Y5zWKnBgFiY",
        "colab": {
          "base_uri": "https://localhost:8080/",
          "height": 279
        },
        "outputId": "1c8c65d6-7ba8-476e-9df7-774298a283d1"
      },
      "source": [
        "# TO DO: Change the color to red in the previous code\n",
        "plt.scatter(cars.mpg, cars.hp, color = 'red')\n",
        "plt.xlabel('mpg')\n",
        "plt.ylabel('hp')\n",
        "\n",
        "plt.show()\n"
      ],
      "execution_count": 247,
      "outputs": [
        {
          "output_type": "display_data",
          "data": {
            "image/png": "[encoded data removed]",
            "text/plain": [
              "<Figure size 432x288 with 1 Axes>"
            ]
          },
          "metadata": {
            "tags": [],
            "needs_background": "light"
          }
        }
      ]
    },
    {
      "cell_type": "code",
      "metadata": {
        "id": "CT_IoDIsgYBT",
        "colab": {
          "base_uri": "https://localhost:8080/",
          "height": 173
        },
        "outputId": "2fe9ce07-15e0-4c0c-a241-45b73d5c6992"
      },
      "source": [
        "# TO DO: Create crosstab for cyl(cylinder) and columns as count\n",
        "\n",
        "pd.crosstab(cars.cyl, columns='count')\n",
        "\n",
        "# A cross-tabulation (or crosstab) is a two- (or more) dimensional table that records the number (frequency) of \n",
        "# respondents that have the specific characteristics described in the cells of the table.\n",
        "\n",
        "\n"
      ],
      "execution_count": 248,
      "outputs": [
        {
          "output_type": "execute_result",
          "data": {
            "text/html": [
              "<div>\n",
              "<style scoped>\n",
              "    .dataframe tbody tr th:only-of-type {\n",
              "        vertical-align: middle;\n",
              "    }\n",
              "\n",
              "    .dataframe tbody tr th {\n",
              "        vertical-align: top;\n",
              "    }\n",
              "\n",
              "    .dataframe thead th {\n",
              "        text-align: right;\n",
              "    }\n",
              "</style>\n",
              "<table border=\"1\" class=\"dataframe\">\n",
              "  <thead>\n",
              "    <tr style=\"text-align: right;\">\n",
              "      <th>col_0</th>\n",
              "      <th>count</th>\n",
              "    </tr>\n",
              "    <tr>\n",
              "      <th>cyl</th>\n",
              "      <th></th>\n",
              "    </tr>\n",
              "  </thead>\n",
              "  <tbody>\n",
              "    <tr>\n",
              "      <th>4</th>\n",
              "      <td>11</td>\n",
              "    </tr>\n",
              "    <tr>\n",
              "      <th>6</th>\n",
              "      <td>7</td>\n",
              "    </tr>\n",
              "    <tr>\n",
              "      <th>8</th>\n",
              "      <td>14</td>\n",
              "    </tr>\n",
              "  </tbody>\n",
              "</table>\n",
              "</div>"
            ],
            "text/plain": [
              "col_0  count\n",
              "cyl         \n",
              "4         11\n",
              "6          7\n",
              "8         14"
            ]
          },
          "metadata": {
            "tags": []
          },
          "execution_count": 248
        }
      ]
    },
    {
      "cell_type": "code",
      "metadata": {
        "id": "EKKzhNmZgibG",
        "colab": {
          "base_uri": "https://localhost:8080/",
          "height": 276
        },
        "outputId": "7e0ea7b1-0aff-43d6-be05-aa5b6741632c"
      },
      "source": [
        "# Other way to create the crosstab\n",
        "import numpy as np \n",
        "import pandas as pd\n",
        "import seaborn as sns\n",
        "import matplotlib.pyplot as plt\n",
        "\n",
        "ct = pd.crosstab(cars.cyl, cars.cyl)\n",
        "\n",
        "ct.plot.bar(stacked=True)    # Try staked=False and then by removing stakced part\n",
        "plt.legend(title='mark')   # Optional\n",
        "\n",
        "plt.show()\n"
      ],
      "execution_count": 249,
      "outputs": [
        {
          "output_type": "display_data",
          "data": {
            "image/png": "[encoded data removed]",
            "text/plain": [
              "<Figure size 432x288 with 1 Axes>"
            ]
          },
          "metadata": {
            "tags": [],
            "needs_background": "light"
          }
        }
      ]
    },
    {
      "cell_type": "code",
      "metadata": {
        "id": "jP520D1qgshX",
        "colab": {
          "base_uri": "https://localhost:8080/",
          "height": 276
        },
        "outputId": "b0c44176-19c3-414d-9283-90c4571bdb48"
      },
      "source": [
        "# TO DO: Create crosstab for cyl(cylinder) and am as 'ct2' and create a bar plot\n",
        "\n",
        "# Reading reference: https://pandas.pydata.org/pandas-docs/stable/reference/api/pandas.DataFrame.groupby.html\n",
        "\n",
        "ct2 = pd.crosstab(cars.cyl, cars.am)\n",
        "\n",
        "#ct2.plot.bar(stacked=False)    # Try staked=False and then by removing stakced part\n",
        "ct2.plot.bar()\n",
        "plt.legend(title='mark')   # Optional\n",
        "\n",
        "plt.show()\n",
        "\n"
      ],
      "execution_count": 250,
      "outputs": [
        {
          "output_type": "display_data",
          "data": {
            "image/png": "[encoded data removed]",
            "text/plain": [
              "<Figure size 432x288 with 1 Axes>"
            ]
          },
          "metadata": {
            "tags": [],
            "needs_background": "light"
          }
        }
      ]
    },
    {
      "cell_type": "code",
      "metadata": {
        "id": "pmcbk5KDg18x",
        "colab": {
          "base_uri": "https://localhost:8080/",
          "height": 327
        },
        "outputId": "0e1a798a-494c-467e-a3f5-8d8f8f427d02"
      },
      "source": [
        "# TO DO: Create groupby (cyl) to visualize mpg and hp in a bar chart\n",
        "# Hint: Use nunique() \n",
        "\n",
        "\n",
        "cars.groupby('cyl')['mpg', 'hp'].nunique().plot(kind='bar')\n"
      ],
      "execution_count": 251,
      "outputs": [
        {
          "output_type": "stream",
          "text": [
            "/usr/local/lib/python3.7/dist-packages/ipykernel_launcher.py:5: FutureWarning: Indexing with multiple keys (implicitly converted to a tuple of keys) will be deprecated, use a list instead.\n",
            "  \"\"\"\n"
          ],
          "name": "stderr"
        },
        {
          "output_type": "execute_result",
          "data": {
            "text/plain": [
              "<matplotlib.axes._subplots.AxesSubplot at 0x7f04e62cc6d0>"
            ]
          },
          "metadata": {
            "tags": []
          },
          "execution_count": 251
        },
        {
          "output_type": "display_data",
          "data": {
            "image/png": "[encoded data removed]",
            "text/plain": [
              "<Figure size 432x288 with 1 Axes>"
            ]
          },
          "metadata": {
            "tags": [],
            "needs_background": "light"
          }
        }
      ]
    },
    {
      "cell_type": "code",
      "metadata": {
        "id": "QN7JkEalhHYu",
        "colab": {
          "base_uri": "https://localhost:8080/",
          "height": 350
        },
        "outputId": "f007a4a5-7bff-47e3-dde5-ed4f75882bdd"
      },
      "source": [
        "# TO DO: Create a pie chart for cyl count\n",
        "\n",
        "plt.pie(cars.cyl.value_counts(), labels=[4, 6, 8])\n"
      ],
      "execution_count": 267,
      "outputs": [
        {
          "output_type": "execute_result",
          "data": {
            "text/plain": [
              "([<matplotlib.patches.Wedge at 0x7f04e6062f90>,\n",
              "  <matplotlib.patches.Wedge at 0x7f04e619f3d0>,\n",
              "  <matplotlib.patches.Wedge at 0x7f04e619f2d0>],\n",
              " [Text(0.21459935421774118, 1.0788638084435536, '4'),\n",
              "  Text(-0.8503114986990109, -0.6978326125800098, '6'),\n",
              "  Text(0.8503114986990103, -0.6978326125800106, '8')])"
            ]
          },
          "metadata": {
            "tags": []
          },
          "execution_count": 267
        },
        {
          "output_type": "display_data",
          "data": {
            "image/png": "[encoded data removed]",
            "text/plain": [
              "<Figure size 432x288 with 1 Axes>"
            ]
          },
          "metadata": {
            "tags": []
          }
        }
      ]
    },
    {
      "cell_type": "code",
      "metadata": {
        "id": "8BqEKvMJhZR3",
        "colab": {
          "base_uri": "https://localhost:8080/",
          "height": 316
        },
        "outputId": "959d8f7f-7613-4017-c887-6aeacfb7ccfd"
      },
      "source": [
        "# TO DO: Create a Histogram for MPG column\n",
        "# Reading: https://pandas.pydata.org/pandas-docs/stable/reference/api/pandas.DataFrame.plot.hist.html\n",
        "\n",
        "plt.hist(cars.mpg, bins = 5, color='green')\n"
      ],
      "execution_count": 272,
      "outputs": [
        {
          "output_type": "execute_result",
          "data": {
            "text/plain": [
              "(array([ 6., 12.,  8.,  2.,  4.]),\n",
              " array([10.4, 15.1, 19.8, 24.5, 29.2, 33.9]),\n",
              " <a list of 5 Patch objects>)"
            ]
          },
          "metadata": {
            "tags": []
          },
          "execution_count": 272
        },
        {
          "output_type": "display_data",
          "data": {
            "image/png": "[encoded data removed]",
            "text/plain": [
              "<Figure size 432x288 with 1 Axes>"
            ]
          },
          "metadata": {
            "tags": [],
            "needs_background": "light"
          }
        }
      ]
    },
    {
      "cell_type": "code",
      "metadata": {
        "id": "qtJQIr2yRypt"
      },
      "source": [
        ""
      ],
      "execution_count": null,
      "outputs": []
    }
  ]
}